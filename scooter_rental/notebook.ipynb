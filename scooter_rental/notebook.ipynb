{
 "cells": [
  {
   "cell_type": "markdown",
   "id": "20d32948",
   "metadata": {
    "toc": true
   },
   "source": [
    "<h1>Table of Contents<span class=\"tocSkip\"></span></h1>\n",
    "<div class=\"toc\"><ul class=\"toc-item\"><li><span><a href=\"#Data-Overview\" data-toc-modified-id=\"Data-Overview-1\"><span class=\"toc-item-num\">1&nbsp;&nbsp;</span>Data Overview</a></span><ul class=\"toc-item\"><li><span><a href=\"#Import-libraries,-then-read-the-data-from-the-CSV-file-into-a-DataFrame-and-save-it-to-the-variable-data.\" data-toc-modified-id=\"Import-libraries,-then-read-the-data-from-the-CSV-file-into-a-DataFrame-and-save-it-to-the-variable-data.-1.1\"><span class=\"toc-item-num\">1.1&nbsp;&nbsp;</span>Import libraries, then read the data from the CSV file into a DataFrame and save it to the variable data.</a></span></li><li><span><a href=\"#Display-the-first-10-rows-to-get-an-overview-of-the-data.\" data-toc-modified-id=\"Display-the-first-10-rows-to-get-an-overview-of-the-data.-1.2\"><span class=\"toc-item-num\">1.2&nbsp;&nbsp;</span>Display the first 10 rows to get an overview of the data.</a></span></li></ul></li><li><span><a href=\"#Data-Preprocessing\" data-toc-modified-id=\"Data-Preprocessing-2\"><span class=\"toc-item-num\">2&nbsp;&nbsp;</span>Data Preprocessing</a></span><ul class=\"toc-item\"><li><span><a href=\"#Let's-convert-the-date-column-to-a-datetime-data-type.\" data-toc-modified-id=\"Let's-convert-the-date-column-to-a-datetime-data-type.-2.1\"><span class=\"toc-item-num\">2.1&nbsp;&nbsp;</span>Let's convert the <code>date</code> column to a datetime data type.</a></span></li><li><span><a href=\"#Add-a-new-column-with-number-of-month.\" data-toc-modified-id=\"Add-a-new-column-with-number-of-month.-2.2\"><span class=\"toc-item-num\">2.2&nbsp;&nbsp;</span>Add a new column with number of month.</a></span></li><li><span><a href=\"#Let's-check-duplicates-in-dataframes-and-process-them.\" data-toc-modified-id=\"Let's-check-duplicates-in-dataframes-and-process-them.-2.3\"><span class=\"toc-item-num\">2.3&nbsp;&nbsp;</span>Let's check duplicates in dataframes and process them.</a></span></li></ul></li><li><span><a href=\"#Exploratory-data-analysis-(EDA)\" data-toc-modified-id=\"Exploratory-data-analysis-(EDA)-3\"><span class=\"toc-item-num\">3&nbsp;&nbsp;</span>Exploratory data analysis (EDA)</a></span><ul class=\"toc-item\"><li><span><a href=\"#Frequency-of-occurrence-of-cities.\" data-toc-modified-id=\"Frequency-of-occurrence-of-cities.-3.1\"><span class=\"toc-item-num\">3.1&nbsp;&nbsp;</span>Frequency of occurrence of cities.</a></span></li><li><span><a href=\"#Ratio-of-users-with-and-without-subscription.\" data-toc-modified-id=\"Ratio-of-users-with-and-without-subscription.-3.2\"><span class=\"toc-item-num\">3.2&nbsp;&nbsp;</span>Ratio of users with and without subscription.</a></span></li><li><span><a href=\"#Age-of-users\" data-toc-modified-id=\"Age-of-users-3.3\"><span class=\"toc-item-num\">3.3&nbsp;&nbsp;</span>Age of users</a></span></li><li><span><a href=\"#The-distance-the-user-traveled-in-one-trip.\" data-toc-modified-id=\"The-distance-the-user-traveled-in-one-trip.-3.4\"><span class=\"toc-item-num\">3.4&nbsp;&nbsp;</span>The distance the user traveled in one trip.</a></span></li><li><span><a href=\"#Duration-of-trips.\" data-toc-modified-id=\"Duration-of-trips.-3.5\"><span class=\"toc-item-num\">3.5&nbsp;&nbsp;</span>Duration of trips.</a></span></li></ul></li><li><span><a href=\"#Merging-data\" data-toc-modified-id=\"Merging-data-4\"><span class=\"toc-item-num\">4&nbsp;&nbsp;</span>Merging data</a></span><ul class=\"toc-item\"><li><span><a href=\"#Let's-combine-data-about-users,-trips-and-subscriptions-into-one-dataframe.\" data-toc-modified-id=\"Let's-combine-data-about-users,-trips-and-subscriptions-into-one-dataframe.-4.1\"><span class=\"toc-item-num\">4.1&nbsp;&nbsp;</span>Let's combine data about users, trips and subscriptions into one dataframe.</a></span></li><li><span><a href=\"#Let's-create-two-more-dataframes-from-the-dataframe-created-in-the-previous-step.\" data-toc-modified-id=\"Let's-create-two-more-dataframes-from-the-dataframe-created-in-the-previous-step.-4.2\"><span class=\"toc-item-num\">4.2&nbsp;&nbsp;</span>Let's create two more dataframes from the dataframe created in the previous step.</a></span></li><li><span><a href=\"#Visualize-information-about-travel-distance-and-time-for-users-of-both-categories.\" data-toc-modified-id=\"Visualize-information-about-travel-distance-and-time-for-users-of-both-categories.-4.3\"><span class=\"toc-item-num\">4.3&nbsp;&nbsp;</span>Visualize information about travel distance and time for users of both categories.</a></span></li></ul></li><li><span><a href=\"#Calculating-revenue\" data-toc-modified-id=\"Calculating-revenue-5\"><span class=\"toc-item-num\">5&nbsp;&nbsp;</span>Calculating revenue</a></span><ul class=\"toc-item\"><li><span><a href=\"#Let's-create-a-dataframe-with-aggregated-trip-data-based-on-the-dataframe-with-merged-data-from-step-4:\" data-toc-modified-id=\"Let's-create-a-dataframe-with-aggregated-trip-data-based-on-the-dataframe-with-merged-data-from-step-4:-5.1\"><span class=\"toc-item-num\">5.1&nbsp;&nbsp;</span>Let's create a dataframe with aggregated trip data based on the dataframe with merged data from step 4:</a></span></li><li><span><a href=\"#In-the-same-data-frame,--add-a-column-with-the-monthly-revenue-that-each-user-brought-in.\" data-toc-modified-id=\"In-the-same-data-frame,--add-a-column-with-the-monthly-revenue-that-each-user-brought-in.-5.2\"><span class=\"toc-item-num\">5.2&nbsp;&nbsp;</span>In the same data frame,  add a column with the monthly revenue that each user brought in.</a></span></li></ul></li><li><span><a href=\"#Testing-hypotheses\" data-toc-modified-id=\"Testing-hypotheses-6\"><span class=\"toc-item-num\">6&nbsp;&nbsp;</span>Testing hypotheses</a></span><ul class=\"toc-item\"><li><span><a href=\"#It-is-important-to-understand-if-users-with-a-subscription-spend-more-time-on-trips.\" data-toc-modified-id=\"It-is-important-to-understand-if-users-with-a-subscription-spend-more-time-on-trips.-6.1\"><span class=\"toc-item-num\">6.1&nbsp;&nbsp;</span>It is important to understand if users with a subscription spend more time on trips.</a></span></li><li><span><a href=\"#Testing-if-the-Average-Distance-per-Ride-for-Subscribers-Exceeds-3130-Meters\" data-toc-modified-id=\"Testing-if-the-Average-Distance-per-Ride-for-Subscribers-Exceeds-3130-Meters-6.2\"><span class=\"toc-item-num\">6.2&nbsp;&nbsp;</span>Testing if the Average Distance per Ride for Subscribers Exceeds 3130 Meters</a></span></li><li><span><a href=\"#Testing-if-the-Monthly-Revenue-from-Subscribers-Exceeds-that-of-Non-Subscribers\" data-toc-modified-id=\"Testing-if-the-Monthly-Revenue-from-Subscribers-Exceeds-that-of-Non-Subscribers-6.3\"><span class=\"toc-item-num\">6.3&nbsp;&nbsp;</span>Testing if the Monthly Revenue from Subscribers Exceeds that of Non-Subscribers</a></span></li></ul></li><li><span><a href=\"#Research-Summary\" data-toc-modified-id=\"Research-Summary-7\"><span class=\"toc-item-num\">7&nbsp;&nbsp;</span>Research Summary</a></span></li></ul></div>"
   ]
  },
  {
   "cell_type": "markdown",
   "id": "e78fdc55",
   "metadata": {},
   "source": [
    "# Scooter Rental Insights: A Data-Driven Strategy for GoFast\n",
    "\n",
    "You are an analyst for the popular scooter rental service GoFast. The company has provided data on some users from multiple cities and their trips. "
   ]
  },
  {
   "cell_type": "markdown",
   "id": "5775410f",
   "metadata": {},
   "source": [
    "**Objective**\n",
    "\n",
    "Your task is to analyze this data and test several hypotheses that could help the business grow.\n",
    "\n",
    "To travel around the city, GoFast users rely on a mobile app. The service offers two pricing models:\n",
    "\n",
    "1. Without a subscription:\n",
    "- No subscription fee.\n",
    "- The cost per minute of riding: 8 ScootCoins.\n",
    "- Trip start fee: 50 ScootCoins.\n",
    "\n",
    "2. With Ultra subscription:\n",
    "- Subscription fee: 199 ScootCoins per month.\n",
    "- Cost per minute of riding: 6 ScootCoins.\n",
    "- No start fee.\n",
    "\n",
    "**Data Overview**\n",
    "\n",
    "**Users Data** (`users_go.csv`):\n",
    "- `user_id` — unique user identifier\n",
    "- `name` — user's name\n",
    "- `age` — user's age\n",
    "- `city` — city of residence\n",
    "- `subscription_type` — type of subscription (free, ultra)\n",
    "\n",
    "**Trips Data** (`rides_go.csv`):\n",
    "- `user_id` — unique user identifier\n",
    "- `distance` — distance traveled during the session (in m)\n",
    "- `duration` — duration of the session (in minutes)\n",
    "- `date` — date of the trip\n",
    "\n",
    "**Subscriptions Data** (`subscriptions_go.csv`):\n",
    "- `subscription_type` — type of subscription\n",
    "- `minute_price` — cost per minute for the given subscription\n",
    "- `start_ride_price` — trip start cost\n",
    "- `subscription_fee` — monthly subscription fee\n",
    "\n",
    "\n",
    "**Research Process**\n",
    "\n",
    "- **Load the Data:** Imported user, trip, and subscription datasets for analysis.\n",
    "- **Preprocess the Data:** Cleaned and prepared data by handling duplicates and formatting dates.\n",
    "- **Conduct Exploratory Data Analysis:** Analyzed user demographics, trip patterns, and city popularity.\n",
    "- **Merge Datasets:** Combined user, trip, and subscription data for a comprehensive view.\n",
    "- **Calculate Total Revenue:** Computed revenue based on trip activity and subscription status.\n",
    "- **Test Business Hypotheses:** Evaluated hypotheses on user behavior, trip distance, and revenue impact."
   ]
  },
  {
   "cell_type": "markdown",
   "id": "a45a78f6",
   "metadata": {},
   "source": [
    "## Data Overview"
   ]
  },
  {
   "cell_type": "markdown",
   "id": "354fafe3",
   "metadata": {},
   "source": [
    "### Import libraries, then read the data from the CSV file into a DataFrame and save it to the variable data."
   ]
  },
  {
   "cell_type": "code",
   "execution_count": 1,
   "id": "c43cc286",
   "metadata": {},
   "outputs": [],
   "source": [
    "import pandas as pd\n",
    "import matplotlib.pyplot as plt\n",
    "import seaborn as sns\n",
    "import numpy as np\n",
    "from scipy import stats as st"
   ]
  },
  {
   "cell_type": "code",
   "execution_count": 2,
   "id": "ca0a93a7",
   "metadata": {},
   "outputs": [],
   "source": [
    "data_users = pd.read_csv('/Users/arina/Downloads/my-study-projects/scooter_rental/users_go.csv') \n",
    "data_rides = pd.read_csv('/Users/arina/Downloads/my-study-projects/scooter_rental/rides_go.csv') \n",
    "data_subscriptions = pd.read_csv('/Users/arina/Downloads/my-study-projects/scooter_rental/subscriptions_go.csv') "
   ]
  },
  {
   "cell_type": "markdown",
   "id": "0c7788a4",
   "metadata": {},
   "source": [
    "### Display the first 10 rows to get an overview of the data."
   ]
  },
  {
   "cell_type": "code",
   "execution_count": 3,
   "id": "ad1fc19c",
   "metadata": {},
   "outputs": [
    {
     "data": {
      "text/html": [
       "<div>\n",
       "<style scoped>\n",
       "    .dataframe tbody tr th:only-of-type {\n",
       "        vertical-align: middle;\n",
       "    }\n",
       "\n",
       "    .dataframe tbody tr th {\n",
       "        vertical-align: top;\n",
       "    }\n",
       "\n",
       "    .dataframe thead th {\n",
       "        text-align: right;\n",
       "    }\n",
       "</style>\n",
       "<table border=\"1\" class=\"dataframe\">\n",
       "  <thead>\n",
       "    <tr style=\"text-align: right;\">\n",
       "      <th></th>\n",
       "      <th>user_id</th>\n",
       "      <th>name</th>\n",
       "      <th>age</th>\n",
       "      <th>city</th>\n",
       "      <th>subscription_type</th>\n",
       "    </tr>\n",
       "  </thead>\n",
       "  <tbody>\n",
       "    <tr>\n",
       "      <th>0</th>\n",
       "      <td>1</td>\n",
       "      <td>Ethan</td>\n",
       "      <td>22</td>\n",
       "      <td>Silverbrook</td>\n",
       "      <td>ultra</td>\n",
       "    </tr>\n",
       "    <tr>\n",
       "      <th>1</th>\n",
       "      <td>2</td>\n",
       "      <td>Olivia</td>\n",
       "      <td>31</td>\n",
       "      <td>Ashfordbury</td>\n",
       "      <td>ultra</td>\n",
       "    </tr>\n",
       "    <tr>\n",
       "      <th>2</th>\n",
       "      <td>3</td>\n",
       "      <td>Liam</td>\n",
       "      <td>20</td>\n",
       "      <td>Stormhaven</td>\n",
       "      <td>ultra</td>\n",
       "    </tr>\n",
       "    <tr>\n",
       "      <th>3</th>\n",
       "      <td>4</td>\n",
       "      <td>Ava</td>\n",
       "      <td>26</td>\n",
       "      <td>Brightwater</td>\n",
       "      <td>ultra</td>\n",
       "    </tr>\n",
       "    <tr>\n",
       "      <th>4</th>\n",
       "      <td>5</td>\n",
       "      <td>Noah</td>\n",
       "      <td>28</td>\n",
       "      <td>Ashfordbury</td>\n",
       "      <td>ultra</td>\n",
       "    </tr>\n",
       "    <tr>\n",
       "      <th>5</th>\n",
       "      <td>6</td>\n",
       "      <td>Emma</td>\n",
       "      <td>25</td>\n",
       "      <td>Misty Pines</td>\n",
       "      <td>ultra</td>\n",
       "    </tr>\n",
       "    <tr>\n",
       "      <th>6</th>\n",
       "      <td>7</td>\n",
       "      <td>James</td>\n",
       "      <td>23</td>\n",
       "      <td>Ashfordbury</td>\n",
       "      <td>ultra</td>\n",
       "    </tr>\n",
       "    <tr>\n",
       "      <th>7</th>\n",
       "      <td>8</td>\n",
       "      <td>Isabella</td>\n",
       "      <td>23</td>\n",
       "      <td>Misty Pines</td>\n",
       "      <td>ultra</td>\n",
       "    </tr>\n",
       "    <tr>\n",
       "      <th>8</th>\n",
       "      <td>9</td>\n",
       "      <td>Benjamin</td>\n",
       "      <td>21</td>\n",
       "      <td>Thornhill</td>\n",
       "      <td>ultra</td>\n",
       "    </tr>\n",
       "    <tr>\n",
       "      <th>9</th>\n",
       "      <td>10</td>\n",
       "      <td>Lucas</td>\n",
       "      <td>18</td>\n",
       "      <td>Willowbrook</td>\n",
       "      <td>ultra</td>\n",
       "    </tr>\n",
       "  </tbody>\n",
       "</table>\n",
       "</div>"
      ],
      "text/plain": [
       "   user_id      name  age         city subscription_type\n",
       "0        1     Ethan   22  Silverbrook             ultra\n",
       "1        2    Olivia   31  Ashfordbury             ultra\n",
       "2        3      Liam   20   Stormhaven             ultra\n",
       "3        4       Ava   26  Brightwater             ultra\n",
       "4        5      Noah   28  Ashfordbury             ultra\n",
       "5        6      Emma   25  Misty Pines             ultra\n",
       "6        7     James   23  Ashfordbury             ultra\n",
       "7        8  Isabella   23  Misty Pines             ultra\n",
       "8        9  Benjamin   21    Thornhill             ultra\n",
       "9       10     Lucas   18  Willowbrook             ultra"
      ]
     },
     "execution_count": 3,
     "metadata": {},
     "output_type": "execute_result"
    }
   ],
   "source": [
    "data_users.head(10)"
   ]
  },
  {
   "cell_type": "code",
   "execution_count": 4,
   "id": "5f119efc",
   "metadata": {},
   "outputs": [
    {
     "name": "stdout",
     "output_type": "stream",
     "text": [
      "<class 'pandas.core.frame.DataFrame'>\n",
      "RangeIndex: 1565 entries, 0 to 1564\n",
      "Data columns (total 5 columns):\n",
      " #   Column             Non-Null Count  Dtype \n",
      "---  ------             --------------  ----- \n",
      " 0   user_id            1565 non-null   int64 \n",
      " 1   name               1565 non-null   object\n",
      " 2   age                1565 non-null   int64 \n",
      " 3   city               1565 non-null   object\n",
      " 4   subscription_type  1565 non-null   object\n",
      "dtypes: int64(2), object(3)\n",
      "memory usage: 61.3+ KB\n"
     ]
    }
   ],
   "source": [
    "data_users.info() "
   ]
  },
  {
   "cell_type": "code",
   "execution_count": 5,
   "id": "0ab76a81",
   "metadata": {},
   "outputs": [
    {
     "data": {
      "text/html": [
       "<div>\n",
       "<style scoped>\n",
       "    .dataframe tbody tr th:only-of-type {\n",
       "        vertical-align: middle;\n",
       "    }\n",
       "\n",
       "    .dataframe tbody tr th {\n",
       "        vertical-align: top;\n",
       "    }\n",
       "\n",
       "    .dataframe thead th {\n",
       "        text-align: right;\n",
       "    }\n",
       "</style>\n",
       "<table border=\"1\" class=\"dataframe\">\n",
       "  <thead>\n",
       "    <tr style=\"text-align: right;\">\n",
       "      <th></th>\n",
       "      <th>user_id</th>\n",
       "      <th>distance</th>\n",
       "      <th>duration</th>\n",
       "      <th>date</th>\n",
       "    </tr>\n",
       "  </thead>\n",
       "  <tbody>\n",
       "    <tr>\n",
       "      <th>0</th>\n",
       "      <td>1</td>\n",
       "      <td>4409.919140</td>\n",
       "      <td>25.599769</td>\n",
       "      <td>2021-01-01</td>\n",
       "    </tr>\n",
       "    <tr>\n",
       "      <th>1</th>\n",
       "      <td>1</td>\n",
       "      <td>2617.592153</td>\n",
       "      <td>15.816871</td>\n",
       "      <td>2021-01-18</td>\n",
       "    </tr>\n",
       "    <tr>\n",
       "      <th>2</th>\n",
       "      <td>1</td>\n",
       "      <td>754.159807</td>\n",
       "      <td>6.232113</td>\n",
       "      <td>2021-04-20</td>\n",
       "    </tr>\n",
       "    <tr>\n",
       "      <th>3</th>\n",
       "      <td>1</td>\n",
       "      <td>2694.783254</td>\n",
       "      <td>18.511000</td>\n",
       "      <td>2021-08-11</td>\n",
       "    </tr>\n",
       "    <tr>\n",
       "      <th>4</th>\n",
       "      <td>1</td>\n",
       "      <td>4028.687306</td>\n",
       "      <td>26.265803</td>\n",
       "      <td>2021-08-28</td>\n",
       "    </tr>\n",
       "    <tr>\n",
       "      <th>5</th>\n",
       "      <td>1</td>\n",
       "      <td>2770.890808</td>\n",
       "      <td>16.650138</td>\n",
       "      <td>2021-10-09</td>\n",
       "    </tr>\n",
       "    <tr>\n",
       "      <th>6</th>\n",
       "      <td>1</td>\n",
       "      <td>3039.020292</td>\n",
       "      <td>14.927879</td>\n",
       "      <td>2021-10-19</td>\n",
       "    </tr>\n",
       "    <tr>\n",
       "      <th>7</th>\n",
       "      <td>1</td>\n",
       "      <td>2842.118050</td>\n",
       "      <td>23.117468</td>\n",
       "      <td>2021-11-06</td>\n",
       "    </tr>\n",
       "    <tr>\n",
       "      <th>8</th>\n",
       "      <td>1</td>\n",
       "      <td>3412.690668</td>\n",
       "      <td>15.238072</td>\n",
       "      <td>2021-11-14</td>\n",
       "    </tr>\n",
       "    <tr>\n",
       "      <th>9</th>\n",
       "      <td>1</td>\n",
       "      <td>748.690645</td>\n",
       "      <td>15.041884</td>\n",
       "      <td>2021-11-22</td>\n",
       "    </tr>\n",
       "  </tbody>\n",
       "</table>\n",
       "</div>"
      ],
      "text/plain": [
       "   user_id     distance   duration        date\n",
       "0        1  4409.919140  25.599769  2021-01-01\n",
       "1        1  2617.592153  15.816871  2021-01-18\n",
       "2        1   754.159807   6.232113  2021-04-20\n",
       "3        1  2694.783254  18.511000  2021-08-11\n",
       "4        1  4028.687306  26.265803  2021-08-28\n",
       "5        1  2770.890808  16.650138  2021-10-09\n",
       "6        1  3039.020292  14.927879  2021-10-19\n",
       "7        1  2842.118050  23.117468  2021-11-06\n",
       "8        1  3412.690668  15.238072  2021-11-14\n",
       "9        1   748.690645  15.041884  2021-11-22"
      ]
     },
     "execution_count": 5,
     "metadata": {},
     "output_type": "execute_result"
    }
   ],
   "source": [
    "data_rides.head(10)"
   ]
  },
  {
   "cell_type": "code",
   "execution_count": 6,
   "id": "e58b1584",
   "metadata": {},
   "outputs": [
    {
     "name": "stdout",
     "output_type": "stream",
     "text": [
      "<class 'pandas.core.frame.DataFrame'>\n",
      "RangeIndex: 18068 entries, 0 to 18067\n",
      "Data columns (total 4 columns):\n",
      " #   Column    Non-Null Count  Dtype  \n",
      "---  ------    --------------  -----  \n",
      " 0   user_id   18068 non-null  int64  \n",
      " 1   distance  18068 non-null  float64\n",
      " 2   duration  18068 non-null  float64\n",
      " 3   date      18068 non-null  object \n",
      "dtypes: float64(2), int64(1), object(1)\n",
      "memory usage: 564.8+ KB\n"
     ]
    }
   ],
   "source": [
    "data_rides.info()"
   ]
  },
  {
   "cell_type": "code",
   "execution_count": 7,
   "id": "14c5df61",
   "metadata": {},
   "outputs": [
    {
     "data": {
      "text/html": [
       "<div>\n",
       "<style scoped>\n",
       "    .dataframe tbody tr th:only-of-type {\n",
       "        vertical-align: middle;\n",
       "    }\n",
       "\n",
       "    .dataframe tbody tr th {\n",
       "        vertical-align: top;\n",
       "    }\n",
       "\n",
       "    .dataframe thead th {\n",
       "        text-align: right;\n",
       "    }\n",
       "</style>\n",
       "<table border=\"1\" class=\"dataframe\">\n",
       "  <thead>\n",
       "    <tr style=\"text-align: right;\">\n",
       "      <th></th>\n",
       "      <th>subscription_type</th>\n",
       "      <th>minute_price</th>\n",
       "      <th>start_ride_price</th>\n",
       "      <th>subscription_fee</th>\n",
       "    </tr>\n",
       "  </thead>\n",
       "  <tbody>\n",
       "    <tr>\n",
       "      <th>0</th>\n",
       "      <td>free</td>\n",
       "      <td>8</td>\n",
       "      <td>50</td>\n",
       "      <td>0</td>\n",
       "    </tr>\n",
       "    <tr>\n",
       "      <th>1</th>\n",
       "      <td>ultra</td>\n",
       "      <td>6</td>\n",
       "      <td>0</td>\n",
       "      <td>199</td>\n",
       "    </tr>\n",
       "  </tbody>\n",
       "</table>\n",
       "</div>"
      ],
      "text/plain": [
       "  subscription_type  minute_price  start_ride_price  subscription_fee\n",
       "0              free             8                50                 0\n",
       "1             ultra             6                 0               199"
      ]
     },
     "execution_count": 7,
     "metadata": {},
     "output_type": "execute_result"
    }
   ],
   "source": [
    "data_subscriptions.head(10)"
   ]
  },
  {
   "cell_type": "code",
   "execution_count": 8,
   "id": "6b704ef2",
   "metadata": {},
   "outputs": [
    {
     "name": "stdout",
     "output_type": "stream",
     "text": [
      "<class 'pandas.core.frame.DataFrame'>\n",
      "RangeIndex: 2 entries, 0 to 1\n",
      "Data columns (total 4 columns):\n",
      " #   Column             Non-Null Count  Dtype \n",
      "---  ------             --------------  ----- \n",
      " 0   subscription_type  2 non-null      object\n",
      " 1   minute_price       2 non-null      int64 \n",
      " 2   start_ride_price   2 non-null      int64 \n",
      " 3   subscription_fee   2 non-null      int64 \n",
      "dtypes: int64(3), object(1)\n",
      "memory usage: 196.0+ bytes\n"
     ]
    }
   ],
   "source": [
    "data_subscriptions.info() "
   ]
  },
  {
   "cell_type": "markdown",
   "id": "e6f35fc0",
   "metadata": {},
   "source": [
    "**Conclusion**\n",
    "\n",
    "All dataframes are free of missing values.\n",
    "\n",
    "- `user_id`, `age`: Both are integers (`int64`), which is suitable for representing user IDs and ages.\n",
    "- `name`, `city`, `subscription_type`: These are objects (`object`), appropriate for storing string values. The data types align with the contents of these columns.\n",
    "- `distance`, `duration`: Both are floating-point numbers (`float64`), which are appropriate for storing trip distances and durations.\n",
    "- `date`: Currently an object (`object`), but can be converted to `datetime` for easier date manipulation.\n",
    "- `minute_price`, `start_ride_price`, `subscription_fee`: All are integers (`int64`), suitable for storing price data."
   ]
  },
  {
   "cell_type": "markdown",
   "id": "751ac2f6",
   "metadata": {},
   "source": [
    "## Data Preprocessing"
   ]
  },
  {
   "cell_type": "markdown",
   "id": "68d0c224",
   "metadata": {},
   "source": [
    "### Let's convert the `date` column to a datetime data type."
   ]
  },
  {
   "cell_type": "code",
   "execution_count": 9,
   "id": "7a962c75",
   "metadata": {},
   "outputs": [
    {
     "data": {
      "text/plain": [
       "0   2021-01-01\n",
       "1   2021-01-18\n",
       "2   2021-04-20\n",
       "3   2021-08-11\n",
       "4   2021-08-28\n",
       "Name: date, dtype: datetime64[ns]"
      ]
     },
     "execution_count": 9,
     "metadata": {},
     "output_type": "execute_result"
    }
   ],
   "source": [
    "data_rides['date'] = pd.to_datetime(data_rides['date'])\n",
    "data_rides['date'].head()"
   ]
  },
  {
   "cell_type": "markdown",
   "id": "b4d42879",
   "metadata": {},
   "source": [
    "### Add a new column with number of month."
   ]
  },
  {
   "cell_type": "code",
   "execution_count": 10,
   "id": "84e0785f",
   "metadata": {},
   "outputs": [],
   "source": [
    "data_rides['month'] = data_rides['date'].dt.month"
   ]
  },
  {
   "cell_type": "code",
   "execution_count": 11,
   "id": "4c2ee7a5",
   "metadata": {},
   "outputs": [
    {
     "data": {
      "text/plain": [
       "array([2021], dtype=int32)"
      ]
     },
     "execution_count": 11,
     "metadata": {},
     "output_type": "execute_result"
    }
   ],
   "source": [
    "data_rides['date'].dt.year.unique() # check the period of data time"
   ]
  },
  {
   "cell_type": "markdown",
   "id": "d439af9b",
   "metadata": {},
   "source": [
    "### Let's check duplicates in dataframes and process them."
   ]
  },
  {
   "cell_type": "code",
   "execution_count": 12,
   "id": "0845cbdf",
   "metadata": {},
   "outputs": [
    {
     "name": "stdout",
     "output_type": "stream",
     "text": [
      "Number of duplicates in data_users: 30\n",
      "Percentage of duplicates records: 1.92%\n"
     ]
    }
   ],
   "source": [
    "duplicate_rows_users = data_users[data_users.duplicated()]\n",
    "print(\"Number of duplicates in data_users:\", len(duplicate_rows_users))\n",
    "print(f\"Percentage of duplicates records: {((len(duplicate_rows_users)) * 100 / len(data_users)):.2f}%\")"
   ]
  },
  {
   "cell_type": "code",
   "execution_count": 13,
   "id": "095cbc04",
   "metadata": {},
   "outputs": [],
   "source": [
    "data_users = data_users.drop_duplicates()"
   ]
  },
  {
   "cell_type": "code",
   "execution_count": 14,
   "id": "78008578",
   "metadata": {
    "scrolled": true
   },
   "outputs": [
    {
     "name": "stdout",
     "output_type": "stream",
     "text": [
      "Number of duplicates in data_rides: 0\n"
     ]
    }
   ],
   "source": [
    "duplicate_rows_rides = data_rides[data_rides.duplicated()]\n",
    "print(\"Number of duplicates in data_rides:\", len(duplicate_rows_rides))"
   ]
  },
  {
   "cell_type": "code",
   "execution_count": 15,
   "id": "eaae4567",
   "metadata": {},
   "outputs": [
    {
     "name": "stdout",
     "output_type": "stream",
     "text": [
      "Number of duplicates in  data_subscriptions: 0\n"
     ]
    }
   ],
   "source": [
    "duplicate_rows_subs = data_subscriptions[data_subscriptions.duplicated()]\n",
    "print(\"Number of duplicates in  data_subscriptions:\", len(duplicate_rows_subs))"
   ]
  },
  {
   "cell_type": "markdown",
   "id": "40565b99",
   "metadata": {},
   "source": [
    "**Conclusion**\n",
    "\n",
    "At this stage, we converted the `date` column in the `data_rides` dataframe to the `datetime` data type and added a new column representing the `month`. We checked for duplicates across all dataframes:\n",
    "\n",
    "- In `data_users`, 30 duplicate rows (1.92%) were found and removed.\n",
    "- No duplicates were found in `data_rides` and `data_subscriptions`.\n",
    "\n",
    "The data is now clean and ready for further analysis."
   ]
  },
  {
   "cell_type": "markdown",
   "id": "26e821e1",
   "metadata": {},
   "source": [
    "## Exploratory data analysis (EDA)\n",
    "Describe and visualize general information about users and trips."
   ]
  },
  {
   "cell_type": "markdown",
   "id": "d4c2a10f",
   "metadata": {},
   "source": [
    "### Frequency of occurrence of cities."
   ]
  },
  {
   "cell_type": "code",
   "execution_count": 16,
   "id": "8810cb9b",
   "metadata": {
    "scrolled": true
   },
   "outputs": [
    {
     "data": {
      "text/plain": [
       "city\n",
       "Thornhill      219\n",
       "Willowbrook    204\n",
       "Brightwater    198\n",
       "Misty Pines    194\n",
       "Stonehaven     189\n",
       "Ashfordbury    183\n",
       "Silverbrook    180\n",
       "Stormhaven     168\n",
       "Name: count, dtype: int64"
      ]
     },
     "execution_count": 16,
     "metadata": {},
     "output_type": "execute_result"
    }
   ],
   "source": [
    "# Counting the number of the cities records\n",
    "city_counts = data_users['city'].value_counts()\n",
    "city_counts"
   ]
  },
  {
   "cell_type": "code",
   "execution_count": 17,
   "id": "ce5ffefd",
   "metadata": {},
   "outputs": [
    {
     "data": {
      "image/png": "[encoded data removed]",
      "text/plain": [
       "<Figure size 1200x600 with 1 Axes>"
      ]
     },
     "metadata": {},
     "output_type": "display_data"
    }
   ],
   "source": [
    "# Sorting values in descending order\n",
    "city_counts.sort_values(ascending=False, inplace=True)\n",
    "\n",
    "# Histogram\n",
    "city_counts.plot(kind='bar', figsize=(12, 6), color='skyblue')\n",
    "plt.title('Frequency of occurrence of cities')\n",
    "plt.xlabel('City')\n",
    "plt.ylabel('Frequency')\n",
    "plt.xticks(rotation=0, ha='center')\n",
    "plt.show()"
   ]
  },
  {
   "cell_type": "markdown",
   "id": "13c582d7",
   "metadata": {},
   "source": [
    "**Conclusion**\n",
    "\n",
    "The popularity of cities among users is presented as follows (in descending order): Thornhill, Willowbrook, Brightwater, Misty Pines, Stonehaven, etc. \n",
    "\n",
    "This information can be useful for scooter placement strategy and advertising campaigns."
   ]
  },
  {
   "cell_type": "markdown",
   "id": "dc5130d8",
   "metadata": {},
   "source": [
    "### Ratio of users with and without subscription."
   ]
  },
  {
   "cell_type": "code",
   "execution_count": 18,
   "id": "5e93fa10",
   "metadata": {},
   "outputs": [
    {
     "data": {
      "text/plain": [
       "subscription_type\n",
       "free     835\n",
       "ultra    700\n",
       "Name: count, dtype: int64"
      ]
     },
     "execution_count": 18,
     "metadata": {},
     "output_type": "execute_result"
    }
   ],
   "source": [
    "# Counting the number of users with and without subscription\n",
    "subscription_counts = data_users['subscription_type'].value_counts()\n",
    "subscription_counts"
   ]
  },
  {
   "cell_type": "code",
   "execution_count": 19,
   "id": "84e939fb",
   "metadata": {},
   "outputs": [
    {
     "data": {
      "text/plain": [
       "subscription_type\n",
       "free     0.543974\n",
       "ultra    0.456026\n",
       "Name: proportion, dtype: float64"
      ]
     },
     "execution_count": 19,
     "metadata": {},
     "output_type": "execute_result"
    }
   ],
   "source": [
    "data_users['subscription_type'].value_counts(normalize=True)"
   ]
  },
  {
   "cell_type": "code",
   "execution_count": 20,
   "id": "2c49aa36",
   "metadata": {},
   "outputs": [
    {
     "data": {
      "image/png": "[encoded data removed]",
      "text/plain": [
       "<Figure size 800x600 with 1 Axes>"
      ]
     },
     "metadata": {},
     "output_type": "display_data"
    }
   ],
   "source": [
    "# Create a pie chart\n",
    "fig, ax = plt.subplots(figsize=(8, 6))\n",
    "ax.pie(subscription_counts, labels=subscription_counts.index, autopct='%1.1f%%', colors=['skyblue', 'salmon'])\n",
    "ax.set_title('Ratio of subscribed and unsubscribed users') # Adding a Header\n",
    "plt.show()"
   ]
  },
  {
   "cell_type": "markdown",
   "id": "ffd9829f",
   "metadata": {},
   "source": [
    "**Conclusion**\n",
    "- More than half of users (54.4%) prefer to use the service without a subscription, while 45.6% choose a subscription.\n",
    "\n",
    "This data may indicate a preference for the flexibility of paying for specific trips, rather than a monthly mandatory payment, which highlights the importance of a variety of tariff plans and promotions in attracting and retaining customers."
   ]
  },
  {
   "cell_type": "markdown",
   "id": "6eb51623",
   "metadata": {},
   "source": [
    "### Age of users"
   ]
  },
  {
   "cell_type": "code",
   "execution_count": 21,
   "id": "5cc47a64",
   "metadata": {},
   "outputs": [
    {
     "data": {
      "text/plain": [
       "age\n",
       "25    145\n",
       "24    132\n",
       "26    131\n",
       "23    129\n",
       "27    120\n",
       "22    119\n",
       "28    112\n",
       "21     93\n",
       "20     71\n",
       "30     68\n",
       "29     68\n",
       "31     48\n",
       "19     47\n",
       "18     46\n",
       "32     41\n",
       "33     39\n",
       "17     26\n",
       "16     19\n",
       "34     19\n",
       "35     15\n",
       "15     13\n",
       "14      9\n",
       "13      8\n",
       "36      6\n",
       "12      4\n",
       "38      3\n",
       "37      2\n",
       "39      1\n",
       "43      1\n",
       "Name: count, dtype: int64"
      ]
     },
     "execution_count": 21,
     "metadata": {},
     "output_type": "execute_result"
    }
   ],
   "source": [
    "age_counts = data_users['age'].value_counts()\n",
    "age_counts"
   ]
  },
  {
   "cell_type": "code",
   "execution_count": 22,
   "id": "888c20ad",
   "metadata": {},
   "outputs": [
    {
     "data": {
      "text/plain": [
       "count    1535.000000\n",
       "mean       24.904886\n",
       "std         4.571189\n",
       "min        12.000000\n",
       "25%        22.000000\n",
       "50%        25.000000\n",
       "75%        28.000000\n",
       "max        43.000000\n",
       "Name: age, dtype: float64"
      ]
     },
     "execution_count": 22,
     "metadata": {},
     "output_type": "execute_result"
    }
   ],
   "source": [
    "# Calculating key statistics by age\n",
    "age_statistics = data_users['age'].describe()\n",
    "age_statistics"
   ]
  },
  {
   "cell_type": "code",
   "execution_count": 23,
   "id": "39498b57",
   "metadata": {},
   "outputs": [
    {
     "data": {
      "image/png": "[encoded data removed]",
      "text/plain": [
       "<Figure size 1200x600 with 1 Axes>"
      ]
     },
     "metadata": {},
     "output_type": "display_data"
    }
   ],
   "source": [
    "# Histogram\n",
    "plt.figure(figsize=(12, 6))\n",
    "sns.histplot(data_users['age'], bins=30, color='skyblue')\n",
    "plt.title('Distribution of user age')\n",
    "plt.xlabel('Age')\n",
    "plt.ylabel('Frequency')\n",
    "plt.show()"
   ]
  },
  {
   "cell_type": "markdown",
   "id": "c6e85660",
   "metadata": {},
   "source": [
    "**Conclusion**\n",
    "- The average age of users is approximately 25 years old.\n",
    "- Most users are between 22 and 28 years old.\n",
    "- There are some users under 18 and over 30 years old, which may be of interest to businesses when planning targeted advertising."
   ]
  },
  {
   "cell_type": "markdown",
   "id": "1e7c63ce",
   "metadata": {},
   "source": [
    "### The distance the user traveled in one trip."
   ]
  },
  {
   "cell_type": "code",
   "execution_count": 24,
   "id": "9f97ae5b",
   "metadata": {},
   "outputs": [
    {
     "data": {
      "text/plain": [
       "count    18068.000000\n",
       "mean      3070.659976\n",
       "std       1116.831209\n",
       "min          0.855683\n",
       "25%       2543.226360\n",
       "50%       3133.609994\n",
       "75%       3776.222735\n",
       "max       7211.007745\n",
       "Name: distance, dtype: float64"
      ]
     },
     "execution_count": 24,
     "metadata": {},
     "output_type": "execute_result"
    }
   ],
   "source": [
    "data_rides['distance'].describe()"
   ]
  },
  {
   "cell_type": "code",
   "execution_count": 25,
   "id": "af1e0562",
   "metadata": {},
   "outputs": [
    {
     "data": {
      "image/png": "[encoded data removed]",
      "text/plain": [
       "<Figure size 1200x600 with 1 Axes>"
      ]
     },
     "metadata": {},
     "output_type": "display_data"
    }
   ],
   "source": [
    "# Histogram\n",
    "plt.figure(figsize=(12, 6))\n",
    "sns.histplot(data_rides['distance'], bins=30, color='skyblue')\n",
    "plt.title('Distribution of distance per trip')\n",
    "plt.xlabel('Distance in m)')\n",
    "plt.ylabel('Frequency')\n",
    "plt.show()"
   ]
  },
  {
   "cell_type": "markdown",
   "id": "165c7f56",
   "metadata": {},
   "source": [
    "**Conclusion**\n",
    "- The average distance of one trip is approximately 3070 meters.\n",
    "- The vast majority of trips cover a distance of 2500 to 3800 meters.\n",
    "\n",
    "The histogram of the distance distribution recorded a small spike on the left, which may indicate the presence of short trips."
   ]
  },
  {
   "cell_type": "markdown",
   "id": "219a4541",
   "metadata": {},
   "source": [
    "### Duration of trips."
   ]
  },
  {
   "cell_type": "code",
   "execution_count": 26,
   "id": "9be116a1",
   "metadata": {},
   "outputs": [
    {
     "data": {
      "text/plain": [
       "count    18068.000000\n",
       "mean        17.805011\n",
       "std          6.091051\n",
       "min          0.500000\n",
       "25%         13.597563\n",
       "50%         17.678395\n",
       "75%         21.724800\n",
       "max         40.823963\n",
       "Name: duration, dtype: float64"
      ]
     },
     "execution_count": 26,
     "metadata": {},
     "output_type": "execute_result"
    }
   ],
   "source": [
    "data_rides['duration'].describe()"
   ]
  },
  {
   "cell_type": "code",
   "execution_count": 27,
   "id": "138c6845",
   "metadata": {},
   "outputs": [
    {
     "data": {
      "image/png": "[encoded data removed]",
      "text/plain": [
       "<Figure size 1200x600 with 1 Axes>"
      ]
     },
     "metadata": {},
     "output_type": "display_data"
    }
   ],
   "source": [
    "# Histogram\n",
    "plt.figure(figsize=(12, 6))\n",
    "sns.histplot(data_rides['duration'], bins=30, color='skyblue')\n",
    "plt.title('Distribution of trip durations')\n",
    "plt.xlabel('Duration in minutes')\n",
    "plt.ylabel('Frequency')\n",
    "plt.show()"
   ]
  },
  {
   "cell_type": "markdown",
   "id": "f370459b",
   "metadata": {},
   "source": [
    "**Conclusion**\n",
    "- The average trip duration is approximately 17.8 minutes.\n",
    "- Most trips take between 13 and 22 minutes.\n",
    "\n",
    "This data can help optimize fare offerings and develop strategies to improve service quality."
   ]
  },
  {
   "cell_type": "markdown",
   "id": "39207b8a",
   "metadata": {},
   "source": [
    "## Merging data"
   ]
  },
  {
   "cell_type": "markdown",
   "id": "0f57f7db",
   "metadata": {},
   "source": [
    "### Let's combine data about users, trips and subscriptions into one dataframe."
   ]
  },
  {
   "cell_type": "code",
   "execution_count": 28,
   "id": "9291de6a",
   "metadata": {},
   "outputs": [],
   "source": [
    "# Combine user and trip data by user_id\n",
    "merged_data = data_rides.merge(data_users, on='user_id', how='left')"
   ]
  },
  {
   "cell_type": "code",
   "execution_count": 29,
   "id": "4f2ead74",
   "metadata": {},
   "outputs": [
    {
     "data": {
      "text/html": [
       "<div>\n",
       "<style scoped>\n",
       "    .dataframe tbody tr th:only-of-type {\n",
       "        vertical-align: middle;\n",
       "    }\n",
       "\n",
       "    .dataframe tbody tr th {\n",
       "        vertical-align: top;\n",
       "    }\n",
       "\n",
       "    .dataframe thead th {\n",
       "        text-align: right;\n",
       "    }\n",
       "</style>\n",
       "<table border=\"1\" class=\"dataframe\">\n",
       "  <thead>\n",
       "    <tr style=\"text-align: right;\">\n",
       "      <th></th>\n",
       "      <th>user_id</th>\n",
       "      <th>distance</th>\n",
       "      <th>duration</th>\n",
       "      <th>date</th>\n",
       "      <th>month</th>\n",
       "      <th>name</th>\n",
       "      <th>age</th>\n",
       "      <th>city</th>\n",
       "      <th>subscription_type</th>\n",
       "      <th>minute_price</th>\n",
       "      <th>start_ride_price</th>\n",
       "      <th>subscription_fee</th>\n",
       "    </tr>\n",
       "  </thead>\n",
       "  <tbody>\n",
       "    <tr>\n",
       "      <th>0</th>\n",
       "      <td>1</td>\n",
       "      <td>4409.919140</td>\n",
       "      <td>25.599769</td>\n",
       "      <td>2021-01-01</td>\n",
       "      <td>1</td>\n",
       "      <td>Ethan</td>\n",
       "      <td>22</td>\n",
       "      <td>Silverbrook</td>\n",
       "      <td>ultra</td>\n",
       "      <td>6</td>\n",
       "      <td>0</td>\n",
       "      <td>199</td>\n",
       "    </tr>\n",
       "    <tr>\n",
       "      <th>1</th>\n",
       "      <td>1</td>\n",
       "      <td>2617.592153</td>\n",
       "      <td>15.816871</td>\n",
       "      <td>2021-01-18</td>\n",
       "      <td>1</td>\n",
       "      <td>Ethan</td>\n",
       "      <td>22</td>\n",
       "      <td>Silverbrook</td>\n",
       "      <td>ultra</td>\n",
       "      <td>6</td>\n",
       "      <td>0</td>\n",
       "      <td>199</td>\n",
       "    </tr>\n",
       "    <tr>\n",
       "      <th>2</th>\n",
       "      <td>1</td>\n",
       "      <td>754.159807</td>\n",
       "      <td>6.232113</td>\n",
       "      <td>2021-04-20</td>\n",
       "      <td>4</td>\n",
       "      <td>Ethan</td>\n",
       "      <td>22</td>\n",
       "      <td>Silverbrook</td>\n",
       "      <td>ultra</td>\n",
       "      <td>6</td>\n",
       "      <td>0</td>\n",
       "      <td>199</td>\n",
       "    </tr>\n",
       "    <tr>\n",
       "      <th>3</th>\n",
       "      <td>1</td>\n",
       "      <td>2694.783254</td>\n",
       "      <td>18.511000</td>\n",
       "      <td>2021-08-11</td>\n",
       "      <td>8</td>\n",
       "      <td>Ethan</td>\n",
       "      <td>22</td>\n",
       "      <td>Silverbrook</td>\n",
       "      <td>ultra</td>\n",
       "      <td>6</td>\n",
       "      <td>0</td>\n",
       "      <td>199</td>\n",
       "    </tr>\n",
       "    <tr>\n",
       "      <th>4</th>\n",
       "      <td>1</td>\n",
       "      <td>4028.687306</td>\n",
       "      <td>26.265803</td>\n",
       "      <td>2021-08-28</td>\n",
       "      <td>8</td>\n",
       "      <td>Ethan</td>\n",
       "      <td>22</td>\n",
       "      <td>Silverbrook</td>\n",
       "      <td>ultra</td>\n",
       "      <td>6</td>\n",
       "      <td>0</td>\n",
       "      <td>199</td>\n",
       "    </tr>\n",
       "    <tr>\n",
       "      <th>5</th>\n",
       "      <td>1</td>\n",
       "      <td>2770.890808</td>\n",
       "      <td>16.650138</td>\n",
       "      <td>2021-10-09</td>\n",
       "      <td>10</td>\n",
       "      <td>Ethan</td>\n",
       "      <td>22</td>\n",
       "      <td>Silverbrook</td>\n",
       "      <td>ultra</td>\n",
       "      <td>6</td>\n",
       "      <td>0</td>\n",
       "      <td>199</td>\n",
       "    </tr>\n",
       "    <tr>\n",
       "      <th>6</th>\n",
       "      <td>1</td>\n",
       "      <td>3039.020292</td>\n",
       "      <td>14.927879</td>\n",
       "      <td>2021-10-19</td>\n",
       "      <td>10</td>\n",
       "      <td>Ethan</td>\n",
       "      <td>22</td>\n",
       "      <td>Silverbrook</td>\n",
       "      <td>ultra</td>\n",
       "      <td>6</td>\n",
       "      <td>0</td>\n",
       "      <td>199</td>\n",
       "    </tr>\n",
       "    <tr>\n",
       "      <th>7</th>\n",
       "      <td>1</td>\n",
       "      <td>2842.118050</td>\n",
       "      <td>23.117468</td>\n",
       "      <td>2021-11-06</td>\n",
       "      <td>11</td>\n",
       "      <td>Ethan</td>\n",
       "      <td>22</td>\n",
       "      <td>Silverbrook</td>\n",
       "      <td>ultra</td>\n",
       "      <td>6</td>\n",
       "      <td>0</td>\n",
       "      <td>199</td>\n",
       "    </tr>\n",
       "    <tr>\n",
       "      <th>8</th>\n",
       "      <td>1</td>\n",
       "      <td>3412.690668</td>\n",
       "      <td>15.238072</td>\n",
       "      <td>2021-11-14</td>\n",
       "      <td>11</td>\n",
       "      <td>Ethan</td>\n",
       "      <td>22</td>\n",
       "      <td>Silverbrook</td>\n",
       "      <td>ultra</td>\n",
       "      <td>6</td>\n",
       "      <td>0</td>\n",
       "      <td>199</td>\n",
       "    </tr>\n",
       "    <tr>\n",
       "      <th>9</th>\n",
       "      <td>1</td>\n",
       "      <td>748.690645</td>\n",
       "      <td>15.041884</td>\n",
       "      <td>2021-11-22</td>\n",
       "      <td>11</td>\n",
       "      <td>Ethan</td>\n",
       "      <td>22</td>\n",
       "      <td>Silverbrook</td>\n",
       "      <td>ultra</td>\n",
       "      <td>6</td>\n",
       "      <td>0</td>\n",
       "      <td>199</td>\n",
       "    </tr>\n",
       "  </tbody>\n",
       "</table>\n",
       "</div>"
      ],
      "text/plain": [
       "   user_id     distance   duration       date  month   name  age         city  \\\n",
       "0        1  4409.919140  25.599769 2021-01-01      1  Ethan   22  Silverbrook   \n",
       "1        1  2617.592153  15.816871 2021-01-18      1  Ethan   22  Silverbrook   \n",
       "2        1   754.159807   6.232113 2021-04-20      4  Ethan   22  Silverbrook   \n",
       "3        1  2694.783254  18.511000 2021-08-11      8  Ethan   22  Silverbrook   \n",
       "4        1  4028.687306  26.265803 2021-08-28      8  Ethan   22  Silverbrook   \n",
       "5        1  2770.890808  16.650138 2021-10-09     10  Ethan   22  Silverbrook   \n",
       "6        1  3039.020292  14.927879 2021-10-19     10  Ethan   22  Silverbrook   \n",
       "7        1  2842.118050  23.117468 2021-11-06     11  Ethan   22  Silverbrook   \n",
       "8        1  3412.690668  15.238072 2021-11-14     11  Ethan   22  Silverbrook   \n",
       "9        1   748.690645  15.041884 2021-11-22     11  Ethan   22  Silverbrook   \n",
       "\n",
       "  subscription_type  minute_price  start_ride_price  subscription_fee  \n",
       "0             ultra             6                 0               199  \n",
       "1             ultra             6                 0               199  \n",
       "2             ultra             6                 0               199  \n",
       "3             ultra             6                 0               199  \n",
       "4             ultra             6                 0               199  \n",
       "5             ultra             6                 0               199  \n",
       "6             ultra             6                 0               199  \n",
       "7             ultra             6                 0               199  \n",
       "8             ultra             6                 0               199  \n",
       "9             ultra             6                 0               199  "
      ]
     },
     "execution_count": 29,
     "metadata": {},
     "output_type": "execute_result"
    }
   ],
   "source": [
    "# Then combine it with the subscription data\n",
    "merged_data = merged_data.merge(data_subscriptions, on='subscription_type', how='left')\n",
    "merged_data.head(10)"
   ]
  },
  {
   "cell_type": "code",
   "execution_count": 30,
   "id": "02480352",
   "metadata": {},
   "outputs": [
    {
     "name": "stdout",
     "output_type": "stream",
     "text": [
      "<class 'pandas.core.frame.DataFrame'>\n",
      "RangeIndex: 18080 entries, 0 to 18079\n",
      "Data columns (total 12 columns):\n",
      " #   Column             Non-Null Count  Dtype         \n",
      "---  ------             --------------  -----         \n",
      " 0   user_id            18080 non-null  int64         \n",
      " 1   distance           18080 non-null  float64       \n",
      " 2   duration           18080 non-null  float64       \n",
      " 3   date               18080 non-null  datetime64[ns]\n",
      " 4   month              18080 non-null  int32         \n",
      " 5   name               18080 non-null  object        \n",
      " 6   age                18080 non-null  int64         \n",
      " 7   city               18080 non-null  object        \n",
      " 8   subscription_type  18080 non-null  object        \n",
      " 9   minute_price       18080 non-null  int64         \n",
      " 10  start_ride_price   18080 non-null  int64         \n",
      " 11  subscription_fee   18080 non-null  int64         \n",
      "dtypes: datetime64[ns](1), float64(2), int32(1), int64(5), object(3)\n",
      "memory usage: 1.6+ MB\n"
     ]
    }
   ],
   "source": [
    "merged_data.info()"
   ]
  },
  {
   "cell_type": "markdown",
   "id": "c44126f8",
   "metadata": {},
   "source": [
    "**Conclusion**\n",
    "\n",
    "As a result of the merge there were no gaps in the data. All columns that were used for the merge (`user_id` and `subscription_type`) do not contain missing values, which is important for a correct connection.\n",
    "\n",
    "Thus, we can say that the data merge was successful."
   ]
  },
  {
   "cell_type": "markdown",
   "id": "8c77d636",
   "metadata": {},
   "source": [
    "### Let's create two more dataframes from the dataframe created in the previous step."
   ]
  },
  {
   "cell_type": "code",
   "execution_count": 31,
   "id": "70e5022c",
   "metadata": {},
   "outputs": [
    {
     "data": {
      "text/html": [
       "<div>\n",
       "<style scoped>\n",
       "    .dataframe tbody tr th:only-of-type {\n",
       "        vertical-align: middle;\n",
       "    }\n",
       "\n",
       "    .dataframe tbody tr th {\n",
       "        vertical-align: top;\n",
       "    }\n",
       "\n",
       "    .dataframe thead th {\n",
       "        text-align: right;\n",
       "    }\n",
       "</style>\n",
       "<table border=\"1\" class=\"dataframe\">\n",
       "  <thead>\n",
       "    <tr style=\"text-align: right;\">\n",
       "      <th></th>\n",
       "      <th>user_id</th>\n",
       "      <th>distance</th>\n",
       "      <th>duration</th>\n",
       "      <th>date</th>\n",
       "      <th>month</th>\n",
       "      <th>name</th>\n",
       "      <th>age</th>\n",
       "      <th>city</th>\n",
       "      <th>subscription_type</th>\n",
       "      <th>minute_price</th>\n",
       "      <th>start_ride_price</th>\n",
       "      <th>subscription_fee</th>\n",
       "    </tr>\n",
       "  </thead>\n",
       "  <tbody>\n",
       "    <tr>\n",
       "      <th>0</th>\n",
       "      <td>1</td>\n",
       "      <td>4409.919140</td>\n",
       "      <td>25.599769</td>\n",
       "      <td>2021-01-01</td>\n",
       "      <td>1</td>\n",
       "      <td>Ethan</td>\n",
       "      <td>22</td>\n",
       "      <td>Silverbrook</td>\n",
       "      <td>ultra</td>\n",
       "      <td>6</td>\n",
       "      <td>0</td>\n",
       "      <td>199</td>\n",
       "    </tr>\n",
       "    <tr>\n",
       "      <th>1</th>\n",
       "      <td>1</td>\n",
       "      <td>2617.592153</td>\n",
       "      <td>15.816871</td>\n",
       "      <td>2021-01-18</td>\n",
       "      <td>1</td>\n",
       "      <td>Ethan</td>\n",
       "      <td>22</td>\n",
       "      <td>Silverbrook</td>\n",
       "      <td>ultra</td>\n",
       "      <td>6</td>\n",
       "      <td>0</td>\n",
       "      <td>199</td>\n",
       "    </tr>\n",
       "    <tr>\n",
       "      <th>2</th>\n",
       "      <td>1</td>\n",
       "      <td>754.159807</td>\n",
       "      <td>6.232113</td>\n",
       "      <td>2021-04-20</td>\n",
       "      <td>4</td>\n",
       "      <td>Ethan</td>\n",
       "      <td>22</td>\n",
       "      <td>Silverbrook</td>\n",
       "      <td>ultra</td>\n",
       "      <td>6</td>\n",
       "      <td>0</td>\n",
       "      <td>199</td>\n",
       "    </tr>\n",
       "    <tr>\n",
       "      <th>3</th>\n",
       "      <td>1</td>\n",
       "      <td>2694.783254</td>\n",
       "      <td>18.511000</td>\n",
       "      <td>2021-08-11</td>\n",
       "      <td>8</td>\n",
       "      <td>Ethan</td>\n",
       "      <td>22</td>\n",
       "      <td>Silverbrook</td>\n",
       "      <td>ultra</td>\n",
       "      <td>6</td>\n",
       "      <td>0</td>\n",
       "      <td>199</td>\n",
       "    </tr>\n",
       "    <tr>\n",
       "      <th>4</th>\n",
       "      <td>1</td>\n",
       "      <td>4028.687306</td>\n",
       "      <td>26.265803</td>\n",
       "      <td>2021-08-28</td>\n",
       "      <td>8</td>\n",
       "      <td>Ethan</td>\n",
       "      <td>22</td>\n",
       "      <td>Silverbrook</td>\n",
       "      <td>ultra</td>\n",
       "      <td>6</td>\n",
       "      <td>0</td>\n",
       "      <td>199</td>\n",
       "    </tr>\n",
       "  </tbody>\n",
       "</table>\n",
       "</div>"
      ],
      "text/plain": [
       "   user_id     distance   duration       date  month   name  age         city  \\\n",
       "0        1  4409.919140  25.599769 2021-01-01      1  Ethan   22  Silverbrook   \n",
       "1        1  2617.592153  15.816871 2021-01-18      1  Ethan   22  Silverbrook   \n",
       "2        1   754.159807   6.232113 2021-04-20      4  Ethan   22  Silverbrook   \n",
       "3        1  2694.783254  18.511000 2021-08-11      8  Ethan   22  Silverbrook   \n",
       "4        1  4028.687306  26.265803 2021-08-28      8  Ethan   22  Silverbrook   \n",
       "\n",
       "  subscription_type  minute_price  start_ride_price  subscription_fee  \n",
       "0             ultra             6                 0               199  \n",
       "1             ultra             6                 0               199  \n",
       "2             ultra             6                 0               199  \n",
       "3             ultra             6                 0               199  \n",
       "4             ultra             6                 0               199  "
      ]
     },
     "execution_count": 31,
     "metadata": {},
     "output_type": "execute_result"
    }
   ],
   "source": [
    "# Dataframe with data about subscribed users\n",
    "users_subscription = merged_data[merged_data['subscription_type'] == 'ultra']\n",
    "users_subscription.head()"
   ]
  },
  {
   "cell_type": "code",
   "execution_count": 32,
   "id": "7b1a62c6",
   "metadata": {},
   "outputs": [
    {
     "data": {
      "text/plain": [
       "subscription_type\n",
       "ultra    6512\n",
       "Name: count, dtype: int64"
      ]
     },
     "execution_count": 32,
     "metadata": {},
     "output_type": "execute_result"
    }
   ],
   "source": [
    "# Counting the number of rows with a subscription\n",
    "users_subscription['subscription_type'].value_counts()"
   ]
  },
  {
   "cell_type": "code",
   "execution_count": 33,
   "id": "88e3c788",
   "metadata": {},
   "outputs": [
    {
     "data": {
      "text/html": [
       "<div>\n",
       "<style scoped>\n",
       "    .dataframe tbody tr th:only-of-type {\n",
       "        vertical-align: middle;\n",
       "    }\n",
       "\n",
       "    .dataframe tbody tr th {\n",
       "        vertical-align: top;\n",
       "    }\n",
       "\n",
       "    .dataframe thead th {\n",
       "        text-align: right;\n",
       "    }\n",
       "</style>\n",
       "<table border=\"1\" class=\"dataframe\">\n",
       "  <thead>\n",
       "    <tr style=\"text-align: right;\">\n",
       "      <th></th>\n",
       "      <th>user_id</th>\n",
       "      <th>distance</th>\n",
       "      <th>duration</th>\n",
       "      <th>date</th>\n",
       "      <th>month</th>\n",
       "      <th>name</th>\n",
       "      <th>age</th>\n",
       "      <th>city</th>\n",
       "      <th>subscription_type</th>\n",
       "      <th>minute_price</th>\n",
       "      <th>start_ride_price</th>\n",
       "      <th>subscription_fee</th>\n",
       "    </tr>\n",
       "  </thead>\n",
       "  <tbody>\n",
       "    <tr>\n",
       "      <th>6512</th>\n",
       "      <td>700</td>\n",
       "      <td>2515.690719</td>\n",
       "      <td>14.944286</td>\n",
       "      <td>2021-01-02</td>\n",
       "      <td>1</td>\n",
       "      <td>Aidar</td>\n",
       "      <td>22</td>\n",
       "      <td>Ashfordbury</td>\n",
       "      <td>free</td>\n",
       "      <td>8</td>\n",
       "      <td>50</td>\n",
       "      <td>0</td>\n",
       "    </tr>\n",
       "    <tr>\n",
       "      <th>6513</th>\n",
       "      <td>700</td>\n",
       "      <td>846.932642</td>\n",
       "      <td>16.234663</td>\n",
       "      <td>2021-02-01</td>\n",
       "      <td>2</td>\n",
       "      <td>Aidar</td>\n",
       "      <td>22</td>\n",
       "      <td>Ashfordbury</td>\n",
       "      <td>free</td>\n",
       "      <td>8</td>\n",
       "      <td>50</td>\n",
       "      <td>0</td>\n",
       "    </tr>\n",
       "    <tr>\n",
       "      <th>6514</th>\n",
       "      <td>700</td>\n",
       "      <td>4004.434142</td>\n",
       "      <td>20.016628</td>\n",
       "      <td>2021-02-04</td>\n",
       "      <td>2</td>\n",
       "      <td>Aidar</td>\n",
       "      <td>22</td>\n",
       "      <td>Ashfordbury</td>\n",
       "      <td>free</td>\n",
       "      <td>8</td>\n",
       "      <td>50</td>\n",
       "      <td>0</td>\n",
       "    </tr>\n",
       "    <tr>\n",
       "      <th>6515</th>\n",
       "      <td>700</td>\n",
       "      <td>1205.911290</td>\n",
       "      <td>9.782872</td>\n",
       "      <td>2021-02-10</td>\n",
       "      <td>2</td>\n",
       "      <td>Aidar</td>\n",
       "      <td>22</td>\n",
       "      <td>Ashfordbury</td>\n",
       "      <td>free</td>\n",
       "      <td>8</td>\n",
       "      <td>50</td>\n",
       "      <td>0</td>\n",
       "    </tr>\n",
       "    <tr>\n",
       "      <th>6516</th>\n",
       "      <td>700</td>\n",
       "      <td>3047.379435</td>\n",
       "      <td>17.427673</td>\n",
       "      <td>2021-02-14</td>\n",
       "      <td>2</td>\n",
       "      <td>Aidar</td>\n",
       "      <td>22</td>\n",
       "      <td>Ashfordbury</td>\n",
       "      <td>free</td>\n",
       "      <td>8</td>\n",
       "      <td>50</td>\n",
       "      <td>0</td>\n",
       "    </tr>\n",
       "  </tbody>\n",
       "</table>\n",
       "</div>"
      ],
      "text/plain": [
       "      user_id     distance   duration       date  month   name  age  \\\n",
       "6512      700  2515.690719  14.944286 2021-01-02      1  Aidar   22   \n",
       "6513      700   846.932642  16.234663 2021-02-01      2  Aidar   22   \n",
       "6514      700  4004.434142  20.016628 2021-02-04      2  Aidar   22   \n",
       "6515      700  1205.911290   9.782872 2021-02-10      2  Aidar   22   \n",
       "6516      700  3047.379435  17.427673 2021-02-14      2  Aidar   22   \n",
       "\n",
       "             city subscription_type  minute_price  start_ride_price  \\\n",
       "6512  Ashfordbury              free             8                50   \n",
       "6513  Ashfordbury              free             8                50   \n",
       "6514  Ashfordbury              free             8                50   \n",
       "6515  Ashfordbury              free             8                50   \n",
       "6516  Ashfordbury              free             8                50   \n",
       "\n",
       "      subscription_fee  \n",
       "6512                 0  \n",
       "6513                 0  \n",
       "6514                 0  \n",
       "6515                 0  \n",
       "6516                 0  "
      ]
     },
     "execution_count": 33,
     "metadata": {},
     "output_type": "execute_result"
    }
   ],
   "source": [
    "# Dataframe with data about unsubscribed users\n",
    "users_no_subscription = merged_data[merged_data['subscription_type'] == 'free']\n",
    "users_no_subscription.head()"
   ]
  },
  {
   "cell_type": "code",
   "execution_count": 34,
   "id": "426dc960",
   "metadata": {},
   "outputs": [
    {
     "data": {
      "text/plain": [
       "subscription_type\n",
       "free    11568\n",
       "Name: count, dtype: int64"
      ]
     },
     "execution_count": 34,
     "metadata": {},
     "output_type": "execute_result"
    }
   ],
   "source": [
    "# Counting the number of rows without subscription\n",
    "users_no_subscription['subscription_type'].value_counts()"
   ]
  },
  {
   "cell_type": "markdown",
   "id": "66ee0eba",
   "metadata": {},
   "source": [
    "**Conclusion**\n",
    "\n",
    "The number of rows with subscription is 6512 and without subscription is 11568. The total size of the dataframes is the same as the number of rows in the original table."
   ]
  },
  {
   "cell_type": "markdown",
   "id": "b98ab7b2",
   "metadata": {},
   "source": [
    "### Visualize information about travel distance and time for users of both categories."
   ]
  },
  {
   "cell_type": "code",
   "execution_count": 35,
   "id": "baed3b7a",
   "metadata": {},
   "outputs": [
    {
     "data": {
      "image/png": "[encoded data removed]",
      "text/plain": [
       "<Figure size 1200x600 with 2 Axes>"
      ]
     },
     "metadata": {},
     "output_type": "display_data"
    }
   ],
   "source": [
    "plt.figure(figsize=(12, 6))\n",
    "\n",
    "# Visualization of travel distances\n",
    "plt.subplot(1, 2, 1)\n",
    "plt.hist(users_subscription['distance'], bins=30, color='salmon', alpha=0.7, label='With subscription')\n",
    "plt.hist(users_no_subscription['distance'], bins=30, color='skyblue', alpha=0.7, label='No subscription')\n",
    "plt.title('Travel distance')\n",
    "plt.xlabel('Distance')\n",
    "plt.ylabel('Frequency')\n",
    "plt.legend()\n",
    "\n",
    "# Visualization of travel times\n",
    "plt.subplot(1, 2, 2)\n",
    "plt.hist(users_subscription['duration'], bins=30, color='salmon', alpha=0.7, label='With subscription')\n",
    "plt.hist(users_no_subscription['duration'], bins=30, color='skyblue', alpha=0.7, label='No subscription')\n",
    "plt.title('Travel time')\n",
    "plt.xlabel('Time')\n",
    "plt.ylabel('Frequency')\n",
    "plt.legend()\n",
    "\n",
    "plt.tight_layout()\n",
    "plt.show()"
   ]
  },
  {
   "cell_type": "code",
   "execution_count": 36,
   "id": "7d12db18",
   "metadata": {},
   "outputs": [
    {
     "name": "stdout",
     "output_type": "stream",
     "text": [
      "Statistics of travel distance of users with subscription:\n",
      "count    6512.000000\n",
      "mean     3115.206245\n",
      "std       836.823827\n",
      "min       244.210438\n",
      "25%      2785.359959\n",
      "50%      3148.491060\n",
      "75%      3560.454272\n",
      "max      5699.769662\n",
      "Name: distance, dtype: float64\n",
      "\n",
      "Statistics of travel distance of users without subscription:\n",
      "count    11568.000000\n",
      "mean      3045.495282\n",
      "std       1246.173806\n",
      "min          0.855683\n",
      "25%       2366.562689\n",
      "50%       3114.648465\n",
      "75%       3905.697894\n",
      "max       7211.007745\n",
      "Name: distance, dtype: float64\n"
     ]
    }
   ],
   "source": [
    "# Descriptive statistics for travel distance in meters\n",
    "print(\"Statistics of travel distance of users with subscription:\")\n",
    "print(users_subscription['distance'].describe())\n",
    "\n",
    "print(\"\\nStatistics of travel distance of users without subscription:\")\n",
    "print(users_no_subscription['distance'].describe())"
   ]
  },
  {
   "cell_type": "markdown",
   "id": "8bfa4303",
   "metadata": {},
   "source": [
    "**Conclusion**\n",
    "\n",
    "- Unsubscribed users have a larger range of distances, as can be seen from the statistics (minimum and maximum values) and the histogram.\n",
    "- The histogram of unsubscribed users has a higher frequency of short trips (up to 500 m), which indicates that they prefer short trips more often.\n",
    "- Unsubscribed users also have a higher standard deviation.\n",
    "- The medians are close, but for subscribed users it is slightly higher."
   ]
  },
  {
   "cell_type": "code",
   "execution_count": 37,
   "id": "eb3cff33",
   "metadata": {},
   "outputs": [
    {
     "name": "stdout",
     "output_type": "stream",
     "text": [
      "Statistics of travel time of users with subscription:\n",
      "count    6512.000000\n",
      "mean       18.541922\n",
      "std         5.571030\n",
      "min         3.760353\n",
      "25%        14.524654\n",
      "50%        18.180551\n",
      "75%        21.884129\n",
      "max        40.823963\n",
      "Name: duration, dtype: float64\n",
      "\n",
      "Statistics of travel time of users without a subscription:\n",
      "count    11568.000000\n",
      "mean        17.390909\n",
      "std          6.326803\n",
      "min          0.500000\n",
      "25%         12.958437\n",
      "50%         17.326890\n",
      "75%         21.594071\n",
      "max         34.948498\n",
      "Name: duration, dtype: float64\n"
     ]
    }
   ],
   "source": [
    "# Descriptive statistics for travel time in minutes\n",
    "print(\"Statistics of travel time of users with subscription:\")\n",
    "print(users_subscription['duration'].describe())\n",
    "\n",
    "print(\"\\nStatistics of travel time of users without a subscription:\")\n",
    "print(users_no_subscription['duration'].describe())"
   ]
  },
  {
   "cell_type": "markdown",
   "id": "94493f58",
   "metadata": {},
   "source": [
    "**Conclusion**\n",
    "- Subscribed users have a larger range of trip times, which is also evident from the statistics (minimum and maximum values) and the histogram.\n",
    "- Subscribed users also have slightly higher standard deviation and median trip times.\n",
    "\n",
    "Thus, the analysis of statistics and visualization of histograms allows us to conclude that there are significant differences in the preferences and behavior of users with and without a subscription regarding the distance and duration of trips."
   ]
  },
  {
   "cell_type": "markdown",
   "id": "1c34105d",
   "metadata": {},
   "source": [
    "## Calculating revenue"
   ]
  },
  {
   "cell_type": "markdown",
   "id": "82d44270",
   "metadata": {},
   "source": [
    "### Let's create a dataframe with aggregated trip data based on the dataframe with merged data from step 4:\n",
    "Find the total distance, number of trips, and total time for each user for each month."
   ]
  },
  {
   "cell_type": "code",
   "execution_count": 38,
   "id": "6019c52c",
   "metadata": {},
   "outputs": [],
   "source": [
    "# Create a column with the number of trips\n",
    "merged_data['ride_count'] = 1"
   ]
  },
  {
   "cell_type": "code",
   "execution_count": 39,
   "id": "82e4e213",
   "metadata": {},
   "outputs": [],
   "source": [
    "# Round up trip durations to the next whole number\n",
    "data_rides['duration'] = np.ceil(data_rides['duration'])\n",
    "merged_data['duration'] = data_rides['duration']"
   ]
  },
  {
   "cell_type": "code",
   "execution_count": 40,
   "id": "9a95995b",
   "metadata": {},
   "outputs": [
    {
     "data": {
      "text/html": [
       "<div>\n",
       "<style scoped>\n",
       "    .dataframe tbody tr th:only-of-type {\n",
       "        vertical-align: middle;\n",
       "    }\n",
       "\n",
       "    .dataframe tbody tr th {\n",
       "        vertical-align: top;\n",
       "    }\n",
       "\n",
       "    .dataframe thead th {\n",
       "        text-align: right;\n",
       "    }\n",
       "</style>\n",
       "<table border=\"1\" class=\"dataframe\">\n",
       "  <thead>\n",
       "    <tr style=\"text-align: right;\">\n",
       "      <th></th>\n",
       "      <th>user_id</th>\n",
       "      <th>month</th>\n",
       "      <th>total_distance</th>\n",
       "      <th>total_duration</th>\n",
       "      <th>total_rides</th>\n",
       "      <th>subscription_type</th>\n",
       "      <th>start_ride_price</th>\n",
       "      <th>minute_price</th>\n",
       "      <th>subscription_fee</th>\n",
       "    </tr>\n",
       "  </thead>\n",
       "  <tbody>\n",
       "    <tr>\n",
       "      <th>0</th>\n",
       "      <td>1</td>\n",
       "      <td>1</td>\n",
       "      <td>7027.511294</td>\n",
       "      <td>42.0</td>\n",
       "      <td>2</td>\n",
       "      <td>ultra</td>\n",
       "      <td>0</td>\n",
       "      <td>6</td>\n",
       "      <td>199</td>\n",
       "    </tr>\n",
       "    <tr>\n",
       "      <th>1</th>\n",
       "      <td>1</td>\n",
       "      <td>4</td>\n",
       "      <td>754.159807</td>\n",
       "      <td>7.0</td>\n",
       "      <td>1</td>\n",
       "      <td>ultra</td>\n",
       "      <td>0</td>\n",
       "      <td>6</td>\n",
       "      <td>199</td>\n",
       "    </tr>\n",
       "    <tr>\n",
       "      <th>2</th>\n",
       "      <td>1</td>\n",
       "      <td>8</td>\n",
       "      <td>6723.470560</td>\n",
       "      <td>46.0</td>\n",
       "      <td>2</td>\n",
       "      <td>ultra</td>\n",
       "      <td>0</td>\n",
       "      <td>6</td>\n",
       "      <td>199</td>\n",
       "    </tr>\n",
       "    <tr>\n",
       "      <th>3</th>\n",
       "      <td>1</td>\n",
       "      <td>10</td>\n",
       "      <td>5809.911100</td>\n",
       "      <td>32.0</td>\n",
       "      <td>2</td>\n",
       "      <td>ultra</td>\n",
       "      <td>0</td>\n",
       "      <td>6</td>\n",
       "      <td>199</td>\n",
       "    </tr>\n",
       "    <tr>\n",
       "      <th>4</th>\n",
       "      <td>1</td>\n",
       "      <td>11</td>\n",
       "      <td>7003.499363</td>\n",
       "      <td>56.0</td>\n",
       "      <td>3</td>\n",
       "      <td>ultra</td>\n",
       "      <td>0</td>\n",
       "      <td>6</td>\n",
       "      <td>199</td>\n",
       "    </tr>\n",
       "  </tbody>\n",
       "</table>\n",
       "</div>"
      ],
      "text/plain": [
       "   user_id  month  total_distance  total_duration  total_rides  \\\n",
       "0        1      1     7027.511294            42.0            2   \n",
       "1        1      4      754.159807             7.0            1   \n",
       "2        1      8     6723.470560            46.0            2   \n",
       "3        1     10     5809.911100            32.0            2   \n",
       "4        1     11     7003.499363            56.0            3   \n",
       "\n",
       "  subscription_type  start_ride_price  minute_price  subscription_fee  \n",
       "0             ultra                 0             6               199  \n",
       "1             ultra                 0             6               199  \n",
       "2             ultra                 0             6               199  \n",
       "3             ultra                 0             6               199  \n",
       "4             ultra                 0             6               199  "
      ]
     },
     "execution_count": 40,
     "metadata": {},
     "output_type": "execute_result"
    }
   ],
   "source": [
    "# Group the data by month and user, count the number of trips and sum up the distance and time\n",
    "agg_data = merged_data.groupby(['user_id', 'month']).agg({\n",
    "    'distance': 'sum',\n",
    "    'duration': 'sum',\n",
    "    'ride_count': 'count',\n",
    "    'subscription_type': 'first',\n",
    "    'start_ride_price': 'first',\n",
    "    'minute_price': 'first',\n",
    "    'subscription_fee': 'first'\n",
    "}).reset_index()\n",
    "\n",
    "# Rename the columns for clarity\n",
    "agg_data = agg_data.rename(columns={\n",
    "    'distance': 'total_distance',\n",
    "    'duration': 'total_duration',\n",
    "    'ride_count': 'total_rides',\n",
    "})\n",
    "\n",
    "agg_data.head()"
   ]
  },
  {
   "cell_type": "markdown",
   "id": "1a4786be",
   "metadata": {},
   "source": [
    "### In the same data frame,  add a column with the monthly revenue that each user brought in.\n",
    "To do this, we will refer to the information about the payment terms for subscribers and those who do not have a subscription."
   ]
  },
  {
   "cell_type": "code",
   "execution_count": 41,
   "id": "280e0cf4",
   "metadata": {},
   "outputs": [
    {
     "data": {
      "text/html": [
       "<div>\n",
       "<style scoped>\n",
       "    .dataframe tbody tr th:only-of-type {\n",
       "        vertical-align: middle;\n",
       "    }\n",
       "\n",
       "    .dataframe tbody tr th {\n",
       "        vertical-align: top;\n",
       "    }\n",
       "\n",
       "    .dataframe thead th {\n",
       "        text-align: right;\n",
       "    }\n",
       "</style>\n",
       "<table border=\"1\" class=\"dataframe\">\n",
       "  <thead>\n",
       "    <tr style=\"text-align: right;\">\n",
       "      <th></th>\n",
       "      <th>user_id</th>\n",
       "      <th>month</th>\n",
       "      <th>total_distance</th>\n",
       "      <th>total_duration</th>\n",
       "      <th>total_rides</th>\n",
       "      <th>subscription_type</th>\n",
       "      <th>start_ride_price</th>\n",
       "      <th>minute_price</th>\n",
       "      <th>subscription_fee</th>\n",
       "      <th>monthly_revenue</th>\n",
       "    </tr>\n",
       "  </thead>\n",
       "  <tbody>\n",
       "    <tr>\n",
       "      <th>0</th>\n",
       "      <td>1</td>\n",
       "      <td>1</td>\n",
       "      <td>7027.511294</td>\n",
       "      <td>42.0</td>\n",
       "      <td>2</td>\n",
       "      <td>ultra</td>\n",
       "      <td>0</td>\n",
       "      <td>6</td>\n",
       "      <td>199</td>\n",
       "      <td>451.0</td>\n",
       "    </tr>\n",
       "    <tr>\n",
       "      <th>1</th>\n",
       "      <td>1</td>\n",
       "      <td>4</td>\n",
       "      <td>754.159807</td>\n",
       "      <td>7.0</td>\n",
       "      <td>1</td>\n",
       "      <td>ultra</td>\n",
       "      <td>0</td>\n",
       "      <td>6</td>\n",
       "      <td>199</td>\n",
       "      <td>241.0</td>\n",
       "    </tr>\n",
       "    <tr>\n",
       "      <th>2</th>\n",
       "      <td>1</td>\n",
       "      <td>8</td>\n",
       "      <td>6723.470560</td>\n",
       "      <td>46.0</td>\n",
       "      <td>2</td>\n",
       "      <td>ultra</td>\n",
       "      <td>0</td>\n",
       "      <td>6</td>\n",
       "      <td>199</td>\n",
       "      <td>475.0</td>\n",
       "    </tr>\n",
       "    <tr>\n",
       "      <th>3</th>\n",
       "      <td>1</td>\n",
       "      <td>10</td>\n",
       "      <td>5809.911100</td>\n",
       "      <td>32.0</td>\n",
       "      <td>2</td>\n",
       "      <td>ultra</td>\n",
       "      <td>0</td>\n",
       "      <td>6</td>\n",
       "      <td>199</td>\n",
       "      <td>391.0</td>\n",
       "    </tr>\n",
       "    <tr>\n",
       "      <th>4</th>\n",
       "      <td>1</td>\n",
       "      <td>11</td>\n",
       "      <td>7003.499363</td>\n",
       "      <td>56.0</td>\n",
       "      <td>3</td>\n",
       "      <td>ultra</td>\n",
       "      <td>0</td>\n",
       "      <td>6</td>\n",
       "      <td>199</td>\n",
       "      <td>535.0</td>\n",
       "    </tr>\n",
       "  </tbody>\n",
       "</table>\n",
       "</div>"
      ],
      "text/plain": [
       "   user_id  month  total_distance  total_duration  total_rides  \\\n",
       "0        1      1     7027.511294            42.0            2   \n",
       "1        1      4      754.159807             7.0            1   \n",
       "2        1      8     6723.470560            46.0            2   \n",
       "3        1     10     5809.911100            32.0            2   \n",
       "4        1     11     7003.499363            56.0            3   \n",
       "\n",
       "  subscription_type  start_ride_price  minute_price  subscription_fee  \\\n",
       "0             ultra                 0             6               199   \n",
       "1             ultra                 0             6               199   \n",
       "2             ultra                 0             6               199   \n",
       "3             ultra                 0             6               199   \n",
       "4             ultra                 0             6               199   \n",
       "\n",
       "   monthly_revenue  \n",
       "0            451.0  \n",
       "1            241.0  \n",
       "2            475.0  \n",
       "3            391.0  \n",
       "4            535.0  "
      ]
     },
     "execution_count": 41,
     "metadata": {},
     "output_type": "execute_result"
    }
   ],
   "source": [
    "# Add a column with monthly revenue\n",
    "agg_data['monthly_revenue'] = (\n",
    "    agg_data['start_ride_price'] * agg_data['total_rides'] +\n",
    "    agg_data['minute_price'] * agg_data['total_duration'] +\n",
    "    agg_data['subscription_fee']\n",
    ")\n",
    "\n",
    "agg_data.head()"
   ]
  },
  {
   "cell_type": "markdown",
   "id": "7f1d627f",
   "metadata": {},
   "source": [
    "## Testing hypotheses"
   ]
  },
  {
   "cell_type": "markdown",
   "id": "895d5414",
   "metadata": {},
   "source": [
    "### It is important to understand if users with a subscription spend more time on trips.\n",
    "If so, users with a subscription may be more \"profitable\" for the company. Let's test this hypothesis."
   ]
  },
  {
   "cell_type": "markdown",
   "id": "6fee972f",
   "metadata": {},
   "source": [
    "**Hypotheses:**\n",
    "- **H0 (null hypothesis):** The average trip duration for users with and without a subscription is the same.\n",
    "- **H1 (alternative hypothesis):** The average trip duration for users with a subscription is greater than that of users without a subscription."
   ]
  },
  {
   "cell_type": "code",
   "execution_count": 42,
   "id": "bf5e2d69",
   "metadata": {},
   "outputs": [
    {
     "name": "stdout",
     "output_type": "stream",
     "text": [
      "Sample size of users with subscription: 6512\n",
      "Sample size of users without subscription: 11568\n",
      "Variance of trip duration for users with subscription: 31.03637149743329\n",
      "Variance of trip duration for users without subscription: 40.02843442407165\n"
     ]
    }
   ],
   "source": [
    "# Check sample sizes and population variances\n",
    "print(f\"Sample size of users with subscription: {len(users_subscription['duration'])}\")\n",
    "print(f\"Sample size of users without subscription: {len(users_no_subscription['duration'])}\")\n",
    "\n",
    "print(f\"Variance of trip duration for users with subscription: {users_subscription['duration'].var()}\")\n",
    "print(f\"Variance of trip duration for users without subscription: {users_no_subscription['duration'].var()}\")"
   ]
  },
  {
   "cell_type": "markdown",
   "id": "ed2aa7ea",
   "metadata": {},
   "source": [
    "After reviewing, we see that the sample sizes and population variances are different. Therefore, it is better to use the argument `equal_var=False` in the test."
   ]
  },
  {
   "cell_type": "code",
   "execution_count": 43,
   "id": "58844f1f",
   "metadata": {},
   "outputs": [
    {
     "name": "stdout",
     "output_type": "stream",
     "text": [
      "p-value: 5.162028938847112e-37\n",
      "We reject the null hypothesis: there are statistically significant differences in trip duration.\n"
     ]
    }
   ],
   "source": [
    "alpha = 0.05\n",
    "\n",
    "# Trip duration samples for users with and without a subscription\n",
    "results = st.ttest_ind(users_subscription['duration'], users_no_subscription['duration'], alternative='greater', equal_var=False)\n",
    "\n",
    "print('p-value:', results.pvalue)\n",
    "\n",
    "if results.pvalue < alpha:\n",
    "    print(\"We reject the null hypothesis: there are statistically significant differences in trip duration.\")\n",
    "else:\n",
    "    print(\"We failed to reject the null hypothesis: there are no statistically significant differences in trip duration.\")\n"
   ]
  },
  {
   "cell_type": "markdown",
   "id": "242b8266",
   "metadata": {},
   "source": [
    "The data provides sufficient evidence to reject the null hypothesis at the chosen significance level. This suggests that users with a subscription spend significantly more time on trips compared to those without a subscription. This information could be valuable for product managers, as it may indicate that subscribers are more active and potentially more loyal users of the service."
   ]
  },
  {
   "cell_type": "markdown",
   "id": "ac19ad6a",
   "metadata": {},
   "source": [
    "### Testing if the Average Distance per Ride for Subscribers Exceeds 3130 Meters\n",
    "The optimal distance per ride to minimize scooter wear is 3130 meters. We need to determine whether the average distance traveled by users with a subscription exceeds 3130 meters. Let's test this hypothesis."
   ]
  },
  {
   "cell_type": "markdown",
   "id": "14ed78f1",
   "metadata": {},
   "source": [
    "**Hypotheses:**\n",
    "- **H0 (null hypothesis):** The average distance per ride for subscribers is equal to 3130 meters.\n",
    "- **H1 (alternative hypothesis):** The average distance per ride for subscribers exceeds 3130 meters."
   ]
  },
  {
   "cell_type": "code",
   "execution_count": 44,
   "id": "4403c33d",
   "metadata": {},
   "outputs": [
    {
     "name": "stdout",
     "output_type": "stream",
     "text": [
      "p-value: 0.9231281139928313\n",
      "Failed to reject the null hypothesis: the average distance does not exceed 3130 meters.\n"
     ]
    }
   ],
   "source": [
    "interested_value = 3130  # Average distance for subscribed users\n",
    "alpha = 0.05\n",
    "\n",
    "# One-sample t-test\n",
    "results = st.ttest_1samp(users_subscription['distance'], popmean=interested_value, alternative='greater')\n",
    "print('p-value:', results.pvalue)\n",
    "\n",
    "if results.pvalue < alpha:\n",
    "    print('We reject the null hypothesis: the average distance exceeds 3130 meters.')\n",
    "else:\n",
    "    print('Failed to reject the null hypothesis: the average distance does not exceed 3130 meters.')"
   ]
  },
  {
   "cell_type": "markdown",
   "id": "1d10fa41",
   "metadata": {},
   "source": [
    "Thus, we have no statistically significant evidence to suggest that the average distance per ride for subscribers exceeds 3130 meters. This indicates that this group of users adheres to the expected wear limits, which is beneficial for business sustainability."
   ]
  },
  {
   "cell_type": "markdown",
   "id": "5f506cc0",
   "metadata": {},
   "source": [
    "### Testing if the Monthly Revenue from Subscribers Exceeds that of Non-Subscribers\n",
    "Now, let's check if the monthly revenue from users with a subscription is higher than the revenue from users without a subscription."
   ]
  },
  {
   "cell_type": "markdown",
   "id": "a96f0d79",
   "metadata": {},
   "source": [
    "**Hypotheses:**\n",
    "\n",
    "- **H0 (null hypothesis):** The average monthly revenue from subscribers is not different from the revenue from non-subscribers.\n",
    "- **H1 (alternative hypothesis):** The average monthly revenue from subscribers is higher than that from non-subscribers."
   ]
  },
  {
   "cell_type": "code",
   "execution_count": 45,
   "id": "8ed2bf0b",
   "metadata": {},
   "outputs": [
    {
     "name": "stdout",
     "output_type": "stream",
     "text": [
      "p-value: 1.4363369721025848e-40\n",
      "We reject the null hypothesis: there are statistically significant differences in monthly revenue.\n"
     ]
    }
   ],
   "source": [
    "# Sample data for users with and without subscription\n",
    "users_subscription = agg_data[agg_data['subscription_type'] == 'ultra']\n",
    "users_no_subscription = agg_data[agg_data['subscription_type'] == 'free']\n",
    "\n",
    "alpha = 0.05\n",
    "\n",
    "# Independent two-sample t-test\n",
    "results = st.ttest_ind(users_subscription['monthly_revenue'], users_no_subscription['monthly_revenue'], equal_var=False, alternative='greater')\n",
    "\n",
    "print('p-value:', results.pvalue)\n",
    "\n",
    "if results.pvalue < alpha:\n",
    "    print('We reject the null hypothesis: there are statistically significant differences in monthly revenue.')\n",
    "else:\n",
    "    print('Failed to reject the null hypothesis: there are no significant differences in monthly revenue.')"
   ]
  },
  {
   "cell_type": "code",
   "execution_count": 46,
   "id": "22d2c29c",
   "metadata": {},
   "outputs": [
    {
     "name": "stdout",
     "output_type": "stream",
     "text": [
      "Sample size of subscribers: 4533\n",
      "Sample size of non-subscribers: 6798\n",
      "Variance in monthly revenue for subscribers: 7843.136775736344\n",
      "Variance in monthly revenue for non-subscribers: 34028.47003673071\n"
     ]
    }
   ],
   "source": [
    "# Checking sample sizes and variances\n",
    "print(f\"Sample size of subscribers: {len(users_subscription['monthly_revenue'])}\")\n",
    "print(f\"Sample size of non-subscribers: {len(users_no_subscription['monthly_revenue'])}\")\n",
    "\n",
    "print(f\"Variance in monthly revenue for subscribers: {users_subscription['monthly_revenue'].var()}\")\n",
    "print(f\"Variance in monthly revenue for non-subscribers: {users_no_subscription['monthly_revenue'].var()}\")"
   ]
  },
  {
   "cell_type": "markdown",
   "id": "7f3d6420",
   "metadata": {},
   "source": [
    "The sample sizes and variances are different, so using `equal_var=False` in the test is appropriate."
   ]
  },
  {
   "cell_type": "markdown",
   "id": "67424588",
   "metadata": {},
   "source": [
    "Based on the test results, we reject the null hypothesis. This indicates that the average monthly revenue from subscribers is statistically higher than from non-subscribers."
   ]
  },
  {
   "cell_type": "markdown",
   "id": "d0684acd",
   "metadata": {},
   "source": [
    "## Research Summary"
   ]
  },
  {
   "cell_type": "markdown",
   "id": "65feb522",
   "metadata": {},
   "source": [
    "Throughout the analysis of the GoFast scooter rental service, we conducted a comprehensive examination of user data across multiple cities, along with details about their trips. Key steps included exploring general characteristics, filtering, and cleaning the data. The merging of user and trip data provided a holistic view of customer interactions with the GoFast service. We ensured data integrity and performed thorough hypothesis testing to identify factors contributing to business growth.\n",
    "\n",
    "The GoFast service attracts users from various cities, spanning different age groups with diverse preferences regarding trip duration and distance. Insights from trip characteristics, such as duration and distance, can be utilized to optimize pricing models and enhance user experience.\n",
    "\n",
    "- **City Popularity and Service Usage Type:**\n",
    "The cities that attracted the largest number of users, along with the preference of over half of the customers to use the service without a subscription, provide critical information for scooter placement strategies and the development of pricing plans.\n",
    "\n",
    "- **User Age and Trip Characteristics:**\n",
    "The average age of users, as well as their preferences for trip distance and duration, offer a solid foundation for targeted marketing campaigns and service improvements.\n",
    "\n",
    "- **Trip Duration:**\n",
    "Users with the Ultra subscription demonstrate higher loyalty by spending more time on their rides. This insight creates an opportunity to introduce additional benefits and perks, reinforcing the business’s market position.\n",
    "\n",
    "- **Trip Distance:**\n",
    "The average trip distance for Ultra subscribers remains within optimal limits, which positively impacts scooter wear and tear. This opens up possibilities for tariff optimization, potentially introducing special offers for specific distance categories.\n",
    "\n",
    "- **Monthly Revenue:**\n",
    "Ultra subscribers generate higher monthly revenue, affirming the success of GoFast's subscription strategy. The business can continue to develop its subscription program by adding further advantages and services.\n",
    "\n",
    "- **Seasonality:**\n",
    "A further monthly analysis would help identify peak usage periods for the service. This information is crucial for more effective marketing campaign planning and resource allocation based on seasonal demand fluctuations.\n",
    "\n",
    "- **Technical Support:**\n",
    "The results of tests on reducing technical support requests could indicate the effectiveness of technical updates. The successful reduction of support inquiries highlights an improved user experience and increased customer satisfaction.\n",
    "\n",
    "These conclusions provide a strong foundation for informed decision-making, aimed at enhancing service quality, optimizing pricing, and strengthening GoFast’s position in the scooter rental market."
   ]
  }
 ],
 "metadata": {
  "kernelspec": {
   "display_name": "Python 3 (ipykernel)",
   "language": "python",
   "name": "python3"
  },
  "language_info": {
   "codemirror_mode": {
    "name": "ipython",
    "version": 3
   },
   "file_extension": ".py",
   "mimetype": "text/x-python",
   "name": "python",
   "nbconvert_exporter": "python",
   "pygments_lexer": "ipython3",
   "version": "3.11.5"
  },
  "toc": {
   "base_numbering": 1,
   "nav_menu": {
    "height": "212px",
    "width": "283px"
   },
   "number_sections": true,
   "sideBar": true,
   "skip_h1_title": true,
   "title_cell": "Table of Contents",
   "title_sidebar": "Contents",
   "toc_cell": true,
   "toc_position": {},
   "toc_section_display": true,
   "toc_window_display": false
  }
 },
 "nbformat": 4,
 "nbformat_minor": 5
}
