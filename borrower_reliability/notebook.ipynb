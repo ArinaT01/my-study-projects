{
 "cells": [
  {
   "cell_type": "markdown",
   "id": "908df111",
   "metadata": {
    "toc": true
   },
   "source": [
    "<h1>Table of Contents<span class=\"tocSkip\"></span></h1>\n",
    "<div class=\"toc\"><ul class=\"toc-item\"><li><span><a href=\"#Data-Overview\" data-toc-modified-id=\"Data-Overview-1\"><span class=\"toc-item-num\">1&nbsp;&nbsp;</span>Data Overview</a></span></li><li><span><a href=\"#Data-Preprocessing\" data-toc-modified-id=\"Data-Preprocessing-2\"><span class=\"toc-item-num\">2&nbsp;&nbsp;</span>Data Preprocessing</a></span><ul class=\"toc-item\"><li><span><a href=\"#Handling-Missing-Values\" data-toc-modified-id=\"Handling-Missing-Values-2.1\"><span class=\"toc-item-num\">2.1&nbsp;&nbsp;</span>Handling Missing Values</a></span></li><li><span><a href=\"#Handling-Anomalous-Values\" data-toc-modified-id=\"Handling-Anomalous-Values-2.2\"><span class=\"toc-item-num\">2.2&nbsp;&nbsp;</span>Handling Anomalous Values</a></span></li><li><span><a href=\"#Finalizing-Missing-Values\" data-toc-modified-id=\"Finalizing-Missing-Values-2.3\"><span class=\"toc-item-num\">2.3&nbsp;&nbsp;</span>Finalizing Missing Values</a></span></li><li><span><a href=\"#Changing-Data-Types\" data-toc-modified-id=\"Changing-Data-Types-2.4\"><span class=\"toc-item-num\">2.4&nbsp;&nbsp;</span>Changing Data Types</a></span></li><li><span><a href=\"#Handling-Duplicates\" data-toc-modified-id=\"Handling-Duplicates-2.5\"><span class=\"toc-item-num\">2.5&nbsp;&nbsp;</span>Handling Duplicates</a></span></li><li><span><a href=\"#Data-Categorization\" data-toc-modified-id=\"Data-Categorization-2.6\"><span class=\"toc-item-num\">2.6&nbsp;&nbsp;</span>Data Categorization</a></span></li></ul></li><li><span><a href=\"#Exploratory-Data-Analysis-(EDA)\" data-toc-modified-id=\"Exploratory-Data-Analysis-(EDA)-3\"><span class=\"toc-item-num\">3&nbsp;&nbsp;</span>Exploratory Data Analysis (EDA)</a></span><ul class=\"toc-item\"><li><span><a href=\"#Analyze-the-Proportion-of-Debtors-Based-on-Number-of-Children\" data-toc-modified-id=\"Analyze-the-Proportion-of-Debtors-Based-on-Number-of-Children-3.1\"><span class=\"toc-item-num\">3.1&nbsp;&nbsp;</span>Analyze the Proportion of Debtors Based on Number of Children</a></span></li><li><span><a href=\"#Dependency-Between-Family-Status-and-Loan-Repayment\" data-toc-modified-id=\"Dependency-Between-Family-Status-and-Loan-Repayment-3.2\"><span class=\"toc-item-num\">3.2&nbsp;&nbsp;</span>Dependency Between Family Status and Loan Repayment</a></span></li><li><span><a href=\"#Dependency-Between-Income-Level-and-Loan-Repayment\" data-toc-modified-id=\"Dependency-Between-Income-Level-and-Loan-Repayment-3.3\"><span class=\"toc-item-num\">3.3&nbsp;&nbsp;</span>Dependency Between Income Level and Loan Repayment</a></span></li><li><span><a href=\"#Impact-of-Loan-Purpose-on-Repayment\" data-toc-modified-id=\"Impact-of-Loan-Purpose-on-Repayment-3.4\"><span class=\"toc-item-num\">3.4&nbsp;&nbsp;</span>Impact of Loan Purpose on Repayment</a></span></li></ul></li><li><span><a href=\"#Research-Summary\" data-toc-modified-id=\"Research-Summary-4\"><span class=\"toc-item-num\">4&nbsp;&nbsp;</span>Research Summary</a></span></li></ul></div>"
   ]
  },
  {
   "cell_type": "markdown",
   "id": "e3e47d3c",
   "metadata": {},
   "source": [
    "# Borrower Reliability Assessment: The Impact of Family Status and Number of Children on Loan Repayment\n",
    "\n",
    "This project was initiated by the bank's credit department to explore the factors that influence a client's ability to repay loans on time. The primary focus is on assessing whether a client's family status, number of children, and other related factors affect their likelihood of defaulting on a loan. The bank provided a dataset containing detailed statistics on clients' payment histories, which serves as the basis for this analysis."
   ]
  },
  {
   "cell_type": "markdown",
   "id": "26916fc2",
   "metadata": {},
   "source": [
    "**Objective**\n",
    "\n",
    "The main objectives of this research are to evaluate the following hypotheses:\n",
    "\n",
    "- **Family Status:** The marital status of a client impacts the likelihood of timely loan repayment.\n",
    "- **Number of Children:** The number of children in a family influences the probability of repaying a loan on time.\n",
    "- **Other Factors:** Additional variables such as income level, loan purpose, and employment type may also play significant roles in repayment behavior.\n",
    "\n",
    "**Data Overview**\n",
    "\n",
    "The data for this analysis is sourced from the file `credit_data.csv`, which includes the following key variables:\n",
    "\n",
    "- `children` — number of children in the family\n",
    "- `days_employed` — total work experience in days\n",
    "- `dob_years` — age of the client in years\n",
    "- `education` — client's education level\n",
    "- `education_id` — education level identifier\n",
    "- `family_status` — marital status\n",
    "- `family_status_id` — marital status identifier\n",
    "- `gender` — client’s gender\n",
    "- `income_type` — type of employment\n",
    "- `debt` — whether the client had debt on loan repayment\n",
    "- `total_income` — monthly income\n",
    "- `purpose` — purpose of obtaining the loan\n",
    "\n",
    "**Research Process**\n",
    "\n",
    "The study will involve three main stages:\n",
    "\n",
    "- Data Overview: Initial exploration of the data to understand its structure and content.\n",
    "- Data Preprocessing: Cleaning and preparing the data for analysis, addressing any critical data quality issues.\n",
    "- Hypothesis Testing: Conducting statistical analysis to validate or refute the hypotheses."
   ]
  },
  {
   "cell_type": "markdown",
   "id": "ee378fa6",
   "metadata": {},
   "source": [
    "## Data Overview"
   ]
  },
  {
   "cell_type": "markdown",
   "id": "76eb9272",
   "metadata": {},
   "source": [
    "**Import the pandas library, then read the data from the CSV file into a DataFrame and save it to the variable `data`.**"
   ]
  },
  {
   "cell_type": "code",
   "execution_count": 1,
   "id": "e98d8136",
   "metadata": {},
   "outputs": [],
   "source": [
    "import pandas as pd  # Import the pandas library"
   ]
  },
  {
   "cell_type": "code",
   "execution_count": 2,
   "id": "64b1876b",
   "metadata": {},
   "outputs": [],
   "source": [
    "data = pd.read_csv('/Users/arina/Downloads/my-study-projects/borrower_reliability/credit_data.csv')  # Read the CSV file"
   ]
  },
  {
   "cell_type": "markdown",
   "id": "c6b25555",
   "metadata": {},
   "source": [
    "**Display the first 20 rows of `data`.**"
   ]
  },
  {
   "cell_type": "code",
   "execution_count": 3,
   "id": "b02914bd",
   "metadata": {},
   "outputs": [
    {
     "data": {
      "text/html": [
       "<div>\n",
       "<style scoped>\n",
       "    .dataframe tbody tr th:only-of-type {\n",
       "        vertical-align: middle;\n",
       "    }\n",
       "\n",
       "    .dataframe tbody tr th {\n",
       "        vertical-align: top;\n",
       "    }\n",
       "\n",
       "    .dataframe thead th {\n",
       "        text-align: right;\n",
       "    }\n",
       "</style>\n",
       "<table border=\"1\" class=\"dataframe\">\n",
       "  <thead>\n",
       "    <tr style=\"text-align: right;\">\n",
       "      <th></th>\n",
       "      <th>children</th>\n",
       "      <th>days_employed</th>\n",
       "      <th>dob_years</th>\n",
       "      <th>education</th>\n",
       "      <th>education_id</th>\n",
       "      <th>family_status</th>\n",
       "      <th>family_status_id</th>\n",
       "      <th>gender</th>\n",
       "      <th>income_type</th>\n",
       "      <th>debt</th>\n",
       "      <th>total_income</th>\n",
       "      <th>purpose</th>\n",
       "    </tr>\n",
       "  </thead>\n",
       "  <tbody>\n",
       "    <tr>\n",
       "      <th>0</th>\n",
       "      <td>1</td>\n",
       "      <td>-8437.673028</td>\n",
       "      <td>42</td>\n",
       "      <td>higher</td>\n",
       "      <td>0</td>\n",
       "      <td>married</td>\n",
       "      <td>0</td>\n",
       "      <td>F</td>\n",
       "      <td>employee</td>\n",
       "      <td>0</td>\n",
       "      <td>253875.639453</td>\n",
       "      <td>purchase of housing</td>\n",
       "    </tr>\n",
       "    <tr>\n",
       "      <th>1</th>\n",
       "      <td>1</td>\n",
       "      <td>-4024.803754</td>\n",
       "      <td>36</td>\n",
       "      <td>secondary</td>\n",
       "      <td>1</td>\n",
       "      <td>married</td>\n",
       "      <td>0</td>\n",
       "      <td>F</td>\n",
       "      <td>employee</td>\n",
       "      <td>0</td>\n",
       "      <td>112080.014102</td>\n",
       "      <td>car purchase</td>\n",
       "    </tr>\n",
       "    <tr>\n",
       "      <th>2</th>\n",
       "      <td>0</td>\n",
       "      <td>-5623.422610</td>\n",
       "      <td>33</td>\n",
       "      <td>Secondary</td>\n",
       "      <td>1</td>\n",
       "      <td>married</td>\n",
       "      <td>0</td>\n",
       "      <td>M</td>\n",
       "      <td>employee</td>\n",
       "      <td>0</td>\n",
       "      <td>145885.952297</td>\n",
       "      <td>purchase of housing</td>\n",
       "    </tr>\n",
       "    <tr>\n",
       "      <th>3</th>\n",
       "      <td>3</td>\n",
       "      <td>-4124.747207</td>\n",
       "      <td>32</td>\n",
       "      <td>secondary</td>\n",
       "      <td>1</td>\n",
       "      <td>married</td>\n",
       "      <td>0</td>\n",
       "      <td>M</td>\n",
       "      <td>employee</td>\n",
       "      <td>0</td>\n",
       "      <td>267628.550329</td>\n",
       "      <td>additional education</td>\n",
       "    </tr>\n",
       "    <tr>\n",
       "      <th>4</th>\n",
       "      <td>0</td>\n",
       "      <td>340266.072047</td>\n",
       "      <td>53</td>\n",
       "      <td>secondary</td>\n",
       "      <td>1</td>\n",
       "      <td>civil marriage</td>\n",
       "      <td>1</td>\n",
       "      <td>F</td>\n",
       "      <td>retiree</td>\n",
       "      <td>0</td>\n",
       "      <td>158616.077870</td>\n",
       "      <td>wedding</td>\n",
       "    </tr>\n",
       "    <tr>\n",
       "      <th>5</th>\n",
       "      <td>0</td>\n",
       "      <td>-926.185831</td>\n",
       "      <td>27</td>\n",
       "      <td>higher</td>\n",
       "      <td>0</td>\n",
       "      <td>civil marriage</td>\n",
       "      <td>1</td>\n",
       "      <td>M</td>\n",
       "      <td>business partner</td>\n",
       "      <td>0</td>\n",
       "      <td>255763.565419</td>\n",
       "      <td>purchase of housing</td>\n",
       "    </tr>\n",
       "    <tr>\n",
       "      <th>6</th>\n",
       "      <td>0</td>\n",
       "      <td>-2879.202052</td>\n",
       "      <td>43</td>\n",
       "      <td>higher</td>\n",
       "      <td>0</td>\n",
       "      <td>married</td>\n",
       "      <td>0</td>\n",
       "      <td>F</td>\n",
       "      <td>business partner</td>\n",
       "      <td>0</td>\n",
       "      <td>240525.971920</td>\n",
       "      <td>housing operations</td>\n",
       "    </tr>\n",
       "    <tr>\n",
       "      <th>7</th>\n",
       "      <td>0</td>\n",
       "      <td>-152.779569</td>\n",
       "      <td>50</td>\n",
       "      <td>SECONDARY</td>\n",
       "      <td>1</td>\n",
       "      <td>married</td>\n",
       "      <td>0</td>\n",
       "      <td>M</td>\n",
       "      <td>employee</td>\n",
       "      <td>0</td>\n",
       "      <td>135823.934197</td>\n",
       "      <td>education</td>\n",
       "    </tr>\n",
       "    <tr>\n",
       "      <th>8</th>\n",
       "      <td>2</td>\n",
       "      <td>-6929.865299</td>\n",
       "      <td>35</td>\n",
       "      <td>HIGHER</td>\n",
       "      <td>0</td>\n",
       "      <td>civil marriage</td>\n",
       "      <td>1</td>\n",
       "      <td>F</td>\n",
       "      <td>employee</td>\n",
       "      <td>0</td>\n",
       "      <td>95856.832424</td>\n",
       "      <td>for the wedding</td>\n",
       "    </tr>\n",
       "    <tr>\n",
       "      <th>9</th>\n",
       "      <td>0</td>\n",
       "      <td>-2188.756445</td>\n",
       "      <td>41</td>\n",
       "      <td>secondary</td>\n",
       "      <td>1</td>\n",
       "      <td>married</td>\n",
       "      <td>0</td>\n",
       "      <td>M</td>\n",
       "      <td>employee</td>\n",
       "      <td>0</td>\n",
       "      <td>144425.938277</td>\n",
       "      <td>buying a home for a family</td>\n",
       "    </tr>\n",
       "    <tr>\n",
       "      <th>10</th>\n",
       "      <td>2</td>\n",
       "      <td>-4171.483647</td>\n",
       "      <td>36</td>\n",
       "      <td>higher</td>\n",
       "      <td>0</td>\n",
       "      <td>married</td>\n",
       "      <td>0</td>\n",
       "      <td>M</td>\n",
       "      <td>business partner</td>\n",
       "      <td>0</td>\n",
       "      <td>113943.491460</td>\n",
       "      <td>purchase of real estate</td>\n",
       "    </tr>\n",
       "    <tr>\n",
       "      <th>11</th>\n",
       "      <td>0</td>\n",
       "      <td>-792.701887</td>\n",
       "      <td>40</td>\n",
       "      <td>secondary</td>\n",
       "      <td>1</td>\n",
       "      <td>married</td>\n",
       "      <td>0</td>\n",
       "      <td>F</td>\n",
       "      <td>employee</td>\n",
       "      <td>0</td>\n",
       "      <td>77069.234271</td>\n",
       "      <td>purchase of commercial real estate</td>\n",
       "    </tr>\n",
       "    <tr>\n",
       "      <th>12</th>\n",
       "      <td>0</td>\n",
       "      <td>NaN</td>\n",
       "      <td>65</td>\n",
       "      <td>secondary</td>\n",
       "      <td>1</td>\n",
       "      <td>civil marriage</td>\n",
       "      <td>1</td>\n",
       "      <td>M</td>\n",
       "      <td>retiree</td>\n",
       "      <td>0</td>\n",
       "      <td>NaN</td>\n",
       "      <td>wedding</td>\n",
       "    </tr>\n",
       "    <tr>\n",
       "      <th>13</th>\n",
       "      <td>0</td>\n",
       "      <td>-1846.641941</td>\n",
       "      <td>54</td>\n",
       "      <td>incomplete higher</td>\n",
       "      <td>2</td>\n",
       "      <td>married</td>\n",
       "      <td>0</td>\n",
       "      <td>F</td>\n",
       "      <td>employee</td>\n",
       "      <td>0</td>\n",
       "      <td>130458.228857</td>\n",
       "      <td>car purchase</td>\n",
       "    </tr>\n",
       "    <tr>\n",
       "      <th>14</th>\n",
       "      <td>0</td>\n",
       "      <td>-1844.956182</td>\n",
       "      <td>56</td>\n",
       "      <td>higher</td>\n",
       "      <td>0</td>\n",
       "      <td>civil marriage</td>\n",
       "      <td>1</td>\n",
       "      <td>F</td>\n",
       "      <td>business partner</td>\n",
       "      <td>1</td>\n",
       "      <td>165127.911772</td>\n",
       "      <td>purchase of residential property</td>\n",
       "    </tr>\n",
       "    <tr>\n",
       "      <th>15</th>\n",
       "      <td>1</td>\n",
       "      <td>-972.364419</td>\n",
       "      <td>26</td>\n",
       "      <td>secondary</td>\n",
       "      <td>1</td>\n",
       "      <td>married</td>\n",
       "      <td>0</td>\n",
       "      <td>F</td>\n",
       "      <td>employee</td>\n",
       "      <td>0</td>\n",
       "      <td>116820.904450</td>\n",
       "      <td>construction of own property</td>\n",
       "    </tr>\n",
       "    <tr>\n",
       "      <th>16</th>\n",
       "      <td>0</td>\n",
       "      <td>-1719.934226</td>\n",
       "      <td>35</td>\n",
       "      <td>secondary</td>\n",
       "      <td>1</td>\n",
       "      <td>married</td>\n",
       "      <td>0</td>\n",
       "      <td>F</td>\n",
       "      <td>employee</td>\n",
       "      <td>0</td>\n",
       "      <td>289202.704229</td>\n",
       "      <td>real estate</td>\n",
       "    </tr>\n",
       "    <tr>\n",
       "      <th>17</th>\n",
       "      <td>0</td>\n",
       "      <td>-2369.999720</td>\n",
       "      <td>33</td>\n",
       "      <td>higher</td>\n",
       "      <td>0</td>\n",
       "      <td>civil marriage</td>\n",
       "      <td>1</td>\n",
       "      <td>M</td>\n",
       "      <td>employee</td>\n",
       "      <td>0</td>\n",
       "      <td>90410.586745</td>\n",
       "      <td>construction of real estate</td>\n",
       "    </tr>\n",
       "    <tr>\n",
       "      <th>18</th>\n",
       "      <td>0</td>\n",
       "      <td>400281.136913</td>\n",
       "      <td>53</td>\n",
       "      <td>secondary</td>\n",
       "      <td>1</td>\n",
       "      <td>widower / widow</td>\n",
       "      <td>2</td>\n",
       "      <td>F</td>\n",
       "      <td>retiree</td>\n",
       "      <td>0</td>\n",
       "      <td>56823.777243</td>\n",
       "      <td>for the purchase of a used car</td>\n",
       "    </tr>\n",
       "    <tr>\n",
       "      <th>19</th>\n",
       "      <td>0</td>\n",
       "      <td>-10038.818549</td>\n",
       "      <td>48</td>\n",
       "      <td>SECONDARY</td>\n",
       "      <td>1</td>\n",
       "      <td>divorced</td>\n",
       "      <td>3</td>\n",
       "      <td>F</td>\n",
       "      <td>employee</td>\n",
       "      <td>0</td>\n",
       "      <td>242831.107982</td>\n",
       "      <td>to buy your own car</td>\n",
       "    </tr>\n",
       "  </tbody>\n",
       "</table>\n",
       "</div>"
      ],
      "text/plain": [
       "    children  days_employed  dob_years          education  education_id  \\\n",
       "0          1   -8437.673028         42             higher             0   \n",
       "1          1   -4024.803754         36          secondary             1   \n",
       "2          0   -5623.422610         33          Secondary             1   \n",
       "3          3   -4124.747207         32          secondary             1   \n",
       "4          0  340266.072047         53          secondary             1   \n",
       "5          0    -926.185831         27             higher             0   \n",
       "6          0   -2879.202052         43             higher             0   \n",
       "7          0    -152.779569         50          SECONDARY             1   \n",
       "8          2   -6929.865299         35             HIGHER             0   \n",
       "9          0   -2188.756445         41          secondary             1   \n",
       "10         2   -4171.483647         36             higher             0   \n",
       "11         0    -792.701887         40          secondary             1   \n",
       "12         0            NaN         65          secondary             1   \n",
       "13         0   -1846.641941         54  incomplete higher             2   \n",
       "14         0   -1844.956182         56             higher             0   \n",
       "15         1    -972.364419         26          secondary             1   \n",
       "16         0   -1719.934226         35          secondary             1   \n",
       "17         0   -2369.999720         33             higher             0   \n",
       "18         0  400281.136913         53          secondary             1   \n",
       "19         0  -10038.818549         48          SECONDARY             1   \n",
       "\n",
       "      family_status  family_status_id gender       income_type  debt  \\\n",
       "0           married                 0      F          employee     0   \n",
       "1           married                 0      F          employee     0   \n",
       "2           married                 0      M          employee     0   \n",
       "3           married                 0      M          employee     0   \n",
       "4    civil marriage                 1      F           retiree     0   \n",
       "5    civil marriage                 1      M  business partner     0   \n",
       "6           married                 0      F  business partner     0   \n",
       "7           married                 0      M          employee     0   \n",
       "8    civil marriage                 1      F          employee     0   \n",
       "9           married                 0      M          employee     0   \n",
       "10          married                 0      M  business partner     0   \n",
       "11          married                 0      F          employee     0   \n",
       "12   civil marriage                 1      M           retiree     0   \n",
       "13          married                 0      F          employee     0   \n",
       "14   civil marriage                 1      F  business partner     1   \n",
       "15          married                 0      F          employee     0   \n",
       "16          married                 0      F          employee     0   \n",
       "17   civil marriage                 1      M          employee     0   \n",
       "18  widower / widow                 2      F           retiree     0   \n",
       "19         divorced                 3      F          employee     0   \n",
       "\n",
       "     total_income                             purpose  \n",
       "0   253875.639453                 purchase of housing  \n",
       "1   112080.014102                        car purchase  \n",
       "2   145885.952297                 purchase of housing  \n",
       "3   267628.550329                additional education  \n",
       "4   158616.077870                             wedding  \n",
       "5   255763.565419                 purchase of housing  \n",
       "6   240525.971920                  housing operations  \n",
       "7   135823.934197                           education  \n",
       "8    95856.832424                     for the wedding  \n",
       "9   144425.938277          buying a home for a family  \n",
       "10  113943.491460             purchase of real estate  \n",
       "11   77069.234271  purchase of commercial real estate  \n",
       "12            NaN                             wedding  \n",
       "13  130458.228857                        car purchase  \n",
       "14  165127.911772    purchase of residential property  \n",
       "15  116820.904450        construction of own property  \n",
       "16  289202.704229                         real estate  \n",
       "17   90410.586745         construction of real estate  \n",
       "18   56823.777243      for the purchase of a used car  \n",
       "19  242831.107982                 to buy your own car  "
      ]
     },
     "execution_count": 3,
     "metadata": {},
     "output_type": "execute_result"
    }
   ],
   "source": [
    "data.head(20) # Display the first 20 rows of the dataframe data"
   ]
  },
  {
   "cell_type": "markdown",
   "id": "7c18d4a7",
   "metadata": {},
   "source": [
    "**Display basic information about the DataFrame using the `info()` method.**"
   ]
  },
  {
   "cell_type": "code",
   "execution_count": 4,
   "id": "f95d8986",
   "metadata": {},
   "outputs": [
    {
     "name": "stdout",
     "output_type": "stream",
     "text": [
      "<class 'pandas.core.frame.DataFrame'>\n",
      "RangeIndex: 21525 entries, 0 to 21524\n",
      "Data columns (total 12 columns):\n",
      " #   Column            Non-Null Count  Dtype  \n",
      "---  ------            --------------  -----  \n",
      " 0   children          21525 non-null  int64  \n",
      " 1   days_employed     19351 non-null  float64\n",
      " 2   dob_years         21525 non-null  int64  \n",
      " 3   education         21525 non-null  object \n",
      " 4   education_id      21525 non-null  int64  \n",
      " 5   family_status     21525 non-null  object \n",
      " 6   family_status_id  21525 non-null  int64  \n",
      " 7   gender            21525 non-null  object \n",
      " 8   income_type       21525 non-null  object \n",
      " 9   debt              21525 non-null  int64  \n",
      " 10  total_income      19351 non-null  float64\n",
      " 11  purpose           21525 non-null  object \n",
      "dtypes: float64(2), int64(5), object(5)\n",
      "memory usage: 2.0+ MB\n"
     ]
    }
   ],
   "source": [
    "data.info()"
   ]
  },
  {
   "cell_type": "markdown",
   "id": "85d810ba",
   "metadata": {},
   "source": [
    "**Conclusion**\n",
    "\n",
    "The dataset includes 21,525 entries across 12 columns. While most columns are complete, `days_employed` and `total_income` have missing values.\n",
    "\n",
    "Some columns, like `education` and `purpose`, contain identical categories formatted inconsistently, such as variations in case or word order. This inconsistency will need to be addressed during data preprocessing.\n",
    "\n",
    "The `days_employed` column, which should represent whole days, is stored as a float64 type and contains negative values, both of which are incorrect and will need correction in the data preprocessing stage."
   ]
  },
  {
   "cell_type": "markdown",
   "id": "9edf9d9c",
   "metadata": {},
   "source": [
    "## Data Preprocessing"
   ]
  },
  {
   "cell_type": "markdown",
   "id": "83e8fac7",
   "metadata": {},
   "source": [
    "### Handling Missing Values"
   ]
  },
  {
   "cell_type": "markdown",
   "id": "30a8a12a",
   "metadata": {},
   "source": [
    "**Display the number of missing values for each column.**"
   ]
  },
  {
   "cell_type": "code",
   "execution_count": 5,
   "id": "84ecbb21",
   "metadata": {},
   "outputs": [
    {
     "data": {
      "text/plain": [
       "children               0\n",
       "days_employed       2174\n",
       "dob_years              0\n",
       "education              0\n",
       "education_id           0\n",
       "family_status          0\n",
       "family_status_id       0\n",
       "gender                 0\n",
       "income_type            0\n",
       "debt                   0\n",
       "total_income        2174\n",
       "purpose                0\n",
       "dtype: int64"
      ]
     },
     "execution_count": 5,
     "metadata": {},
     "output_type": "execute_result"
    }
   ],
   "source": [
    "data.isna().sum()"
   ]
  },
  {
   "cell_type": "markdown",
   "id": "3e0f66f3",
   "metadata": {},
   "source": [
    "**Two columns have missing values. One of them is `days_employed`, which you will handle in the next step. The other column with missing values is `total_income`, which contains income data. The type of employment has the greatest impact on income, so you should fill in the missing values in this column with the median income value for each type from the `income_type` column. For example, if a person with the employment type `\"employee\"` has a missing value in the `total_income` column, it should be filled with the median income among all records with the same employment type.**"
   ]
  },
  {
   "cell_type": "code",
   "execution_count": 6,
   "id": "2a2f0fc5",
   "metadata": {},
   "outputs": [],
   "source": [
    "data['total_income'] = data['total_income'].fillna(data.groupby('income_type')['total_income'].transform(\"median\"))"
   ]
  },
  {
   "cell_type": "markdown",
   "id": "d1c9a3aa",
   "metadata": {},
   "source": [
    "### Handling Anomalous Values"
   ]
  },
  {
   "cell_type": "markdown",
   "id": "e4ac8250",
   "metadata": {},
   "source": [
    "**The data may contain artifacts (anomalies) — values that do not reflect reality and appeared due to some error. One such artifact is the negative number of days employed in the `days_employed` column. For real data, this is normal. Handle the values in this column by replacing all negative values with positive ones using the `abs()` method.**"
   ]
  },
  {
   "cell_type": "code",
   "execution_count": 7,
   "id": "a9f74036",
   "metadata": {},
   "outputs": [],
   "source": [
    "data['days_employed'] = data['days_employed'].abs()"
   ]
  },
  {
   "cell_type": "markdown",
   "id": "9c3bed53",
   "metadata": {},
   "source": [
    "**For each type of employment, display the median number of `days employed`.**"
   ]
  },
  {
   "cell_type": "code",
   "execution_count": 8,
   "id": "9fabe8b5",
   "metadata": {},
   "outputs": [
    {
     "data": {
      "text/plain": [
       "income_type\n",
       "business partner        1547.382223\n",
       "employee                1574.202821\n",
       "entrepreneur             520.848083\n",
       "on maternity leave      3296.759962\n",
       "retiree               365213.306266\n",
       "state servant           2689.368353\n",
       "student                  578.751554\n",
       "unemployed            366413.652744\n",
       "Name: days_employed, dtype: float64"
      ]
     },
     "execution_count": 8,
     "metadata": {},
     "output_type": "execute_result"
    }
   ],
   "source": [
    "data.groupby('income_type')['days_employed'].median()"
   ]
  },
  {
   "cell_type": "markdown",
   "id": "416a8ef4",
   "metadata": {},
   "source": [
    "Two types `unemployed` and `retirees` will have abnormally large values. It is difficult to correct such values, so leave them as they are."
   ]
  },
  {
   "cell_type": "markdown",
   "id": "4b670245",
   "metadata": {},
   "source": [
    "**Display the list of unique values in the `children` column.**"
   ]
  },
  {
   "cell_type": "code",
   "execution_count": 9,
   "id": "301bfe15",
   "metadata": {},
   "outputs": [
    {
     "data": {
      "text/plain": [
       "array([ 1,  0,  3,  2, -1,  4, 20,  5])"
      ]
     },
     "execution_count": 9,
     "metadata": {},
     "output_type": "execute_result"
    }
   ],
   "source": [
    "data['children'].unique()"
   ]
  },
  {
   "cell_type": "markdown",
   "id": "a7080c1f",
   "metadata": {},
   "source": [
    "**There are two anomalous values in the `children` column. Remove the rows containing these anomalous values from `data`.**"
   ]
  },
  {
   "cell_type": "code",
   "execution_count": 10,
   "id": "e98b5ee6",
   "metadata": {},
   "outputs": [],
   "source": [
    "data = data[(data['children'] >= 0) & (data['children'] < 20)]"
   ]
  },
  {
   "cell_type": "markdown",
   "id": "9a3d5fc2",
   "metadata": {},
   "source": [
    "**Display the list of unique values in the `children` column again to ensure that the artifacts have been removed.**"
   ]
  },
  {
   "cell_type": "code",
   "execution_count": 11,
   "id": "83f9f47b",
   "metadata": {},
   "outputs": [
    {
     "data": {
      "text/plain": [
       "array([1, 0, 3, 2, 4, 5])"
      ]
     },
     "execution_count": 11,
     "metadata": {},
     "output_type": "execute_result"
    }
   ],
   "source": [
    "data['children'].unique()"
   ]
  },
  {
   "cell_type": "markdown",
   "id": "94631cf8",
   "metadata": {},
   "source": [
    "### Finalizing Missing Values"
   ]
  },
  {
   "cell_type": "markdown",
   "id": "7b09cff9",
   "metadata": {},
   "source": [
    "**Fill in the missing values in the `days_employed` column with the median values for each employment type (`income_type`).**"
   ]
  },
  {
   "cell_type": "code",
   "execution_count": 12,
   "id": "13dbf1a4",
   "metadata": {},
   "outputs": [],
   "source": [
    "data['days_employed'] = data['days_employed'].fillna(data.groupby('income_type')['days_employed'].transform(\"median\"))"
   ]
  },
  {
   "cell_type": "markdown",
   "id": "29656ada",
   "metadata": {},
   "source": [
    "**Ensure that all missing values have been filled. Double-check by displaying the number of missing values for each column using two methods.**"
   ]
  },
  {
   "cell_type": "code",
   "execution_count": 13,
   "id": "1136023f",
   "metadata": {},
   "outputs": [
    {
     "data": {
      "text/plain": [
       "children            0\n",
       "days_employed       0\n",
       "dob_years           0\n",
       "education           0\n",
       "education_id        0\n",
       "family_status       0\n",
       "family_status_id    0\n",
       "gender              0\n",
       "income_type         0\n",
       "debt                0\n",
       "total_income        0\n",
       "purpose             0\n",
       "dtype: int64"
      ]
     },
     "execution_count": 13,
     "metadata": {},
     "output_type": "execute_result"
    }
   ],
   "source": [
    "data.isna().sum()"
   ]
  },
  {
   "cell_type": "markdown",
   "id": "cd3980e3",
   "metadata": {},
   "source": [
    "### Changing Data Types"
   ]
  },
  {
   "cell_type": "markdown",
   "id": "061cffd0",
   "metadata": {},
   "source": [
    "**Convert the data type in the `total_income` column from float to integer using the `astype()` method.**"
   ]
  },
  {
   "cell_type": "code",
   "execution_count": 14,
   "id": "8dc5e40d",
   "metadata": {},
   "outputs": [],
   "source": [
    "data['total_income'] = data['total_income'].astype('int')"
   ]
  },
  {
   "cell_type": "code",
   "execution_count": 15,
   "id": "a91df0a5",
   "metadata": {},
   "outputs": [],
   "source": [
    "data['days_employed'] = data['days_employed'].astype('int')"
   ]
  },
  {
   "cell_type": "markdown",
   "id": "bd776000",
   "metadata": {},
   "source": [
    "### Handling Duplicates\n"
   ]
  },
  {
   "cell_type": "markdown",
   "id": "50584707",
   "metadata": {},
   "source": [
    "**Let's check the columns for duplicated values.**"
   ]
  },
  {
   "cell_type": "code",
   "execution_count": 16,
   "id": "07b9c7c6",
   "metadata": {},
   "outputs": [
    {
     "data": {
      "text/plain": [
       "array(['higher', 'secondary', 'Secondary', 'SECONDARY', 'HIGHER',\n",
       "       'incomplete higher', 'primary', 'Higher', 'INCOMPLETE HIGHER',\n",
       "       'Incomplete higher', 'PRIMARY', 'Primary', 'Academic degree',\n",
       "       'ACADEMIC DEGREE', 'academic degree'], dtype=object)"
      ]
     },
     "execution_count": 16,
     "metadata": {},
     "output_type": "execute_result"
    }
   ],
   "source": [
    "data['education'].unique() "
   ]
  },
  {
   "cell_type": "code",
   "execution_count": 17,
   "id": "868db7af",
   "metadata": {},
   "outputs": [
    {
     "data": {
      "text/plain": [
       "array(['employee', 'retiree', 'business partner', 'state servant',\n",
       "       'unemployed', 'entrepreneur', 'student', 'on maternity leave'],\n",
       "      dtype=object)"
      ]
     },
     "execution_count": 17,
     "metadata": {},
     "output_type": "execute_result"
    }
   ],
   "source": [
    "data['income_type'].unique() "
   ]
  },
  {
   "cell_type": "code",
   "execution_count": 18,
   "id": "75223861",
   "metadata": {},
   "outputs": [
    {
     "data": {
      "text/plain": [
       "array(['married', 'civil marriage', 'widower / widow', 'divorced',\n",
       "       'single'], dtype=object)"
      ]
     },
     "execution_count": 18,
     "metadata": {},
     "output_type": "execute_result"
    }
   ],
   "source": [
    "data['family_status'].unique() "
   ]
  },
  {
   "cell_type": "markdown",
   "id": "6e50b220",
   "metadata": {},
   "source": [
    "**Handle implicit duplicates in the `education` column. This column contains the same values but recorded differently: with uppercase and lowercase letters. Convert them to lowercase.**"
   ]
  },
  {
   "cell_type": "code",
   "execution_count": 19,
   "id": "23baa3a6",
   "metadata": {},
   "outputs": [],
   "source": [
    "data['education'] = data['education'].str.lower()"
   ]
  },
  {
   "cell_type": "markdown",
   "id": "b19d3b1d",
   "metadata": {},
   "source": [
    "**Display the number of duplicate rows in the data. If such rows exist, delete them.**"
   ]
  },
  {
   "cell_type": "code",
   "execution_count": 20,
   "id": "cf59ee31",
   "metadata": {},
   "outputs": [
    {
     "data": {
      "text/html": [
       "<div>\n",
       "<style scoped>\n",
       "    .dataframe tbody tr th:only-of-type {\n",
       "        vertical-align: middle;\n",
       "    }\n",
       "\n",
       "    .dataframe tbody tr th {\n",
       "        vertical-align: top;\n",
       "    }\n",
       "\n",
       "    .dataframe thead th {\n",
       "        text-align: right;\n",
       "    }\n",
       "</style>\n",
       "<table border=\"1\" class=\"dataframe\">\n",
       "  <thead>\n",
       "    <tr style=\"text-align: right;\">\n",
       "      <th></th>\n",
       "      <th>children</th>\n",
       "      <th>days_employed</th>\n",
       "      <th>dob_years</th>\n",
       "      <th>education</th>\n",
       "      <th>education_id</th>\n",
       "      <th>family_status</th>\n",
       "      <th>family_status_id</th>\n",
       "      <th>gender</th>\n",
       "      <th>income_type</th>\n",
       "      <th>debt</th>\n",
       "      <th>total_income</th>\n",
       "      <th>purpose</th>\n",
       "    </tr>\n",
       "  </thead>\n",
       "  <tbody>\n",
       "    <tr>\n",
       "      <th>1247</th>\n",
       "      <td>0</td>\n",
       "      <td>1572</td>\n",
       "      <td>54</td>\n",
       "      <td>secondary</td>\n",
       "      <td>1</td>\n",
       "      <td>civil marriage</td>\n",
       "      <td>1</td>\n",
       "      <td>M</td>\n",
       "      <td>employee</td>\n",
       "      <td>0</td>\n",
       "      <td>142594</td>\n",
       "      <td>wedding</td>\n",
       "    </tr>\n",
       "    <tr>\n",
       "      <th>2849</th>\n",
       "      <td>0</td>\n",
       "      <td>1572</td>\n",
       "      <td>41</td>\n",
       "      <td>secondary</td>\n",
       "      <td>1</td>\n",
       "      <td>married</td>\n",
       "      <td>0</td>\n",
       "      <td>F</td>\n",
       "      <td>employee</td>\n",
       "      <td>0</td>\n",
       "      <td>142594</td>\n",
       "      <td>buying a home for a family</td>\n",
       "    </tr>\n",
       "    <tr>\n",
       "      <th>3290</th>\n",
       "      <td>0</td>\n",
       "      <td>365286</td>\n",
       "      <td>58</td>\n",
       "      <td>secondary</td>\n",
       "      <td>1</td>\n",
       "      <td>civil marriage</td>\n",
       "      <td>1</td>\n",
       "      <td>F</td>\n",
       "      <td>retiree</td>\n",
       "      <td>0</td>\n",
       "      <td>118514</td>\n",
       "      <td>wedding</td>\n",
       "    </tr>\n",
       "    <tr>\n",
       "      <th>4182</th>\n",
       "      <td>1</td>\n",
       "      <td>1572</td>\n",
       "      <td>34</td>\n",
       "      <td>higher</td>\n",
       "      <td>0</td>\n",
       "      <td>civil marriage</td>\n",
       "      <td>1</td>\n",
       "      <td>F</td>\n",
       "      <td>employee</td>\n",
       "      <td>0</td>\n",
       "      <td>142594</td>\n",
       "      <td>wedding</td>\n",
       "    </tr>\n",
       "    <tr>\n",
       "      <th>4851</th>\n",
       "      <td>0</td>\n",
       "      <td>365286</td>\n",
       "      <td>60</td>\n",
       "      <td>secondary</td>\n",
       "      <td>1</td>\n",
       "      <td>civil marriage</td>\n",
       "      <td>1</td>\n",
       "      <td>F</td>\n",
       "      <td>retiree</td>\n",
       "      <td>0</td>\n",
       "      <td>118514</td>\n",
       "      <td>wedding</td>\n",
       "    </tr>\n",
       "  </tbody>\n",
       "</table>\n",
       "</div>"
      ],
      "text/plain": [
       "      children  days_employed  dob_years  education  education_id  \\\n",
       "1247         0           1572         54  secondary             1   \n",
       "2849         0           1572         41  secondary             1   \n",
       "3290         0         365286         58  secondary             1   \n",
       "4182         1           1572         34     higher             0   \n",
       "4851         0         365286         60  secondary             1   \n",
       "\n",
       "       family_status  family_status_id gender income_type  debt  total_income  \\\n",
       "1247  civil marriage                 1      M    employee     0        142594   \n",
       "2849         married                 0      F    employee     0        142594   \n",
       "3290  civil marriage                 1      F     retiree     0        118514   \n",
       "4182  civil marriage                 1      F    employee     0        142594   \n",
       "4851  civil marriage                 1      F     retiree     0        118514   \n",
       "\n",
       "                         purpose  \n",
       "1247                     wedding  \n",
       "2849  buying a home for a family  \n",
       "3290                     wedding  \n",
       "4182                     wedding  \n",
       "4851                     wedding  "
      ]
     },
     "execution_count": 20,
     "metadata": {},
     "output_type": "execute_result"
    }
   ],
   "source": [
    "data[data.duplicated()].head() # Count duplicates"
   ]
  },
  {
   "cell_type": "code",
   "execution_count": 21,
   "id": "db909bfd",
   "metadata": {},
   "outputs": [],
   "source": [
    "data = data.drop_duplicates()   # Remove duplicates"
   ]
  },
  {
   "cell_type": "markdown",
   "id": "1533891a",
   "metadata": {},
   "source": [
    "###  Data Categorization"
   ]
  },
  {
   "cell_type": "markdown",
   "id": "73b81193",
   "metadata": {},
   "source": [
    "**Based on the ranges indicated below, create a new column in the `data` called `total_income_category` with the following categories:**\n",
    "\n",
    "- 0–30000 — 'E';\n",
    "- 30001–50000 — 'D';\n",
    "- 50001–200000 — 'C';\n",
    "- 200001–1000000 — 'B';\n",
    "- 1000001 and above — 'A'.\n",
    "\n",
    "For example, a borrower with an income of 25000 should be assigned category `'E'`, and a client receiving 235000 — `'B'`. Use a custom function named `categorize_income()` and the `apply()` method."
   ]
  },
  {
   "cell_type": "code",
   "execution_count": 22,
   "id": "cf0cc923",
   "metadata": {},
   "outputs": [],
   "source": [
    "def categorize_income(total_income):\n",
    "    if 0 <= total_income <= 30000:\n",
    "        return 'E'\n",
    "    if 30001 <= total_income <= 50000:\n",
    "        return 'D'\n",
    "    if 50001 <= total_income <= 200000:\n",
    "        return 'C'\n",
    "    if 200001 <= total_income <= 1000000:\n",
    "        return 'B'\n",
    "    return 'A'\n",
    "\n",
    "data['total_income_category'] = data['total_income'].apply(categorize_income) "
   ]
  },
  {
   "cell_type": "markdown",
   "id": "83984281",
   "metadata": {},
   "source": [
    "**Display the list of unique purposes for taking a loan from the `purpose` column.**"
   ]
  },
  {
   "cell_type": "code",
   "execution_count": 23,
   "id": "6bff0c9a",
   "metadata": {},
   "outputs": [
    {
     "data": {
      "text/plain": [
       "array(['purchase of housing', 'car purchase', 'additional education',\n",
       "       'wedding', 'housing operations', 'education', 'for the wedding',\n",
       "       'buying a home for a family', 'purchase of real estate',\n",
       "       'purchase of commercial real estate',\n",
       "       'purchase of residential property', 'construction of own property',\n",
       "       'real estate', 'construction of real estate',\n",
       "       'for the purchase of a used car', 'to buy your own car',\n",
       "       'commercial real estate operations',\n",
       "       'residential real estate construction', 'housing',\n",
       "       'operations with your real estate', 'cars', 'take up education',\n",
       "       'used car deal', 'getting an education', 'car',\n",
       "       'obtaining additional education', 'buying own housing',\n",
       "       'real estate operations', 'obtaining higher education', 'your car',\n",
       "       'car deal', 'specialized education', 'higher education',\n",
       "       'buying housing for rent', 'for the purchase of a car',\n",
       "       'housing repairs', 'pursue higher education'], dtype=object)"
      ]
     },
     "execution_count": 23,
     "metadata": {},
     "output_type": "execute_result"
    }
   ],
   "source": [
    "data['purpose'].unique()"
   ]
  },
  {
   "cell_type": "markdown",
   "id": "1081a9b4",
   "metadata": {},
   "source": [
    "**Create a function that will create a new column `purpose_category` based on the data in the `purpose` column, with the following categories:**\n",
    "\n",
    "- `'operations with a car'`,\n",
    "- `'operations with real estate'`,\n",
    "- `'wedding planning'`,\n",
    "- `'getting an education'`.\n",
    "\n",
    "For example, if the `purpose` column contains the substring `'buying a car'`, then the `purpose_category` column should contain the string `'operations with a car'`.\n",
    "\n",
    "Use a custom function named `categorize_purpose()` and the `apply()` method. Examine the data in the `purpose` column and determine which substrings will help you correctly categorize it."
   ]
  },
  {
   "cell_type": "code",
   "execution_count": 24,
   "id": "d242d3e3",
   "metadata": {},
   "outputs": [],
   "source": [
    "def categorize_purpose(purpose):\n",
    "    # Categories for 'operations with a car'\n",
    "    if any(keyword in purpose for keyword in [\n",
    "        'car purchase', 'buying a car', 'buying a used car', 'to buy your own car', \n",
    "        'car deal', 'used car deal', 'your car', 'cars', 'car']):\n",
    "        return 'operations with a car'\n",
    "    \n",
    "    # Categories for 'operations with real estate'\n",
    "    if any(keyword in purpose for keyword in [\n",
    "        'purchase of housing', 'buying a home for a family', 'purchase of real estate', \n",
    "        'purchase of commercial real estate', 'purchase of residential property', \n",
    "        'construction of own property', 'real estate', 'construction of real estate',\n",
    "        'commercial real estate operations', 'residential real estate construction', \n",
    "        'operations with your real estate', 'buying own housing', \n",
    "        'buying housing for rent', 'housing repairs']):\n",
    "        return 'operations with real estate'\n",
    "    \n",
    "    # Categories for 'wedding planning'\n",
    "    if any(keyword in purpose for keyword in ['wedding', 'for the wedding', 'to play a wedding']):\n",
    "        return 'wedding planning'\n",
    "    \n",
    "    # Categories for 'getting an education'\n",
    "    if any(keyword in purpose for keyword in [\n",
    "        'additional education', 'education', 'getting education', 'take up education', \n",
    "        'obtaining additional education', 'specialized education', \n",
    "        'higher education', 'obtaining higher education', 'pursue higher education']):\n",
    "        return 'getting an education'\n",
    "    \n",
    "    # Default category for anything that does not fit the above\n",
    "    return 'other'\n",
    "\n",
    "# Apply the function\n",
    "data['purpose_category'] = data['purpose'].apply(categorize_purpose)"
   ]
  },
  {
   "cell_type": "markdown",
   "id": "49e4c51a",
   "metadata": {},
   "source": [
    "## Exploratory Data Analysis (EDA)"
   ]
  },
  {
   "cell_type": "markdown",
   "id": "5d4a6e2a",
   "metadata": {},
   "source": [
    "### Analyze the Proportion of Debtors Based on Number of Children"
   ]
  },
  {
   "cell_type": "markdown",
   "id": "9ee4af93",
   "metadata": {},
   "source": [
    "**Percentage of Debtors with No Children vs. with Children:**"
   ]
  },
  {
   "cell_type": "code",
   "execution_count": 25,
   "id": "e88f4f00",
   "metadata": {},
   "outputs": [
    {
     "name": "stdout",
     "output_type": "stream",
     "text": [
      "Proportion of debtors with no children: 8%\n",
      "Proportion of debtors with children: 9%\n",
      "Conclusion: Debtors are more common among people with children.\n"
     ]
    }
   ],
   "source": [
    "# Calculate the proportion of debtors with no children\n",
    "child_zero = data.loc[data['children'] == 0, 'debt']\n",
    "child_zero_conversion = child_zero.sum() / child_zero.count()\n",
    "print(f'Proportion of debtors with no children: {child_zero_conversion:.0%}')\n",
    "\n",
    "# Calculate the proportion of debtors with one or more children\n",
    "child_more = data.loc[data['children'] > 0, 'debt']\n",
    "child_more_conversion = child_more.sum() / child_more.count()\n",
    "print(f'Proportion of debtors with children: {child_more_conversion:.0%}')\n",
    "\n",
    "# Compare the proportions\n",
    "if child_zero_conversion > child_more_conversion:\n",
    "    print('Conclusion: Debtors are more common among people without children.')\n",
    "else:\n",
    "    print('Conclusion: Debtors are more common among people with children.')"
   ]
  },
  {
   "cell_type": "markdown",
   "id": "0c7fe4bb",
   "metadata": {},
   "source": [
    "**Percentage of Debtors by Number of Children:**"
   ]
  },
  {
   "cell_type": "code",
   "execution_count": 26,
   "id": "95ca00f6",
   "metadata": {},
   "outputs": [
    {
     "data": {
      "text/html": [
       "<div>\n",
       "<style scoped>\n",
       "    .dataframe tbody tr th:only-of-type {\n",
       "        vertical-align: middle;\n",
       "    }\n",
       "\n",
       "    .dataframe tbody tr th {\n",
       "        vertical-align: top;\n",
       "    }\n",
       "\n",
       "    .dataframe thead th {\n",
       "        text-align: right;\n",
       "    }\n",
       "</style>\n",
       "<table border=\"1\" class=\"dataframe\">\n",
       "  <thead>\n",
       "    <tr style=\"text-align: right;\">\n",
       "      <th></th>\n",
       "      <th>total_clients</th>\n",
       "      <th>total_debtors</th>\n",
       "      <th>debt_ratio</th>\n",
       "    </tr>\n",
       "    <tr>\n",
       "      <th>children</th>\n",
       "      <th></th>\n",
       "      <th></th>\n",
       "      <th></th>\n",
       "    </tr>\n",
       "  </thead>\n",
       "  <tbody>\n",
       "    <tr>\n",
       "      <th>0</th>\n",
       "      <td>14084</td>\n",
       "      <td>1063</td>\n",
       "      <td>7.55</td>\n",
       "    </tr>\n",
       "    <tr>\n",
       "      <th>1</th>\n",
       "      <td>4808</td>\n",
       "      <td>444</td>\n",
       "      <td>9.23</td>\n",
       "    </tr>\n",
       "    <tr>\n",
       "      <th>2</th>\n",
       "      <td>2051</td>\n",
       "      <td>194</td>\n",
       "      <td>9.46</td>\n",
       "    </tr>\n",
       "    <tr>\n",
       "      <th>3</th>\n",
       "      <td>330</td>\n",
       "      <td>27</td>\n",
       "      <td>8.18</td>\n",
       "    </tr>\n",
       "    <tr>\n",
       "      <th>4</th>\n",
       "      <td>41</td>\n",
       "      <td>4</td>\n",
       "      <td>9.76</td>\n",
       "    </tr>\n",
       "    <tr>\n",
       "      <th>5</th>\n",
       "      <td>9</td>\n",
       "      <td>0</td>\n",
       "      <td>0.00</td>\n",
       "    </tr>\n",
       "  </tbody>\n",
       "</table>\n",
       "</div>"
      ],
      "text/plain": [
       "          total_clients  total_debtors  debt_ratio\n",
       "children                                          \n",
       "0                 14084           1063        7.55\n",
       "1                  4808            444        9.23\n",
       "2                  2051            194        9.46\n",
       "3                   330             27        8.18\n",
       "4                    41              4        9.76\n",
       "5                     9              0        0.00"
      ]
     },
     "execution_count": 26,
     "metadata": {},
     "output_type": "execute_result"
    }
   ],
   "source": [
    "# Create a pivot table for all data\n",
    "pivot_table = pd.pivot_table(data, values='debt', index='children', aggfunc=['count', 'sum', 'mean'])\n",
    "pivot_table.columns = ['total_clients', 'total_debtors', 'debt_ratio']  # Rename columns\n",
    "pivot_table['debt_ratio'] = (pivot_table['debt_ratio'] * 100).round(2) # Convert debt ratio to percentage\n",
    "\n",
    "pivot_table"
   ]
  },
  {
   "cell_type": "markdown",
   "id": "fb328efa",
   "metadata": {},
   "source": [
    "**Conclusion**\n",
    "\n",
    "Based on the analysis of the most common categories—families with 0, 1, and 2 children—it can be concluded that clients without children are more likely to repay loans on time. As the number of children increases, the proportion of debtors also increases.\n",
    "\n"
   ]
  },
  {
   "cell_type": "markdown",
   "id": "49f02f9b",
   "metadata": {},
   "source": [
    "### Dependency Between Family Status and Loan Repayment"
   ]
  },
  {
   "cell_type": "markdown",
   "id": "f9c528e9",
   "metadata": {},
   "source": [
    "**Calculate and Print Proportions of Debtors by Family Status**"
   ]
  },
  {
   "cell_type": "code",
   "execution_count": 27,
   "id": "fc470181",
   "metadata": {},
   "outputs": [
    {
     "data": {
      "text/html": [
       "<div>\n",
       "<style scoped>\n",
       "    .dataframe tbody tr th:only-of-type {\n",
       "        vertical-align: middle;\n",
       "    }\n",
       "\n",
       "    .dataframe tbody tr th {\n",
       "        vertical-align: top;\n",
       "    }\n",
       "\n",
       "    .dataframe thead th {\n",
       "        text-align: right;\n",
       "    }\n",
       "</style>\n",
       "<table border=\"1\" class=\"dataframe\">\n",
       "  <thead>\n",
       "    <tr style=\"text-align: right;\">\n",
       "      <th></th>\n",
       "      <th>total_clients</th>\n",
       "      <th>total_debtors</th>\n",
       "      <th>debt_ratio</th>\n",
       "    </tr>\n",
       "    <tr>\n",
       "      <th>family_status</th>\n",
       "      <th></th>\n",
       "      <th></th>\n",
       "      <th></th>\n",
       "    </tr>\n",
       "  </thead>\n",
       "  <tbody>\n",
       "    <tr>\n",
       "      <th>civil marriage</th>\n",
       "      <td>4126</td>\n",
       "      <td>385</td>\n",
       "      <td>9.33</td>\n",
       "    </tr>\n",
       "    <tr>\n",
       "      <th>divorced</th>\n",
       "      <td>1189</td>\n",
       "      <td>84</td>\n",
       "      <td>7.06</td>\n",
       "    </tr>\n",
       "    <tr>\n",
       "      <th>married</th>\n",
       "      <td>12261</td>\n",
       "      <td>927</td>\n",
       "      <td>7.56</td>\n",
       "    </tr>\n",
       "    <tr>\n",
       "      <th>single</th>\n",
       "      <td>2796</td>\n",
       "      <td>273</td>\n",
       "      <td>9.76</td>\n",
       "    </tr>\n",
       "    <tr>\n",
       "      <th>widower / widow</th>\n",
       "      <td>951</td>\n",
       "      <td>63</td>\n",
       "      <td>6.62</td>\n",
       "    </tr>\n",
       "  </tbody>\n",
       "</table>\n",
       "</div>"
      ],
      "text/plain": [
       "                 total_clients  total_debtors  debt_ratio\n",
       "family_status                                            \n",
       "civil marriage            4126            385        9.33\n",
       "divorced                  1189             84        7.06\n",
       "married                  12261            927        7.56\n",
       "single                    2796            273        9.76\n",
       "widower / widow            951             63        6.62"
      ]
     },
     "execution_count": 27,
     "metadata": {},
     "output_type": "execute_result"
    }
   ],
   "source": [
    "# Create a pivot table\n",
    "pivot_table_family = pd.pivot_table(data, values='debt', index='family_status', aggfunc=['count', 'sum', 'mean'])\n",
    "pivot_table_family.columns = ['total_clients', 'total_debtors', 'debt_ratio'] # Rename columns\n",
    "pivot_table_family['debt_ratio'] = (pivot_table_family['debt_ratio'] * 100).round(2)  # Convert to percentage\n",
    "\n",
    "pivot_table_family"
   ]
  },
  {
   "cell_type": "markdown",
   "id": "188d7469",
   "metadata": {},
   "source": [
    "**Conclusion**\n",
    "\n",
    "Based on the pivot table, clients who are single are more likely to default on loans compared to those who are married or previously married."
   ]
  },
  {
   "cell_type": "markdown",
   "id": "8d625331",
   "metadata": {},
   "source": [
    "### Dependency Between Income Level and Loan Repayment"
   ]
  },
  {
   "cell_type": "markdown",
   "id": "b3852fe5",
   "metadata": {},
   "source": [
    "**Calculate and Print Proportions of Debtors by Income Category:**"
   ]
  },
  {
   "cell_type": "code",
   "execution_count": 28,
   "id": "ef9651af",
   "metadata": {},
   "outputs": [
    {
     "data": {
      "text/html": [
       "<div>\n",
       "<style scoped>\n",
       "    .dataframe tbody tr th:only-of-type {\n",
       "        vertical-align: middle;\n",
       "    }\n",
       "\n",
       "    .dataframe tbody tr th {\n",
       "        vertical-align: top;\n",
       "    }\n",
       "\n",
       "    .dataframe thead th {\n",
       "        text-align: right;\n",
       "    }\n",
       "</style>\n",
       "<table border=\"1\" class=\"dataframe\">\n",
       "  <thead>\n",
       "    <tr style=\"text-align: right;\">\n",
       "      <th></th>\n",
       "      <th>total_clients</th>\n",
       "      <th>total_debtors</th>\n",
       "      <th>debt_ratio</th>\n",
       "    </tr>\n",
       "    <tr>\n",
       "      <th>total_income_category</th>\n",
       "      <th></th>\n",
       "      <th></th>\n",
       "      <th></th>\n",
       "    </tr>\n",
       "  </thead>\n",
       "  <tbody>\n",
       "    <tr>\n",
       "      <th>A</th>\n",
       "      <td>25</td>\n",
       "      <td>2</td>\n",
       "      <td>8.00</td>\n",
       "    </tr>\n",
       "    <tr>\n",
       "      <th>B</th>\n",
       "      <td>5014</td>\n",
       "      <td>354</td>\n",
       "      <td>7.06</td>\n",
       "    </tr>\n",
       "    <tr>\n",
       "      <th>C</th>\n",
       "      <td>15913</td>\n",
       "      <td>1353</td>\n",
       "      <td>8.50</td>\n",
       "    </tr>\n",
       "    <tr>\n",
       "      <th>D</th>\n",
       "      <td>349</td>\n",
       "      <td>21</td>\n",
       "      <td>6.02</td>\n",
       "    </tr>\n",
       "    <tr>\n",
       "      <th>E</th>\n",
       "      <td>22</td>\n",
       "      <td>2</td>\n",
       "      <td>9.09</td>\n",
       "    </tr>\n",
       "  </tbody>\n",
       "</table>\n",
       "</div>"
      ],
      "text/plain": [
       "                       total_clients  total_debtors  debt_ratio\n",
       "total_income_category                                          \n",
       "A                                 25              2        8.00\n",
       "B                               5014            354        7.06\n",
       "C                              15913           1353        8.50\n",
       "D                                349             21        6.02\n",
       "E                                 22              2        9.09"
      ]
     },
     "execution_count": 28,
     "metadata": {},
     "output_type": "execute_result"
    }
   ],
   "source": [
    "# Create a pivot table\n",
    "pivot_table_income = pd.pivot_table(data, values='debt', index='total_income_category', aggfunc=['count', 'sum', 'mean'])\n",
    "pivot_table_income.columns = ['total_clients', 'total_debtors', 'debt_ratio']  # Rename columns\n",
    "pivot_table_income['debt_ratio'] = (pivot_table_income['debt_ratio'] * 100).round(2)# Convert to percentage\n",
    "\n",
    "pivot_table_income"
   ]
  },
  {
   "cell_type": "markdown",
   "id": "fdab9f29",
   "metadata": {},
   "source": [
    "**Conclusion**\n",
    "\n",
    "Based on the comparison of the most common income categories (B and C), it appears that higher income levels are associated with a lower likelihood of loan default."
   ]
  },
  {
   "cell_type": "markdown",
   "id": "2474d61b",
   "metadata": {},
   "source": [
    "### Impact of Loan Purpose on Repayment"
   ]
  },
  {
   "cell_type": "markdown",
   "id": "e7d4cd8f",
   "metadata": {},
   "source": [
    "Calculate and Print Proportions of Debtors by Loan Purpose:"
   ]
  },
  {
   "cell_type": "code",
   "execution_count": 29,
   "id": "a417c5aa",
   "metadata": {},
   "outputs": [
    {
     "data": {
      "text/html": [
       "<div>\n",
       "<style scoped>\n",
       "    .dataframe tbody tr th:only-of-type {\n",
       "        vertical-align: middle;\n",
       "    }\n",
       "\n",
       "    .dataframe tbody tr th {\n",
       "        vertical-align: top;\n",
       "    }\n",
       "\n",
       "    .dataframe thead th {\n",
       "        text-align: right;\n",
       "    }\n",
       "</style>\n",
       "<table border=\"1\" class=\"dataframe\">\n",
       "  <thead>\n",
       "    <tr style=\"text-align: right;\">\n",
       "      <th></th>\n",
       "      <th>total_clients</th>\n",
       "      <th>total_debtors</th>\n",
       "      <th>debt_ratio</th>\n",
       "    </tr>\n",
       "    <tr>\n",
       "      <th>purpose_category</th>\n",
       "      <th></th>\n",
       "      <th></th>\n",
       "      <th></th>\n",
       "    </tr>\n",
       "  </thead>\n",
       "  <tbody>\n",
       "    <tr>\n",
       "      <th>getting an education</th>\n",
       "      <td>3988</td>\n",
       "      <td>369</td>\n",
       "      <td>9.25</td>\n",
       "    </tr>\n",
       "    <tr>\n",
       "      <th>operations with a car</th>\n",
       "      <td>4279</td>\n",
       "      <td>400</td>\n",
       "      <td>9.35</td>\n",
       "    </tr>\n",
       "    <tr>\n",
       "      <th>operations with real estate</th>\n",
       "      <td>9463</td>\n",
       "      <td>686</td>\n",
       "      <td>7.25</td>\n",
       "    </tr>\n",
       "    <tr>\n",
       "      <th>other</th>\n",
       "      <td>1288</td>\n",
       "      <td>94</td>\n",
       "      <td>7.30</td>\n",
       "    </tr>\n",
       "    <tr>\n",
       "      <th>wedding planning</th>\n",
       "      <td>2305</td>\n",
       "      <td>183</td>\n",
       "      <td>7.94</td>\n",
       "    </tr>\n",
       "  </tbody>\n",
       "</table>\n",
       "</div>"
      ],
      "text/plain": [
       "                             total_clients  total_debtors  debt_ratio\n",
       "purpose_category                                                     \n",
       "getting an education                  3988            369        9.25\n",
       "operations with a car                 4279            400        9.35\n",
       "operations with real estate           9463            686        7.25\n",
       "other                                 1288             94        7.30\n",
       "wedding planning                      2305            183        7.94"
      ]
     },
     "execution_count": 29,
     "metadata": {},
     "output_type": "execute_result"
    }
   ],
   "source": [
    "# Create a pivot table\n",
    "pivot_table_purpose = pd.pivot_table(data, values='debt', index='purpose_category', aggfunc=['count', 'sum', 'mean'])\n",
    "pivot_table_purpose.columns = ['total_clients', 'total_debtors', 'debt_ratio']  # Rename columns\n",
    "pivot_table_purpose['debt_ratio'] = (pivot_table_purpose['debt_ratio'] * 100).round(2)# Convert to percentage\n",
    "\n",
    "pivot_table_purpose"
   ]
  },
  {
   "cell_type": "markdown",
   "id": "481b6461",
   "metadata": {},
   "source": [
    "**Conclusion**\n",
    "\n",
    "Clients taking loans for real estate purposes tend to have a lower default rate compared to those taking loans for other purposes."
   ]
  },
  {
   "cell_type": "markdown",
   "id": "40029300",
   "metadata": {},
   "source": [
    "## Research Summary\n",
    "\n",
    "The analysis of bank client data reveals several key insights. Factors such as the number of children, marital status, income level, and loan purpose significantly influence the likelihood of timely loan repayment.\n",
    "\n",
    "- **Children:** Clients without children tend to repay loans more reliably.\n",
    "- **Marital Status:** Unmarried clients are more likely to default on loans compared to their married counterparts.\n",
    "- **Income Level:** Although the overall impact of income on loan repayment is not strongly evident, higher-income clients generally show better repayment behavior.\n",
    "- **Loan Purpose:** Clients who take loans for real estate are more responsible in repayments compared to those borrowing for other purposes.\n",
    "\n",
    "These findings suggest that the bank should consider these factors when assessing loan risk and making lending decisions to minimize the likelihood of defaults.\n",
    "\n",
    "**Recommendation:** The bank should gather additional data on clients' income, expenses, and other loans to improve the accuracy of scoring models. Including employment stability, job position, and tenure data could further enhance financial stability assessments.\n",
    "\n",
    "Implementing these recommendations can improve data quality, scoring accuracy, and reduce the risk of loan defaults."
   ]
  }
 ],
 "metadata": {
  "kernelspec": {
   "display_name": "Python 3 (ipykernel)",
   "language": "python",
   "name": "python3"
  },
  "language_info": {
   "codemirror_mode": {
    "name": "ipython",
    "version": 3
   },
   "file_extension": ".py",
   "mimetype": "text/x-python",
   "name": "python",
   "nbconvert_exporter": "python",
   "pygments_lexer": "ipython3",
   "version": "3.11.5"
  },
  "toc": {
   "base_numbering": 1,
   "nav_menu": {},
   "number_sections": true,
   "sideBar": true,
   "skip_h1_title": true,
   "title_cell": "Table of Contents",
   "title_sidebar": "Contents",
   "toc_cell": true,
   "toc_position": {},
   "toc_section_display": true,
   "toc_window_display": false
  }
 },
 "nbformat": 4,
 "nbformat_minor": 5
}
