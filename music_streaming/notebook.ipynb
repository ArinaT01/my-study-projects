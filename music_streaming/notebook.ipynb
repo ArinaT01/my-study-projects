{
 "cells": [
  {
   "cell_type": "markdown",
   "id": "601c29b7",
   "metadata": {
    "toc": true
   },
   "source": [
    "<h1>Table of Contents<span class=\"tocSkip\"></span></h1>\n",
    "<div class=\"toc\"><ul class=\"toc-item\"><li><span><a href=\"#Data-Overview\" data-toc-modified-id=\"Data-Overview-1\"><span class=\"toc-item-num\">1&nbsp;&nbsp;</span>Data Overview</a></span></li><li><span><a href=\"#Data-Preprocessing\" data-toc-modified-id=\"Data-Preprocessing-2\"><span class=\"toc-item-num\">2&nbsp;&nbsp;</span>Data Preprocessing</a></span><ul class=\"toc-item\"><li><span><a href=\"#Column-Header-Style\" data-toc-modified-id=\"Column-Header-Style-2.1\"><span class=\"toc-item-num\">2.1&nbsp;&nbsp;</span>Column Header Style</a></span></li><li><span><a href=\"#Handling-Missing-Values\" data-toc-modified-id=\"Handling-Missing-Values-2.2\"><span class=\"toc-item-num\">2.2&nbsp;&nbsp;</span>Handling Missing Values</a></span></li><li><span><a href=\"#Duplicates\" data-toc-modified-id=\"Duplicates-2.3\"><span class=\"toc-item-num\">2.3&nbsp;&nbsp;</span>Duplicates</a></span></li></ul></li><li><span><a href=\"#Hypothesis-Testing\" data-toc-modified-id=\"Hypothesis-Testing-3\"><span class=\"toc-item-num\">3&nbsp;&nbsp;</span>Hypothesis Testing</a></span><ul class=\"toc-item\"><li><span><a href=\"#Comparison-of-User-Behavior-Between-Two-Cities\" data-toc-modified-id=\"Comparison-of-User-Behavior-Between-Two-Cities-3.1\"><span class=\"toc-item-num\">3.1&nbsp;&nbsp;</span>Comparison of User Behavior Between Two Cities</a></span></li><li><span><a href=\"#Music-at-the-Beginning-and-End-of-the-Week\" data-toc-modified-id=\"Music-at-the-Beginning-and-End-of-the-Week-3.2\"><span class=\"toc-item-num\">3.2&nbsp;&nbsp;</span>Music at the Beginning and End of the Week</a></span></li><li><span><a href=\"#Genre-Preferences-in-Alpha-and-Beta\" data-toc-modified-id=\"Genre-Preferences-in-Alpha-and-Beta-3.3\"><span class=\"toc-item-num\">3.3&nbsp;&nbsp;</span>Genre Preferences in Alpha and Beta</a></span></li></ul></li><li><span><a href=\"#Research-Summary\" data-toc-modified-id=\"Research-Summary-4\"><span class=\"toc-item-num\">4&nbsp;&nbsp;</span>Research Summary</a></span></li></ul></div>"
   ]
  },
  {
   "cell_type": "markdown",
   "id": "12bcb37a",
   "metadata": {},
   "source": [
    "# Music Listening Habits: A Comparison of Two Major Cities\n",
    "\n",
    "This project explores the listening habits of users from two major cities, often surrounded by myths. For example:\n",
    "\n",
    "- **City Alpha** is a bustling metropolis driven by the fast-paced rhythm of the workweek.\n",
    "- **City Beta** is known as a cultural hub with distinct tastes.\n",
    "\n",
    "Using data from **MusicHub**, we will compare the behavior of users from these two cities."
   ]
  },
  {
   "cell_type": "markdown",
   "id": "ba13efbc",
   "metadata": {},
   "source": [
    "**Objective:** The research aims to test the following hypotheses:\n",
    "\n",
    "1. User activity varies depending on the day of the week, with differences between City Alpha and City Beta.\n",
    "2. On Monday mornings, certain genres are more popular in City Alpha, while others dominate in City Beta. Similarly, on Friday evenings, different genres prevail in each city.\n",
    "3. City Alpha and City Beta have distinct musical preferences, with pop music being more popular in City Alpha and  a specific genre, like rap, being more favored in City Beta.\n",
    "\n",
    "**Research Process**\n",
    "\n",
    "The data on user behavior is provided in the file **musichub_data.csv**. Since the quality of the data is unknown, it is crucial to review the dataset before testing the hypotheses.\n",
    "\n",
    "The study will involve three main stages:\n",
    "\n",
    "- **Data Overview**: Initial exploration of the data to understand its structure and content.\n",
    "- **Data Preprocessing**: Cleaning and preparing the data for analysis, addressing any critical data quality issues.\n",
    "- **Hypothesis Testing**: Conducting statistical analysis to validate or refute the hypotheses."
   ]
  },
  {
   "cell_type": "markdown",
   "id": "841febfb",
   "metadata": {},
   "source": [
    "## Data Overview\n",
    "\n",
    "Let's start by examining the **MusicHub** data."
   ]
  },
  {
   "cell_type": "markdown",
   "id": "477f17cf",
   "metadata": {},
   "source": [
    "**First, import the necessary library:**"
   ]
  },
  {
   "cell_type": "code",
   "execution_count": 1,
   "id": "e783239c",
   "metadata": {},
   "outputs": [],
   "source": [
    "import pandas as pd # Import the pandas library"
   ]
  },
  {
   "cell_type": "markdown",
   "id": "187ec9a4",
   "metadata": {},
   "source": [
    "**Next, read the file `musichub_data.csv` and store it in a variable `df`:**"
   ]
  },
  {
   "cell_type": "code",
   "execution_count": 2,
   "id": "d7c64049",
   "metadata": {},
   "outputs": [],
   "source": [
    "df = pd.read_csv('/Users/arina/Downloads/my-study-projects/musichub_data.csv') \n",
    "df.to_csv('musichub_data.csv', index=False)"
   ]
  },
  {
   "cell_type": "markdown",
   "id": "1a8e40b6",
   "metadata": {},
   "source": [
    "**Display the first ten rows of the table and get general information about the data using the `info()` method:**"
   ]
  },
  {
   "cell_type": "code",
   "execution_count": 3,
   "id": "745384ea",
   "metadata": {},
   "outputs": [
    {
     "data": {
      "text/html": [
       "<div>\n",
       "<style scoped>\n",
       "    .dataframe tbody tr th:only-of-type {\n",
       "        vertical-align: middle;\n",
       "    }\n",
       "\n",
       "    .dataframe tbody tr th {\n",
       "        vertical-align: top;\n",
       "    }\n",
       "\n",
       "    .dataframe thead th {\n",
       "        text-align: right;\n",
       "    }\n",
       "</style>\n",
       "<table border=\"1\" class=\"dataframe\">\n",
       "  <thead>\n",
       "    <tr style=\"text-align: right;\">\n",
       "      <th></th>\n",
       "      <th>userID</th>\n",
       "      <th>Track</th>\n",
       "      <th>artist</th>\n",
       "      <th>genre</th>\n",
       "      <th>City</th>\n",
       "      <th>time</th>\n",
       "      <th>Day</th>\n",
       "    </tr>\n",
       "  </thead>\n",
       "  <tbody>\n",
       "    <tr>\n",
       "      <th>0</th>\n",
       "      <td>FFB692EC</td>\n",
       "      <td>Kamigata To Boots</td>\n",
       "      <td>The Mass Missile</td>\n",
       "      <td>rock</td>\n",
       "      <td>Beta</td>\n",
       "      <td>20:28:33</td>\n",
       "      <td>Wednesday</td>\n",
       "    </tr>\n",
       "    <tr>\n",
       "      <th>1</th>\n",
       "      <td>55204538</td>\n",
       "      <td>Delayed Because of Accident</td>\n",
       "      <td>Andreas Rönnberg</td>\n",
       "      <td>rock</td>\n",
       "      <td>Alpha</td>\n",
       "      <td>14:07:09</td>\n",
       "      <td>Friday</td>\n",
       "    </tr>\n",
       "    <tr>\n",
       "      <th>2</th>\n",
       "      <td>20EC38</td>\n",
       "      <td>Funiculì funiculà</td>\n",
       "      <td>Mario Lanza</td>\n",
       "      <td>pop</td>\n",
       "      <td>Beta</td>\n",
       "      <td>20:58:07</td>\n",
       "      <td>Wednesday</td>\n",
       "    </tr>\n",
       "    <tr>\n",
       "      <th>3</th>\n",
       "      <td>A3DD03C9</td>\n",
       "      <td>Dragons in the Sunset</td>\n",
       "      <td>Fire + Ice</td>\n",
       "      <td>folk</td>\n",
       "      <td>Beta</td>\n",
       "      <td>08:37:09</td>\n",
       "      <td>Monday</td>\n",
       "    </tr>\n",
       "    <tr>\n",
       "      <th>4</th>\n",
       "      <td>E2DC1FAE</td>\n",
       "      <td>Soul People</td>\n",
       "      <td>Space Echo</td>\n",
       "      <td>dance</td>\n",
       "      <td>Alpha</td>\n",
       "      <td>08:34:34</td>\n",
       "      <td>Monday</td>\n",
       "    </tr>\n",
       "    <tr>\n",
       "      <th>5</th>\n",
       "      <td>842029A1</td>\n",
       "      <td>Преданная</td>\n",
       "      <td>IMPERVTOR</td>\n",
       "      <td>rusrap</td>\n",
       "      <td>Beta</td>\n",
       "      <td>13:09:41</td>\n",
       "      <td>Friday</td>\n",
       "    </tr>\n",
       "    <tr>\n",
       "      <th>6</th>\n",
       "      <td>4CB90AA5</td>\n",
       "      <td>TRUE</td>\n",
       "      <td>Roman Messer</td>\n",
       "      <td>dance</td>\n",
       "      <td>Alpha</td>\n",
       "      <td>13:00:07</td>\n",
       "      <td>Wednesday</td>\n",
       "    </tr>\n",
       "    <tr>\n",
       "      <th>7</th>\n",
       "      <td>F03E1C1F</td>\n",
       "      <td>Feeling This Way</td>\n",
       "      <td>Polina Griffith</td>\n",
       "      <td>dance</td>\n",
       "      <td>Alpha</td>\n",
       "      <td>20:47:49</td>\n",
       "      <td>Wednesday</td>\n",
       "    </tr>\n",
       "    <tr>\n",
       "      <th>8</th>\n",
       "      <td>8FA1D3BE</td>\n",
       "      <td>И вновь продолжается бой</td>\n",
       "      <td>NaN</td>\n",
       "      <td>ruspop</td>\n",
       "      <td>Alpha</td>\n",
       "      <td>09:17:40</td>\n",
       "      <td>Friday</td>\n",
       "    </tr>\n",
       "    <tr>\n",
       "      <th>9</th>\n",
       "      <td>E772D5C0</td>\n",
       "      <td>Pessimist</td>\n",
       "      <td>NaN</td>\n",
       "      <td>dance</td>\n",
       "      <td>Beta</td>\n",
       "      <td>21:20:49</td>\n",
       "      <td>Wednesday</td>\n",
       "    </tr>\n",
       "  </tbody>\n",
       "</table>\n",
       "</div>"
      ],
      "text/plain": [
       "     userID                        Track            artist   genre   City  \\\n",
       "0  FFB692EC            Kamigata To Boots  The Mass Missile    rock   Beta   \n",
       "1  55204538  Delayed Because of Accident  Andreas Rönnberg    rock  Alpha   \n",
       "2    20EC38            Funiculì funiculà       Mario Lanza     pop   Beta   \n",
       "3  A3DD03C9        Dragons in the Sunset        Fire + Ice    folk   Beta   \n",
       "4  E2DC1FAE                  Soul People        Space Echo   dance  Alpha   \n",
       "5  842029A1                    Преданная         IMPERVTOR  rusrap   Beta   \n",
       "6  4CB90AA5                         TRUE      Roman Messer   dance  Alpha   \n",
       "7  F03E1C1F             Feeling This Way   Polina Griffith   dance  Alpha   \n",
       "8  8FA1D3BE     И вновь продолжается бой               NaN  ruspop  Alpha   \n",
       "9  E772D5C0                    Pessimist               NaN   dance   Beta   \n",
       "\n",
       "       time        Day  \n",
       "0  20:28:33  Wednesday  \n",
       "1  14:07:09     Friday  \n",
       "2  20:58:07  Wednesday  \n",
       "3  08:37:09     Monday  \n",
       "4  08:34:34     Monday  \n",
       "5  13:09:41     Friday  \n",
       "6  13:00:07  Wednesday  \n",
       "7  20:47:49  Wednesday  \n",
       "8  09:17:40     Friday  \n",
       "9  21:20:49  Wednesday  "
      ]
     },
     "execution_count": 3,
     "metadata": {},
     "output_type": "execute_result"
    }
   ],
   "source": [
    "df.head(10) # Display the first 10 rows of the dataframe df"
   ]
  },
  {
   "cell_type": "code",
   "execution_count": 4,
   "id": "a9f61939",
   "metadata": {},
   "outputs": [
    {
     "name": "stdout",
     "output_type": "stream",
     "text": [
      "<class 'pandas.core.frame.DataFrame'>\n",
      "RangeIndex: 65079 entries, 0 to 65078\n",
      "Data columns (total 7 columns):\n",
      " #   Column  Non-Null Count  Dtype \n",
      "---  ------  --------------  ----- \n",
      " 0   userID  65079 non-null  object\n",
      " 1   Track   63848 non-null  object\n",
      " 2   artist  57876 non-null  object\n",
      " 3   genre   63881 non-null  object\n",
      " 4   City    65079 non-null  object\n",
      " 5   time    65079 non-null  object\n",
      " 6   Day     65079 non-null  object\n",
      "dtypes: object(7)\n",
      "memory usage: 3.5+ MB\n"
     ]
    }
   ],
   "source": [
    "df.info() # Get general information about the data in the dataframe df"
   ]
  },
  {
   "cell_type": "markdown",
   "id": "bb4f4f38",
   "metadata": {},
   "source": [
    "**Observations**\n",
    "\n",
    "The table contains seven columns. The data type for all columns is `object`.\n",
    "\n",
    "According to the data documentation:\n",
    "* `userID` — unique identifier for the user;\n",
    "* `Track` — the name of the track;\n",
    "* `artist` — the name of the artist;\n",
    "* `genre` — the name of the genre;\n",
    "* `City` — the city of the user;\n",
    "* `time` — the time the listening started;\n",
    "* `Day` — the day of the week.\n",
    "\n",
    "There are varying numbers of entries in the columns, indicating missing values."
   ]
  },
  {
   "cell_type": "markdown",
   "id": "c7e70a44",
   "metadata": {},
   "source": [
    "Three style issues are visible in the column names:\n",
    "\n",
    "- A mix of lowercase and uppercase letters.\n",
    "- Presence of spaces.\n",
    "- Absence of underscores."
   ]
  },
  {
   "cell_type": "markdown",
   "id": "e61616ca",
   "metadata": {},
   "source": [
    "**Conclusion**\n",
    "\n",
    "Each row in the table represents data on a track that was listened to. Some columns describe the track itself (title, artist, genre), while others provide information about the user (city, listening time).\n",
    "\n",
    "Preliminary analysis suggests that the data is sufficient for hypothesis testing. However, there are missing values and inconsistencies in the column names that need to be addressed.\n",
    "\n",
    "To proceed, these data issues should be resolved."
   ]
  },
  {
   "cell_type": "markdown",
   "id": "777a9771",
   "metadata": {},
   "source": [
    "## Data Preprocessing\n",
    "In this step, we will fix the style of the column headers and address any missing values. We'll also check the data for duplicates."
   ]
  },
  {
   "cell_type": "markdown",
   "id": "baad0c1f",
   "metadata": {},
   "source": [
    "### Column Header Style\n",
    "**First, let's display the current column names:**"
   ]
  },
  {
   "cell_type": "code",
   "execution_count": 5,
   "id": "e9141f81",
   "metadata": {},
   "outputs": [
    {
     "data": {
      "text/plain": [
       "Index(['userID', 'Track', 'artist', 'genre', 'City', 'time', 'Day'], dtype='object')"
      ]
     },
     "execution_count": 5,
     "metadata": {},
     "output_type": "execute_result"
    }
   ],
   "source": [
    "df.columns"
   ]
  },
  {
   "cell_type": "markdown",
   "id": "9913fe54",
   "metadata": {},
   "source": [
    "**Now, let's rename the columns to follow a consistent style:**"
   ]
  },
  {
   "cell_type": "code",
   "execution_count": 6,
   "id": "650f1db6",
   "metadata": {},
   "outputs": [],
   "source": [
    "df = df.rename(columns={'userID': 'user_id', 'Track': 'track', 'City': 'city', 'Day': 'day'})"
   ]
  },
  {
   "cell_type": "markdown",
   "id": "c362b966",
   "metadata": {},
   "source": [
    "### Handling Missing Values\n",
    "**Next, we'll count the number of missing values in the table:**"
   ]
  },
  {
   "cell_type": "code",
   "execution_count": 7,
   "id": "263f564e",
   "metadata": {},
   "outputs": [
    {
     "data": {
      "text/plain": [
       "user_id       0\n",
       "track      1231\n",
       "artist     7203\n",
       "genre      1198\n",
       "city          0\n",
       "time          0\n",
       "day           0\n",
       "dtype: int64"
      ]
     },
     "execution_count": 7,
     "metadata": {},
     "output_type": "execute_result"
    }
   ],
   "source": [
    "df.isna().sum() # Count missing values"
   ]
  },
  {
   "cell_type": "markdown",
   "id": "403bc960",
   "metadata": {},
   "source": [
    "Not all missing values impact our analysis. For instance, missing values in `track` and `artist` are not critical for our study. These can be replaced with a placeholder.\n",
    "\n",
    "However, missing values in `genre` might hinder our ability to compare the musical preferences between City Alpha and City Beta. In a real-world scenario, it would be ideal to investigate the cause of these missing values and attempt to recover the data. However, in this project, we will:\n",
    "\n",
    "* Replace missing values with explicit placeholders.\n",
    "* Assess how this might affect the results."
   ]
  },
  {
   "cell_type": "markdown",
   "id": "0e772176",
   "metadata": {},
   "source": [
    "**We'll replace the missing values in the `track`, `artist`, and `genre` columns with the string `'unknown'`.**\n",
    "\n",
    "To do this, create a list `columns_to_replace`, iterate over its elements with a `for` loop, and replace missing values in each column:"
   ]
  },
  {
   "cell_type": "code",
   "execution_count": 8,
   "id": "316c3d55",
   "metadata": {},
   "outputs": [],
   "source": [
    "columns_to_replace = ['track','artist','genre']\n",
    "for column in columns_to_replace:\n",
    "    df[column] = df[column].fillna('unknown') "
   ]
  },
  {
   "cell_type": "markdown",
   "id": "a6487d40",
   "metadata": {},
   "source": [
    "### Duplicates\n",
    "**First, let's count the number of explicit duplicates in the dataset:**"
   ]
  },
  {
   "cell_type": "code",
   "execution_count": 9,
   "id": "031c879b",
   "metadata": {},
   "outputs": [
    {
     "data": {
      "text/plain": [
       "3826"
      ]
     },
     "execution_count": 9,
     "metadata": {},
     "output_type": "execute_result"
    }
   ],
   "source": [
    "df.duplicated().sum() # Count explicit duplicates"
   ]
  },
  {
   "cell_type": "markdown",
   "id": "6bf301f7",
   "metadata": {},
   "source": [
    "**Now, let's remove these duplicates:**"
   ]
  },
  {
   "cell_type": "code",
   "execution_count": 10,
   "id": "9842ab62",
   "metadata": {},
   "outputs": [],
   "source": [
    "df = df.drop_duplicates().reset_index(drop=True)  # Remove explicit duplicates"
   ]
  },
  {
   "cell_type": "markdown",
   "id": "a0967065",
   "metadata": {},
   "source": [
    "Next, let's address implicit duplicates in the `genre` column. For example, the same genre might be recorded in slightly different ways, which could skew our analysis."
   ]
  },
  {
   "cell_type": "markdown",
   "id": "2a3e5b37",
   "metadata": {},
   "source": [
    "**To begin, let's display a sorted list of unique genre names:**\n",
    "\n",
    "* Extract the genre column from the DataFrame.\n",
    "* Sort the values in this column.\n",
    "* Display the unique values in the sorted column."
   ]
  },
  {
   "cell_type": "code",
   "execution_count": 11,
   "id": "556fac05",
   "metadata": {},
   "outputs": [
    {
     "data": {
      "text/plain": [
       "array(['acid', 'acoustic', 'action', 'adult', 'africa', 'afrikaans',\n",
       "       'alternative', 'alternativepunk', 'ambient', 'americana',\n",
       "       'animated', 'anime', 'arabesk', 'arabic', 'arena',\n",
       "       'argentinetango', 'art', 'audiobook', 'author', 'avantgarde',\n",
       "       'axé', 'baile', 'balkan', 'beats', 'bigroom', 'black', 'bluegrass',\n",
       "       'blues', 'bollywood', 'bossa', 'brazilian', 'breakbeat', 'breaks',\n",
       "       'broadway', 'cantautori', 'cantopop', 'canzone', 'caribbean',\n",
       "       'caucasian', 'celtic', 'chamber', 'chanson', 'children', 'chill',\n",
       "       'chinese', 'choral', 'christian', 'christmas', 'classical',\n",
       "       'classicmetal', 'club', 'colombian', 'comedy', 'conjazz',\n",
       "       'contemporary', 'country', 'cuban', 'dance', 'dancehall',\n",
       "       'dancepop', 'dark', 'death', 'deep', 'deutschrock', 'deutschspr',\n",
       "       'dirty', 'disco', 'dnb', 'documentary', 'downbeat', 'downtempo',\n",
       "       'drum', 'dub', 'dubstep', 'eastern', 'easy', 'electronic',\n",
       "       'electropop', 'emo', 'entehno', 'epicmetal', 'estrada', 'ethnic',\n",
       "       'eurofolk', 'european', 'experimental', 'extrememetal', 'fado',\n",
       "       'fairytail', 'film', 'fitness', 'flamenco', 'folk', 'folklore',\n",
       "       'folkmetal', 'folkrock', 'folktronica', 'forró', 'frankreich',\n",
       "       'französisch', 'french', 'funk', 'future', 'gangsta', 'garage',\n",
       "       'german', 'ghazal', 'gitarre', 'glitch', 'gospel', 'gothic',\n",
       "       'grime', 'grunge', 'gypsy', 'handsup', \"hard'n'heavy\", 'hardcore',\n",
       "       'hardstyle', 'hardtechno', 'hip', 'hip-hop', 'hiphop',\n",
       "       'historisch', 'holiday', 'hop', 'horror', 'house', 'hymn', 'idm',\n",
       "       'independent', 'indian', 'indie', 'indipop', 'industrial',\n",
       "       'inspirational', 'instrumental', 'international', 'irish', 'jam',\n",
       "       'japanese', 'jazz', 'jewish', 'jpop', 'jungle', 'k-pop',\n",
       "       'karadeniz', 'karaoke', 'kayokyoku', 'korean', 'laiko', 'latin',\n",
       "       'latino', 'leftfield', 'local', 'lounge', 'loungeelectronic',\n",
       "       'lovers', 'malaysian', 'mandopop', 'marschmusik', 'meditative',\n",
       "       'mediterranean', 'melodic', 'metal', 'metalcore', 'mexican',\n",
       "       'middle', 'minimal', 'miscellaneous', 'modern', 'mood', 'mpb',\n",
       "       'muslim', 'native', 'neoklassik', 'neue', 'new', 'newage',\n",
       "       'newwave', 'nu', 'nujazz', 'numetal', 'oceania', 'old', 'opera',\n",
       "       'orchestral', 'other', 'piano', 'podcasts', 'pop', 'popdance',\n",
       "       'popelectronic', 'popeurodance', 'poprussian', 'post',\n",
       "       'posthardcore', 'postrock', 'power', 'progmetal', 'progressive',\n",
       "       'psychedelic', 'punjabi', 'punk', 'quebecois', 'ragga', 'ram',\n",
       "       'rancheras', 'rap', 'rave', 'reggae', 'reggaeton', 'regional',\n",
       "       'relax', 'religious', 'retro', 'rhythm', 'rnb', 'rnr', 'rock',\n",
       "       'rockabilly', 'rockalternative', 'rockindie', 'rockother',\n",
       "       'romance', 'roots', 'ruspop', 'rusrap', 'rusrock', 'russian',\n",
       "       'salsa', 'samba', 'scenic', 'schlager', 'self', 'sertanejo',\n",
       "       'shanson', 'shoegazing', 'showtunes', 'singer', 'ska', 'skarock',\n",
       "       'slow', 'smooth', 'soft', 'soul', 'soulful', 'sound', 'soundtrack',\n",
       "       'southern', 'specialty', 'speech', 'spiritual', 'sport',\n",
       "       'stonerrock', 'surf', 'swing', 'synthpop', 'synthrock',\n",
       "       'sängerportrait', 'tango', 'tanzorchester', 'taraftar', 'tatar',\n",
       "       'tech', 'techno', 'teen', 'thrash', 'top', 'traditional',\n",
       "       'tradjazz', 'trance', 'tribal', 'trip', 'triphop', 'tropical',\n",
       "       'türk', 'türkçe', 'ukrrock', 'unknown', 'urban', 'uzbek',\n",
       "       'variété', 'vi', 'videogame', 'vocal', 'western', 'world',\n",
       "       'worldbeat', 'ïîï', 'электроника'], dtype=object)"
      ]
     },
     "execution_count": 11,
     "metadata": {},
     "output_type": "execute_result"
    }
   ],
   "source": [
    "genre = df['genre']\n",
    "genre = genre.sort_values()\n",
    "genre = genre.unique()\n",
    "genre"
   ]
  },
  {
   "cell_type": "markdown",
   "id": "dda991e7",
   "metadata": {},
   "source": [
    "In the list, you'll find implicit duplicates such as variations of `hiphop`, which might include typos or alternative spellings."
   ]
  },
  {
   "cell_type": "markdown",
   "id": "658f20d3",
   "metadata": {},
   "source": [
    "**We need to standardize these values.** \n",
    "\n",
    "For example, replace `hip`, `hop`, and `hip-hop` with `hiphop`:"
   ]
  },
  {
   "cell_type": "code",
   "execution_count": 12,
   "id": "ae7c5799",
   "metadata": {},
   "outputs": [],
   "source": [
    "df['genre'] = df['genre'].replace(['hip', 'hop', 'hip-hop'], 'hiphop') # Fix implicit duplicates"
   ]
  },
  {
   "cell_type": "markdown",
   "id": "ca5905a6",
   "metadata": {},
   "source": [
    "**Conclusions**\n",
    "\n",
    "The data preprocessing phase uncovered three main issues:\n",
    "\n",
    "- Inconsistent column header styles.\n",
    "- Missing values.\n",
    "- Duplicates, both explicit and implicit.\n",
    "\n",
    "We have corrected the column headers for easier data handling and removed duplicates, which should improve the accuracy of the analysis.\n",
    "\n",
    "Missing values have been replaced with `'unknown'`. We will need to monitor whether the missing data in the `genre` column impacts our study.\n",
    "\n",
    "With these issues addressed, we can now proceed to hypothesis testing."
   ]
  },
  {
   "cell_type": "markdown",
   "id": "f1336e65",
   "metadata": {},
   "source": [
    "## Hypothesis Testing"
   ]
  },
  {
   "cell_type": "markdown",
   "id": "2b43d61f",
   "metadata": {},
   "source": [
    "### Comparison of User Behavior Between Two Cities"
   ]
  },
  {
   "cell_type": "markdown",
   "id": "c4878e6c",
   "metadata": {},
   "source": [
    "The **first hypothesis** suggests that users listen to music differently in City Alpha and City Beta. Let's test this hypothesis by analyzing data from three days of the week—Monday, Wednesday, and Friday. The steps to do this are:\n",
    "\n",
    "* Separate the users from City Alpha and City Beta.\n",
    "* Compare how many tracks each group of users listened to on Monday, Wednesday, and Friday.\n",
    "* Evaluate user activity in each city by grouping the data by city and counting the number of listens in each group."
   ]
  },
  {
   "cell_type": "markdown",
   "id": "e4e1479f",
   "metadata": {},
   "source": [
    "**First, let's group the data by city and count the number of listens in each city:**"
   ]
  },
  {
   "cell_type": "code",
   "execution_count": 13,
   "id": "aef3921b",
   "metadata": {},
   "outputs": [
    {
     "data": {
      "text/plain": [
       "city\n",
       "Alpha    42741\n",
       "Beta     18512\n",
       "Name: genre, dtype: int64"
      ]
     },
     "execution_count": 13,
     "metadata": {},
     "output_type": "execute_result"
    }
   ],
   "source": [
    "df.groupby('city')['genre'].count() # Counting listens in each city"
   ]
  },
  {
   "cell_type": "markdown",
   "id": "9d16fd77",
   "metadata": {},
   "source": [
    "City Alpha has more listens than City Beta. However, this does not necessarily mean that users in City Alpha listen to music more frequently. It could simply be that there are more users in City Alpha."
   ]
  },
  {
   "cell_type": "markdown",
   "id": "c2a1adb9",
   "metadata": {},
   "source": [
    "**Next, group the data by the day of the week and count the number of listens on Monday, Wednesday, and Friday.** Note that the data only includes information for these three days."
   ]
  },
  {
   "cell_type": "code",
   "execution_count": 14,
   "id": "ee8a0019",
   "metadata": {},
   "outputs": [
    {
     "data": {
      "text/plain": [
       "day\n",
       "Friday       21840\n",
       "Monday       21354\n",
       "Wednesday    18059\n",
       "Name: genre, dtype: int64"
      ]
     },
     "execution_count": 14,
     "metadata": {},
     "output_type": "execute_result"
    }
   ],
   "source": [
    "df.groupby('day')['genre'].count() # Counting listens on each of the three days"
   ]
  },
  {
   "cell_type": "markdown",
   "id": "9e4d478e",
   "metadata": {},
   "source": [
    "On average, users from both cities are less active on Wednesdays. However, the pattern may differ when examining each city separately."
   ]
  },
  {
   "cell_type": "markdown",
   "id": "74bf3b45",
   "metadata": {},
   "source": [
    "To make this process more efficient, **we'll create a function `number_tracks()` that counts the number of listens for each combination of day and city.**"
   ]
  },
  {
   "cell_type": "code",
   "execution_count": 32,
   "id": "b1e370d5",
   "metadata": {},
   "outputs": [],
   "source": [
    "def number_tracks(day, city):\n",
    "    # Create a subset of the DataFrame for the specified day and city\n",
    "    track_list = df[(df['day'] == day) & (df['city'] == city)]\n",
    "    \n",
    "    # Count the number of user_id entries (which corresponds to the number of tracks)\n",
    "    track_list_count = track_list['user_id'].count()\n",
    "    \n",
    "    # Return the count of tracks\n",
    "    return track_list_count"
   ]
  },
  {
   "cell_type": "markdown",
   "id": "dcb57649",
   "metadata": {},
   "source": [
    "**Use the function to get the number of listens for each combination of day and city:**"
   ]
  },
  {
   "cell_type": "code",
   "execution_count": 33,
   "id": "aa8dc510",
   "metadata": {},
   "outputs": [
    {
     "name": "stdout",
     "output_type": "stream",
     "text": [
      "Track counts for Alpha:\n",
      "Monday: 15740 tracks\n",
      "Wednesday: 11056 tracks\n",
      "Friday: 15945 tracks\n",
      "------------------------------\n",
      "Track counts for Beta:\n",
      "Monday: 5614 tracks\n",
      "Wednesday: 7003 tracks\n",
      "Friday: 5895 tracks\n"
     ]
    }
   ],
   "source": [
    "# Print track counts for Alpha\n",
    "print(\"Track counts for Alpha:\")\n",
    "print(f\"Monday: {number_tracks('Monday', 'Alpha')} tracks\")\n",
    "print(f\"Wednesday: {number_tracks('Wednesday', 'Alpha')} tracks\")\n",
    "print(f\"Friday: {number_tracks('Friday', 'Alpha')} tracks\")\n",
    "print(\"-\" * 30)  # Line to separate the results for Alpha and Beta\n",
    "\n",
    "# Print track counts for Beta\n",
    "print(\"Track counts for Beta:\")\n",
    "print(f\"Monday: {number_tracks('Monday', 'Beta')} tracks\")\n",
    "print(f\"Wednesday: {number_tracks('Wednesday', 'Beta')} tracks\")\n",
    "print(f\"Friday: {number_tracks('Friday', 'Beta')} tracks\")"
   ]
  },
  {
   "cell_type": "markdown",
   "id": "88b7431c",
   "metadata": {},
   "source": [
    "**Create a table with the following columns — `['city', 'monday', 'wednesday', 'friday']` and data from the `number_tracks` function results:**"
   ]
  },
  {
   "cell_type": "code",
   "execution_count": 34,
   "id": "86027cd5",
   "metadata": {},
   "outputs": [
    {
     "data": {
      "text/html": [
       "<div>\n",
       "<style scoped>\n",
       "    .dataframe tbody tr th:only-of-type {\n",
       "        vertical-align: middle;\n",
       "    }\n",
       "\n",
       "    .dataframe tbody tr th {\n",
       "        vertical-align: top;\n",
       "    }\n",
       "\n",
       "    .dataframe thead th {\n",
       "        text-align: right;\n",
       "    }\n",
       "</style>\n",
       "<table border=\"1\" class=\"dataframe\">\n",
       "  <thead>\n",
       "    <tr style=\"text-align: right;\">\n",
       "      <th></th>\n",
       "      <th>city</th>\n",
       "      <th>monday</th>\n",
       "      <th>wednesday</th>\n",
       "      <th>friday</th>\n",
       "    </tr>\n",
       "  </thead>\n",
       "  <tbody>\n",
       "    <tr>\n",
       "      <th>0</th>\n",
       "      <td>Alpha</td>\n",
       "      <td>15740</td>\n",
       "      <td>11056</td>\n",
       "      <td>15945</td>\n",
       "    </tr>\n",
       "    <tr>\n",
       "      <th>1</th>\n",
       "      <td>Beta</td>\n",
       "      <td>5614</td>\n",
       "      <td>7003</td>\n",
       "      <td>5895</td>\n",
       "    </tr>\n",
       "  </tbody>\n",
       "</table>\n",
       "</div>"
      ],
      "text/plain": [
       "    city  monday  wednesday  friday\n",
       "0  Alpha   15740      11056   15945\n",
       "1   Beta    5614       7003    5895"
      ]
     },
     "execution_count": 34,
     "metadata": {},
     "output_type": "execute_result"
    }
   ],
   "source": [
    "info = pd.DataFrame(data=[['Alpha',15740,11056,15945],['Beta',5614,7003,5895]], columns=['city', 'monday', 'wednesday', 'friday']) \n",
    "info"
   ]
  },
  {
   "cell_type": "markdown",
   "id": "ede77429",
   "metadata": {},
   "source": [
    "**Conclusions**\n",
    "\n",
    "The data shows differences in user behavior:\n",
    "\n",
    "- In City Alpha, peak listens occur on Monday and Friday, with a drop on Wednesday.\n",
    "- In City Beta, music listening peaks on Wednesdays, with Monday and Friday showing nearly equal activity but lower than Wednesday.\n",
    "\n",
    "Thus, the data supports the first hypothesis."
   ]
  },
  {
   "cell_type": "markdown",
   "id": "5e58ea93",
   "metadata": {},
   "source": [
    "### Music at the Beginning and End of the Week\n",
    "According to the **second hypothesis**, different genres dominate in City Alpha and City Beta on Monday mornings and Friday evenings."
   ]
  },
  {
   "cell_type": "markdown",
   "id": "2b383f85",
   "metadata": {},
   "source": [
    "**Save the data for each city in two variables: `alpha_general` and `beta_general`.**"
   ]
  },
  {
   "cell_type": "code",
   "execution_count": 35,
   "id": "7ff915a9",
   "metadata": {},
   "outputs": [],
   "source": [
    "alpha_general = df[df['city'] == 'Alpha']  # Data for City Alpha\n",
    "beta_general = df[df['city'] == 'Beta']  # Data for City Beta"
   ]
  },
  {
   "cell_type": "markdown",
   "id": "b78e473b",
   "metadata": {},
   "source": [
    "**Create a function `genre_weekday()` to analyze the top 10 genres for a given day and time range:**"
   ]
  },
  {
   "cell_type": "code",
   "execution_count": 36,
   "id": "1d8686fb",
   "metadata": {},
   "outputs": [],
   "source": [
    "def genre_weekday(df, day, time1, time2): \n",
    "    genre_df = df[df['day'] == day] # Filter by day\n",
    "    genre_df = genre_df [genre_df ['time'] > time1] # Filter by start time\n",
    "    genre_df = genre_df [genre_df ['time'] < time2] # Filter by end time\n",
    "    \n",
    "    genre_df_grouped = genre_df.groupby('genre')['genre'].count() # Group by genre and count occurrences\n",
    "    genre_df_sorted = genre_df_grouped.sort_values(ascending=False) # Sort genres by count\n",
    "    return genre_df_sorted[:10] # Return top 10 genres"
   ]
  },
  {
   "cell_type": "markdown",
   "id": "97816bbd",
   "metadata": {},
   "source": [
    "**Compare the results for Monday morning (7:00 to 11:00) and Friday evening (17:00 to 23:00) for both cities:**"
   ]
  },
  {
   "cell_type": "code",
   "execution_count": 48,
   "id": "b891b4f2",
   "metadata": {},
   "outputs": [
    {
     "name": "stdout",
     "output_type": "stream",
     "text": [
      "top 10 genres for City Alpha:\n",
      "\n",
      "Monday morning \n",
      "genre\n",
      "pop            781\n",
      "dance          549\n",
      "electronic     480\n",
      "rock           474\n",
      "hiphop         286\n",
      "ruspop         186\n",
      "world          181\n",
      "rusrap         175\n",
      "alternative    164\n",
      "unknown        161\n",
      "Name: genre, dtype: int64\n",
      "\n",
      "Friday evening \n",
      "genre\n",
      "pop            713\n",
      "rock           517\n",
      "dance          495\n",
      "electronic     482\n",
      "hiphop         273\n",
      "world          208\n",
      "ruspop         170\n",
      "alternative    163\n",
      "classical      163\n",
      "rusrap         142\n",
      "Name: genre, dtype: int64\n",
      "------------------------------\n",
      "top 10 genres for City Beta:\n",
      "\n",
      "Monday morning \n",
      "genre\n",
      "pop            218\n",
      "dance          182\n",
      "rock           162\n",
      "electronic     147\n",
      "hiphop          80\n",
      "ruspop          64\n",
      "alternative     58\n",
      "rusrap          55\n",
      "jazz            44\n",
      "classical       40\n",
      "Name: genre, dtype: int64\n",
      "\n",
      "Friday evening \n",
      "genre\n",
      "pop            256\n",
      "electronic     216\n",
      "rock           216\n",
      "dance          210\n",
      "hiphop          97\n",
      "alternative     63\n",
      "jazz            61\n",
      "classical       60\n",
      "rusrap          59\n",
      "world           54\n",
      "Name: genre, dtype: int64\n"
     ]
    }
   ],
   "source": [
    "print(\"top 10 genres for City Alpha:\")\n",
    "# Results for City Alpha on Monday morning\n",
    "print(f\"\\nMonday morning \\n{genre_weekday(alpha_general, 'Monday', '07:00', '11:00')}\") \n",
    "\n",
    "# Results for City Alpha on Friday evening\n",
    "print(f\"\\nFriday evening \\n{genre_weekday(alpha_general, 'Friday', '17:00', '23:00')}\")\n",
    "print(\"-\" * 30) \n",
    "\n",
    "print(\"top 10 genres for City Beta:\")\n",
    "# Results for City Beta on Monday morning\n",
    "print(f\"\\nMonday morning \\n{genre_weekday(beta_general, 'Monday', '07:00', '11:00')}\")\n",
    "\n",
    "# Results for City Beta on Friday evening\n",
    "print(f\"\\nFriday evening \\n{genre_weekday(beta_general, 'Friday', '17:00', '23:00')}\")"
   ]
  },
  {
   "cell_type": "markdown",
   "id": "4286d68f",
   "metadata": {},
   "source": [
    "**Conclusions**\n",
    "\n",
    "When comparing the top 10 genres on Monday morning, the following observations can be made:\n",
    "\n",
    "1. In both City Alpha and City Beta, people listen to similar music. The only notable difference is that the genre \"world\" appears in the top 10 for City Alpha, while \"jazz\" and \"classical\" make the top 10 in City Beta.\n",
    "\n",
    "2. The presence of missing values in the data is significant, especially in City Alpha, where the genre labeled as 'unknown' ranks as the 10th most popular genre. This indicates that the missing data may significantly impact the reliability of the analysis.\n",
    "\n",
    "Friday evening does not alter this pattern. Some genres rise slightly in popularity, while others drop, but the overall top 10 remains largely the same.\n",
    "\n",
    "Thus, the second hypothesis is only partially confirmed:\n",
    "\n",
    "* Users listen to similar music at the beginning and end of the week.\n",
    "* The difference between City Alpha and City Beta is not very pronounced. City Alpha sees more frequent listening of Russian pop music, while City Beta favors jazz.\n",
    "\n",
    "However, the presence of missing data casts doubt on this result. The large number of missing entries in City Alpha suggests that the top 10 list could look different if the lost genre data were available."
   ]
  },
  {
   "cell_type": "markdown",
   "id": "f006e26b",
   "metadata": {},
   "source": [
    "### Genre Preferences in Alpha and Beta\n",
    "\n",
    "The **third hypothesis** suggests that Beta is the capital of rap, where this genre is more frequently listened to than in Alpha. Meanwhile, Alpha is seen as a city of contrasts, but with a predominant preference for pop music."
   ]
  },
  {
   "cell_type": "markdown",
   "id": "a3292214",
   "metadata": {},
   "source": [
    "**Group the  `alpha_general`dataframe by genre and count the number of track plays for each genre. Then, sort the results in descending order and save them in the `alpha_genres` dataframe.**"
   ]
  },
  {
   "cell_type": "code",
   "execution_count": 49,
   "id": "6eb6cd7d",
   "metadata": {},
   "outputs": [],
   "source": [
    "alpha_genres = alpha_general.groupby('genre')['genre'].count() # Group by genre and count track plays\n",
    "alpha_genres = alpha_genres.sort_values(ascending=False) # Sort the result in descending order"
   ]
  },
  {
   "cell_type": "markdown",
   "id": "0d732035",
   "metadata": {},
   "source": [
    "**Display the top 10 genres in Alpha:**"
   ]
  },
  {
   "cell_type": "code",
   "execution_count": 53,
   "id": "393a8808",
   "metadata": {},
   "outputs": [
    {
     "data": {
      "text/plain": [
       "genre\n",
       "pop            5892\n",
       "dance          4435\n",
       "rock           3965\n",
       "electronic     3786\n",
       "hiphop         2096\n",
       "classical      1616\n",
       "world          1432\n",
       "alternative    1379\n",
       "ruspop         1372\n",
       "rusrap         1161\n",
       "Name: genre, dtype: int64"
      ]
     },
     "execution_count": 53,
     "metadata": {},
     "output_type": "execute_result"
    }
   ],
   "source": [
    "alpha_genres.head(10) # Display the first 10 rows of alpha_genres"
   ]
  },
  {
   "cell_type": "markdown",
   "id": "2a773e73",
   "metadata": {},
   "source": [
    "**Repeat the same process for the `beta_general` dataframe: group by genre, count the track plays, and sort the results in descending order. Save the results in the `beta_genres` dataframe.**"
   ]
  },
  {
   "cell_type": "code",
   "execution_count": 54,
   "id": "d19f2526",
   "metadata": {},
   "outputs": [],
   "source": [
    "beta_genres = beta_general.groupby('genre')['genre'].count() # одной строкой: группировка таблицы spb_general по столбцу 'genre', подсчёт числа значений 'genre' в этой группировке методом count(),\n",
    "beta_genres = beta_genres.sort_values(ascending=False) # сортировка получившегося Series в порядке убывания и сохранение в spb_genres"
   ]
  },
  {
   "cell_type": "markdown",
   "id": "c7ca4981",
   "metadata": {},
   "source": [
    "**Display the top 10 genres in Beta:**"
   ]
  },
  {
   "cell_type": "code",
   "execution_count": 55,
   "id": "bfa74221",
   "metadata": {},
   "outputs": [
    {
     "data": {
      "text/plain": [
       "genre\n",
       "pop            2431\n",
       "dance          1932\n",
       "rock           1879\n",
       "electronic     1736\n",
       "hiphop          960\n",
       "alternative     649\n",
       "classical       646\n",
       "rusrap          564\n",
       "ruspop          538\n",
       "world           515\n",
       "Name: genre, dtype: int64"
      ]
     },
     "execution_count": 55,
     "metadata": {},
     "output_type": "execute_result"
    }
   ],
   "source": [
    "beta_genres.head(10) # Display the first 10 rows of beta_genres"
   ]
  },
  {
   "cell_type": "markdown",
   "id": "20869bd5",
   "metadata": {},
   "source": [
    "**Conclusions**\n",
    "\n",
    "The hypothesis is partially confirmed:\n",
    "\n",
    "* Pop music is indeed the most popular genre in City Alpha, as the hypothesis suggested. Moreover, a related genre, Russian pop music, is also in the top 10.\n",
    "* Contrary to the expectation, hip-hop is equally popular in both City Alpha and City Beta.\n",
    "\n",
    "This implies that while City Alpha has a strong preference for pop music, the idea that City Beta is the capital of rap is not entirely supported by the data."
   ]
  },
  {
   "cell_type": "markdown",
   "id": "2334bc4e",
   "metadata": {},
   "source": [
    "## Research Summary"
   ]
  },
  {
   "cell_type": "markdown",
   "id": "f574c369",
   "metadata": {},
   "source": [
    "We tested three hypotheses and found the following:\n",
    "\n",
    "1. Day of the week influences user activity differently in Alpha and Beta.\n",
    "\n",
    "The first hypothesis was fully confirmed.\n",
    "\n",
    "2. Musical preferences remain relatively stable throughout the week in both Alpha and Beta. Slight differences were observed at the beginning of the week, on Mondays:\n",
    "* In Alpha, the \"world\" genre is more popular.\n",
    "* In Beta, jazz and classical music are preferred.\n",
    "\n",
    "Thus, the second hypothesis was only partially confirmed. This result might have been different if there were no missing data.\n",
    "\n",
    "3. The musical tastes of users in Alpha and Beta have more in common than differences. Contrary to expectations, genre preferences in Beta closely resemble those in Alpha.\n",
    "\n",
    "The third hypothesis was not confirmed. If differences in preferences do exist, they are not noticeable among the majority of users."
   ]
  }
 ],
 "metadata": {
  "kernelspec": {
   "display_name": "Python 3 (ipykernel)",
   "language": "python",
   "name": "python3"
  },
  "language_info": {
   "codemirror_mode": {
    "name": "ipython",
    "version": 3
   },
   "file_extension": ".py",
   "mimetype": "text/x-python",
   "name": "python",
   "nbconvert_exporter": "python",
   "pygments_lexer": "ipython3",
   "version": "3.11.5"
  },
  "toc": {
   "base_numbering": 1,
   "nav_menu": {},
   "number_sections": true,
   "sideBar": true,
   "skip_h1_title": true,
   "title_cell": "Table of Contents",
   "title_sidebar": "Contents",
   "toc_cell": true,
   "toc_position": {},
   "toc_section_display": true,
   "toc_window_display": false
  }
 },
 "nbformat": 4,
 "nbformat_minor": 5
}
